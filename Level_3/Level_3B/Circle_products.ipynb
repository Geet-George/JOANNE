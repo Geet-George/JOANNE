{
 "cells": [
  {
   "cell_type": "code",
   "execution_count": 52,
   "metadata": {
    "ExecuteTime": {
     "end_time": "2020-03-31T18:17:25.211457Z",
     "start_time": "2020-03-31T18:17:20.714431Z"
    }
   },
   "outputs": [],
   "source": [
    "import xarray as xr\n",
    "import numpy as np\n",
    "import pandas as pd\n",
    "from pylab import *\n",
    "from datetime import date\n",
    "\n",
    "from scipy.interpolate import griddata\n",
    "\n",
    "import matplotlib.pyplot as plt\n",
    "import matplotlib.ticker as mticker\n",
    "from mpl_toolkits.axes_grid1 import make_axes_locatable\n",
    "import matplotlib.dates as mdates\n",
    "import matplotlib.colors\n",
    "\n",
    "import yaml\n",
    "import glob\n",
    "\n",
    "import metpy\n",
    "import metpy.calc as mpcalc\n",
    "from metpy.units import units\n",
    "# from metpy.future import precipitable_water\n",
    "\n",
    "from tqdm import tqdm_notebook as tqdm\n",
    "from tqdm import trange\n",
    "\n",
    "from pandas import DataFrame\n",
    "from sklearn import linear_model"
   ]
  },
  {
   "cell_type": "code",
   "execution_count": 29,
   "metadata": {},
   "outputs": [],
   "source": [
    "allyamlfiles = sorted(glob.glob('*.yaml'))\n",
    "all_sondes = xr.open_dataset('all_sondes.nc')\n",
    "all_sondes = all_sondes.where(all_sondes.Platform == 'HALO',drop=True)\n",
    "\n",
    "circle_times = []\n",
    "flight_date = []\n",
    "\n",
    "for i in allyamlfiles :\n",
    "    with open(i) as source:\n",
    "        flightinfo = yaml.load(source, Loader=yaml.SafeLoader)\n",
    "\n",
    "    circle_times.append([(c[\"start\"], c[\"end\"]) \n",
    "                         for c in flightinfo[\"segments\"] if c[\"kind\"] == \"circle\"])\n",
    "    flight_date.append(np.datetime64(date.strftime(flightinfo['date'],'%Y-%m-%d')))\n",
    "\n",
    "circles = []\n",
    "\n",
    "for i in range(len(flight_date)) :\n",
    "    for j in range(len(circle_times[i])) :\n",
    "        circles.append(all_sondes.sel(launch_time=slice(circle_times[i][j][0] - datetime.timedelta(minutes=2),\n",
    "                                                        circle_times[i][j][1] + datetime.timedelta(minutes=2))))"
   ]
  },
  {
   "cell_type": "code",
   "execution_count": 8,
   "metadata": {},
   "outputs": [],
   "source": [
    "all_circles = xr.open_dataset('circle_products.nc')\n",
    "all_sondes = xr.open_dataset('all_sondes.nc')"
   ]
  },
  {
   "cell_type": "code",
   "execution_count": 53,
   "metadata": {},
   "outputs": [
    {
     "data": {
      "text/plain": [
       "[<matplotlib.lines.Line2D at 0x11d000790>]"
      ]
     },
     "execution_count": 53,
     "metadata": {},
     "output_type": "execute_result"
    },
    {
     "data": {
      "image/png": "[encoded data removed]",
      "text/plain": [
       "<Figure size 432x288 with 1 Axes>"
      ]
     },
     "metadata": {
      "needs_background": "light"
     },
     "output_type": "display_data"
    }
   ],
   "source": [
    "plt.plot(all_circles.sel(circle='0205C6').omega)"
   ]
  },
  {
   "cell_type": "code",
   "execution_count": 33,
   "metadata": {},
   "outputs": [
    {
     "data": {
      "text/html": [
       "<pre>&lt;xarray.DataArray &#x27;w_wind&#x27; (launch_time: 10, alt: 910)&gt;\n",
       "array([[        nan,         nan, -0.39581711, ..., -1.1497867 ,\n",
       "        -1.12431057, -1.11134532],\n",
       "       [        nan, -0.84362294, -0.79976003, ..., -1.4236456 ,\n",
       "        -1.42060015, -1.41344259],\n",
       "       [        nan,         nan,  0.31357752, ..., -0.87915933,\n",
       "        -0.88699151, -0.91172039],\n",
       "       ...,\n",
       "       [        nan,         nan, -0.38551369, ..., -1.19195309,\n",
       "        -1.21795993, -1.23778603],\n",
       "       [        nan,         nan, -0.94361918, ..., -2.18719668,\n",
       "        -2.22171496, -2.24136218],\n",
       "       [        nan, -0.39483201, -0.40301518, ..., -0.83558017,\n",
       "        -0.8441771 , -0.86169831]])\n",
       "Coordinates:\n",
       "  * launch_time  (launch_time) datetime64[ns] 2020-02-02T11:52:31 ... 2020-02-02T12:38:03\n",
       "  * alt          (alt) int64 0 10 20 30 40 50 ... 9040 9050 9060 9070 9080 9090\n",
       "Attributes:\n",
       "    long_name:      vertical component of winds\n",
       "    units:          m/s\n",
       "    standard_name:  upward_air_velocity</pre>"
      ],
      "text/plain": [
       "<xarray.DataArray 'w_wind' (launch_time: 10, alt: 910)>\n",
       "array([[        nan,         nan, -0.39581711, ..., -1.1497867 ,\n",
       "        -1.12431057, -1.11134532],\n",
       "       [        nan, -0.84362294, -0.79976003, ..., -1.4236456 ,\n",
       "        -1.42060015, -1.41344259],\n",
       "       [        nan,         nan,  0.31357752, ..., -0.87915933,\n",
       "        -0.88699151, -0.91172039],\n",
       "       ...,\n",
       "       [        nan,         nan, -0.38551369, ..., -1.19195309,\n",
       "        -1.21795993, -1.23778603],\n",
       "       [        nan,         nan, -0.94361918, ..., -2.18719668,\n",
       "        -2.22171496, -2.24136218],\n",
       "       [        nan, -0.39483201, -0.40301518, ..., -0.83558017,\n",
       "        -0.8441771 , -0.86169831]])\n",
       "Coordinates:\n",
       "  * launch_time  (launch_time) datetime64[ns] 2020-02-02T11:52:31 ... 2020-02-02T12:38:03\n",
       "  * alt          (alt) int64 0 10 20 30 40 50 ... 9040 9050 9060 9070 9080 9090\n",
       "Attributes:\n",
       "    long_name:      vertical component of winds\n",
       "    units:          m/s\n",
       "    standard_name:  upward_air_velocity"
      ]
     },
     "execution_count": 33,
     "metadata": {},
     "output_type": "execute_result"
    }
   ],
   "source": [
    "circles[i].w_wind#.mean(dim='launch_time')"
   ]
  },
  {
   "cell_type": "code",
   "execution_count": 42,
   "metadata": {},
   "outputs": [
    {
     "data": {
      "text/plain": [
       "[<matplotlib.lines.Line2D at 0x11c34bf90>]"
      ]
     },
     "execution_count": 42,
     "metadata": {},
     "output_type": "execute_result"
    },
    {
     "data": {
      "image/png": "[encoded data removed]",
      "text/plain": [
       "<Figure size 432x288 with 1 Axes>"
      ]
     },
     "metadata": {
      "needs_background": "light"
     },
     "output_type": "display_data"
    }
   ],
   "source": [
    "i = 22\n",
    "for j in circles[i].launch_time :\n",
    "    plt.plot(circles[i].w_wind.sel(launch_time=j),circles[i].alt,c='grey',alpha=0.5,linewidth=0.5)\n",
    "    \n",
    "plt.plot(all_circles.isel(circle=i).w,all_circles.height,c='r',linewidth=2)"
   ]
  },
  {
   "cell_type": "code",
   "execution_count": 71,
   "metadata": {},
   "outputs": [],
   "source": [
    "pre = xr.open_dataset('pre_eurec4a_soundings_1989_to_2019_v0.1.nc')\n",
    "rh = mpcalc.relative_humidity_from_dewpoint(pre.temperature.values*units.degC,\n",
    "                                           pre.dewpoint.values*units.degC).magnitude\n",
    "\n",
    "pre['rh'] = (['date_and_time','height'],rh*100)\n",
    "pre['speed'] = (['date_and_time','height'],pre.speed*0.5144)\n",
    "pre['u_wind'] = (['date_and_time','height'],pre.u_wind*0.5144)\n",
    "pre['v_wind'] = (['date_and_time','height'],pre.v_wind*0.5144)\n",
    "\n",
    "eur = xr.open_dataset('all_sondes.nc')"
   ]
  },
  {
   "cell_type": "code",
   "execution_count": 90,
   "metadata": {},
   "outputs": [
    {
     "data": {
      "image/png": "[encoded data removed]",
      "text/plain": [
       "<Figure size 864x288 with 7 Axes>"
      ]
     },
     "metadata": {
      "needs_background": "light"
     },
     "output_type": "display_data"
    }
   ],
   "source": [
    "pre_var = ('rh','temperature','speed','direction','u_wind','v_wind','pressure')\n",
    "eur_var = ('rh','tdry','wspd','wdir','u_wind','v_wind','pres')\n",
    "xlabels = ('RH\\n/ %', 'T\\n/ $\\degree$C', 'Wind Spd\\n/ m s$^{-1}$','Wind Dir\\n/ $\\degree E$','u\\n/ m s$^{-1}$','v\\n/ m s$^{-1}$','Pressure\\n/ hPa')\n",
    "\n",
    "f,ax = plt.subplots(1,len(pre_var),sharey=True,figsize=(12,4))\n",
    "\n",
    "for g,i in enumerate(pre_var) :\n",
    "    mean = pre[i].mean(dim='date_and_time')\n",
    "    std = pre[i].std(dim='date_and_time')\n",
    "    ax[g].plot(mean,\n",
    "              pre.height/1000,linewidth = 2, color = 'grey',label='TBPB')\n",
    "    \n",
    "    ax[g].fill_betweenx(\n",
    "        pre.height/1000,\n",
    "        mean - std,\n",
    "        mean + std, color = 'grey', alpha=0.3)\n",
    "    \n",
    "    ax[g].set_xlabel(xlabels[g],fontsize=14)\n",
    "\n",
    "for g,i in enumerate(eur_var) :\n",
    "    mean = eur[i].mean(dim='launch_time')\n",
    "    std = eur[i].std(dim='launch_time')\n",
    "    ax[g].plot(mean,\n",
    "              eur.alt/1000,linewidth = 2, color = 'steelblue',label='EUREC4A')\n",
    "    \n",
    "    ax[g].fill_betweenx(\n",
    "        eur.alt/1000,\n",
    "        mean - std,\n",
    "        mean + std, color = 'steelblue', alpha=0.3)\n",
    "    ax[g].set_ylim(0,9)\n",
    "    \n",
    "    \n",
    "    if g == len(eur_var)-1 :\n",
    "        ax[g].legend(loc=1,bbox_to_anchor=(1.7, 0.95))\n",
    "        \n",
    "    [ax[g].spines[m].set_visible(False) for m in ['right','top','left']]\n",
    "    \n",
    "    if g == 0 :\n",
    "        ax[g].set_ylabel('Altitude / km',fontsize=14)\n",
    "        \n",
    "plt.savefig('EUREC4A_vs_TBPB_9km.jpg',dpi=300)"
   ]
  },
  {
   "cell_type": "code",
   "execution_count": 74,
   "metadata": {},
   "outputs": [
    {
     "data": {
      "image/png": "[encoded data removed]",
      "text/plain": [
       "<Figure size 864x288 with 7 Axes>"
      ]
     },
     "metadata": {
      "needs_background": "light"
     },
     "output_type": "display_data"
    }
   ],
   "source": [
    "pre_var = ('rh','temperature','speed','direction','u_wind','v_wind','pressure')\n",
    "eur_var = ('rh','tdry','wspd','wdir','u_wind','v_wind','pres')\n",
    "xlabels = ('RH\\n/ %', 'T\\n/ $\\degree$C', 'Wind Spd\\n/ m s$^{-1}$','Wind Dir\\n/ $\\degree E$','u\\n/ m s$^{-1}$','v\\n/ m s$^{-1}$','Pressure\\n/ hPa')\n",
    "\n",
    "f,ax = plt.subplots(1,len(pre_var),sharey=True,figsize=(12,4))\n",
    "\n",
    "for g,i in enumerate(pre_var) :\n",
    "    mean = pre[i].sel(height=slice(0,4000)).mean(dim='date_and_time')\n",
    "    std = pre[i].sel(height=slice(0,4000)).std(dim='date_and_time')\n",
    "    ax[g].plot(mean,\n",
    "              pre.sel(height=slice(0,4000)).height/1000,linewidth = 2, color = 'grey',label='TBPB')\n",
    "    \n",
    "    ax[g].fill_betweenx(\n",
    "        pre.sel(height=slice(0,4000)).height/1000,\n",
    "        mean - std,\n",
    "        mean + std, color = 'grey', alpha=0.3)\n",
    "    \n",
    "    ax[g].set_xlabel(xlabels[g],fontsize=14)\n",
    "\n",
    "for g,i in enumerate(eur_var) :\n",
    "    mean = eur[i].sel(alt=slice(0,4000)).mean(dim='launch_time')\n",
    "    std = eur[i].sel(alt=slice(0,4000)).std(dim='launch_time')\n",
    "    ax[g].plot(mean,\n",
    "              eur.sel(alt=slice(0,4000)).alt/1000,linewidth = 2, color = 'steelblue',label='EUREC4A')\n",
    "    \n",
    "    ax[g].fill_betweenx(\n",
    "        eur.sel(alt=slice(0,4000)).alt/1000,\n",
    "        mean - std,\n",
    "        mean + std, color = 'steelblue', alpha=0.3)\n",
    "    ax[g].set_ylim(0,4)\n",
    "    \n",
    "    \n",
    "    if g == len(eur_var)-1 :\n",
    "        ax[g].legend(loc=1,bbox_to_anchor=(1.7, 0.95))\n",
    "        \n",
    "    [ax[g].spines[m].set_visible(False) for m in ['right','top','left']]\n",
    "    \n",
    "    if g == 0 :\n",
    "        ax[g].set_ylabel('Altitude / km',fontsize=14)\n",
    "        \n",
    "plt.savefig('EUREC4A_vs_TBPB_4km.jpg',dpi=300)"
   ]
  },
  {
   "cell_type": "code",
   "execution_count": 7,
   "metadata": {
    "ExecuteTime": {
     "end_time": "2020-03-31T18:17:29.419586Z",
     "start_time": "2020-03-31T18:17:28.894922Z"
    }
   },
   "outputs": [],
   "source": [
    "allyamlfiles = sorted(glob.glob('*.yaml'))\n",
    "all_sondes = xr.open_dataset('all_sondes.nc')\n",
    "all_sondes = all_sondes.where(all_sondes.Platform == 'HALO',drop=True)\n",
    "\n",
    "circle_times = []\n",
    "flight_date = []\n",
    "\n",
    "for i in allyamlfiles[0:1] :\n",
    "    with open(i) as source:\n",
    "        flightinfo = yaml.load(source, Loader=yaml.SafeLoader)\n",
    "\n",
    "    circle_times.append([(c[\"start\"], c[\"end\"]) \n",
    "                         for c in flightinfo[\"segments\"] if c[\"kind\"] == \"circle\"])\n",
    "    flight_date.append(np.datetime64(date.strftime(flightinfo['date'],'%Y-%m-%d')))\n",
    "\n",
    "circles = []\n",
    "\n",
    "for i in range(len(flight_date)) :\n",
    "    for j in range(len(circle_times[i])) :\n",
    "        circles.append(all_sondes.sel(launch_time=slice(circle_times[i][j][0] - datetime.timedelta(minutes=2),\n",
    "                                                        circle_times[i][j][1] + datetime.timedelta(minutes=2))))"
   ]
  },
  {
   "cell_type": "code",
   "execution_count": 12,
   "metadata": {},
   "outputs": [
    {
     "data": {
      "text/html": [
       "<pre>&lt;xarray.DataArray &#x27;q&#x27; (launch_time: 12, alt: 910)&gt;\n",
       "array([[       nan,        nan, 0.0134758 , ..., 0.00038424, 0.00038179,\n",
       "        0.00037906],\n",
       "       [       nan,        nan, 0.01308129, ..., 0.0003648 , 0.0003625 ,\n",
       "        0.00035992],\n",
       "       [       nan,        nan, 0.013104  , ..., 0.00035423, 0.00035293,\n",
       "        0.00035136],\n",
       "       ...,\n",
       "       [       nan, 0.01543274, 0.01536033, ..., 0.00037821, 0.00037876,\n",
       "        0.00037957],\n",
       "       [       nan,        nan,        nan, ..., 0.0003922 , 0.00039465,\n",
       "        0.00039751],\n",
       "       [       nan,        nan, 0.01414427, ..., 0.00038225, 0.00038167,\n",
       "        0.00038124]])\n",
       "Coordinates:\n",
       "  * launch_time  (launch_time) datetime64[ns] 2020-01-22T15:18:15 ... 2020-01-22T16:12:57\n",
       "  * alt          (alt) int64 0 10 20 30 40 50 ... 9040 9050 9060 9070 9080 9090</pre>"
      ],
      "text/plain": [
       "<xarray.DataArray 'q' (launch_time: 12, alt: 910)>\n",
       "array([[       nan,        nan, 0.0134758 , ..., 0.00038424, 0.00038179,\n",
       "        0.00037906],\n",
       "       [       nan,        nan, 0.01308129, ..., 0.0003648 , 0.0003625 ,\n",
       "        0.00035992],\n",
       "       [       nan,        nan, 0.013104  , ..., 0.00035423, 0.00035293,\n",
       "        0.00035136],\n",
       "       ...,\n",
       "       [       nan, 0.01543274, 0.01536033, ..., 0.00037821, 0.00037876,\n",
       "        0.00037957],\n",
       "       [       nan,        nan,        nan, ..., 0.0003922 , 0.00039465,\n",
       "        0.00039751],\n",
       "       [       nan,        nan, 0.01414427, ..., 0.00038225, 0.00038167,\n",
       "        0.00038124]])\n",
       "Coordinates:\n",
       "  * launch_time  (launch_time) datetime64[ns] 2020-01-22T15:18:15 ... 2020-01-22T16:12:57\n",
       "  * alt          (alt) int64 0 10 20 30 40 50 ... 9040 9050 9060 9070 9080 9090"
      ]
     },
     "execution_count": 12,
     "metadata": {},
     "output_type": "execute_result"
    }
   ],
   "source": [
    "circles[0].q"
   ]
  },
  {
   "cell_type": "code",
   "execution_count": 245,
   "metadata": {},
   "outputs": [],
   "source": [
    "nan_counts = []\n",
    "launch_times = []\n",
    "\n",
    "for j in range(len(circles)) :\n",
    "    for i in range(len(circles[j].launch_time)) :\n",
    "        nan_counts.append(np.isnan(circles[j].u_wind.isel(launch_time=i)).sum().values)\n",
    "        launch_times.append(circles[j].launch_time.isel(launch_time=i).values)"
   ]
  },
  {
   "cell_type": "code",
   "execution_count": 246,
   "metadata": {},
   "outputs": [
    {
     "data": {
      "image/png": "[encoded data removed]",
      "text/plain": [
       "<Figure size 864x360 with 1 Axes>"
      ]
     },
     "metadata": {
      "needs_background": "light"
     },
     "output_type": "display_data"
    }
   ],
   "source": [
    "plt.figure(figsize=(12,5))\n",
    "plt.plot(launch_times,nan_counts)\n",
    "plt.xlabel('Time / UTC')\n",
    "plt.ylabel('NaN Counts for theta')\n",
    "plt.xticks(plt.gca().get_xticks()[1::2])\n",
    "plt.savefig('NaN Counts for profiles.pdf')\n",
    "# nan_counts"
   ]
  },
  {
   "cell_type": "code",
   "execution_count": 247,
   "metadata": {},
   "outputs": [
    {
     "name": "stderr",
     "output_type": "stream",
     "text": [
      "/Users/geet/anaconda3/lib/python3.7/site-packages/xarray/core/nanops.py:142: RuntimeWarning: Mean of empty slice\n",
      "  return np.nanmean(a, axis=axis, dtype=dtype)\n"
     ]
    }
   ],
   "source": [
    "for i in range(len(circles)) :\n",
    "\n",
    "        x_coor = circles[i]['lon']*111.320*cos(np.radians(circles[i]['lat']))*1000\n",
    "        y_coor = circles[i]['lat']*110.54*1000\n",
    "\n",
    "        # converting from lat, lon to coordinates in metre from (0,0). \n",
    "\n",
    "        xc = [None] * len(x_coor.T)\n",
    "        yc = [None] * len(y_coor.T)\n",
    "\n",
    "        xc = np.mean(x_coor,axis=0)\n",
    "        yc = np.mean(y_coor,axis=0)\n",
    "\n",
    "        delta_x = (x_coor - xc)#*111*1000 # difference of sonde long from mean long\n",
    "        delta_y = (y_coor - yc)#*111*1000 # difference of sonde lat from mean lat\n",
    "\n",
    "        u_o = np.mean(circles[i]['u_wind'],axis=0) # mean u velocity\n",
    "        v_o = np.mean(circles[i]['v_wind'],axis=0) # mean v velocity\n",
    "\n",
    "        delta_u = circles[i]['u_wind'] - u_o # difference of sonde u from mean u\n",
    "        delta_v = circles[i]['v_wind'] - v_o # difference of sonde v from mean v\n",
    "\n",
    "        y_u = delta_u/delta_y # yu (ratio; delta u & delta y: refer notes)\n",
    "        y_v = delta_v/delta_y # yv (ratio; delta v & delta y: refer notes)\n",
    "\n",
    "        x = delta_x/delta_y # x (ratio; delta x & delta y: refer notes)\n",
    "\n",
    "        circles[i]['dx'] = (['launch_time','alt'],delta_x)\n",
    "        circles[i]['dy'] = (['launch_time','alt'],delta_y)\n",
    "        circles[i]['qu'] = (['launch_time','alt'],\n",
    "                            circles[i]['q']*circles[i]['u_wind'])\n",
    "        circles[i]['qv'] = (['launch_time','alt'],\n",
    "                            circles[i]['q']*circles[i]['v_wind'])\n",
    "        circles[i]['Tu'] = (['launch_time','alt'],\n",
    "                            (circles[i]['tdry']+ 273.15)*circles[i]['u_wind'] )\n",
    "        circles[i]['Tv'] = (['launch_time','alt'],\n",
    "                            (circles[i]['tdry']+ 273.15)*circles[i]['v_wind'] )"
   ]
  },
  {
   "cell_type": "code",
   "execution_count": 316,
   "metadata": {
    "ExecuteTime": {
     "end_time": "2020-03-31T18:38:26.519507Z",
     "start_time": "2020-03-31T18:17:39.053115Z"
    }
   },
   "outputs": [
    {
     "name": "stderr",
     "output_type": "stream",
     "text": [
      "/Users/geet/anaconda3/lib/python3.7/site-packages/ipykernel_launcher.py:30: TqdmDeprecationWarning: This function will be removed in tqdm==5.0.0\n",
      "Please use `tqdm.notebook.tqdm` instead of `tqdm.tqdm_notebook`\n"
     ]
    },
    {
     "data": {
      "application/vnd.jupyter.widget-view+json": {
       "model_id": "14001bcb34684f609134b7c96377dd5e",
       "version_major": 2,
       "version_minor": 0
      },
      "text/plain": [
       "HBox(children=(FloatProgress(value=0.0, max=48.0), HTML(value='')))"
      ]
     },
     "metadata": {},
     "output_type": "display_data"
    },
    {
     "name": "stderr",
     "output_type": "stream",
     "text": [
      "/Users/geet/anaconda3/lib/python3.7/site-packages/ipykernel_launcher.py:107: RuntimeWarning: Mean of empty slice\n",
      "/Users/geet/anaconda3/lib/python3.7/site-packages/ipykernel_launcher.py:107: RuntimeWarning: Mean of empty slice\n",
      "/Users/geet/anaconda3/lib/python3.7/site-packages/ipykernel_launcher.py:107: RuntimeWarning: Mean of empty slice\n",
      "/Users/geet/anaconda3/lib/python3.7/site-packages/ipykernel_launcher.py:107: RuntimeWarning: Mean of empty slice\n",
      "/Users/geet/anaconda3/lib/python3.7/site-packages/ipykernel_launcher.py:107: RuntimeWarning: Mean of empty slice\n",
      "/Users/geet/anaconda3/lib/python3.7/site-packages/ipykernel_launcher.py:107: RuntimeWarning: Mean of empty slice\n",
      "/Users/geet/anaconda3/lib/python3.7/site-packages/ipykernel_launcher.py:107: RuntimeWarning: Mean of empty slice\n",
      "/Users/geet/anaconda3/lib/python3.7/site-packages/ipykernel_launcher.py:107: RuntimeWarning: Mean of empty slice\n",
      "/Users/geet/anaconda3/lib/python3.7/site-packages/ipykernel_launcher.py:107: RuntimeWarning: Mean of empty slice\n",
      "/Users/geet/anaconda3/lib/python3.7/site-packages/ipykernel_launcher.py:107: RuntimeWarning: Mean of empty slice\n",
      "/Users/geet/anaconda3/lib/python3.7/site-packages/ipykernel_launcher.py:107: RuntimeWarning: Mean of empty slice\n",
      "/Users/geet/anaconda3/lib/python3.7/site-packages/ipykernel_launcher.py:107: RuntimeWarning: Mean of empty slice\n",
      "/Users/geet/anaconda3/lib/python3.7/site-packages/ipykernel_launcher.py:107: RuntimeWarning: Mean of empty slice\n",
      "/Users/geet/anaconda3/lib/python3.7/site-packages/ipykernel_launcher.py:107: RuntimeWarning: Mean of empty slice\n",
      "/Users/geet/anaconda3/lib/python3.7/site-packages/ipykernel_launcher.py:107: RuntimeWarning: Mean of empty slice\n",
      "/Users/geet/anaconda3/lib/python3.7/site-packages/ipykernel_launcher.py:107: RuntimeWarning: Mean of empty slice\n",
      "/Users/geet/anaconda3/lib/python3.7/site-packages/ipykernel_launcher.py:107: RuntimeWarning: Mean of empty slice\n",
      "/Users/geet/anaconda3/lib/python3.7/site-packages/ipykernel_launcher.py:107: RuntimeWarning: Mean of empty slice\n",
      "/Users/geet/anaconda3/lib/python3.7/site-packages/ipykernel_launcher.py:107: RuntimeWarning: Mean of empty slice\n",
      "/Users/geet/anaconda3/lib/python3.7/site-packages/ipykernel_launcher.py:107: RuntimeWarning: Mean of empty slice\n",
      "/Users/geet/anaconda3/lib/python3.7/site-packages/ipykernel_launcher.py:107: RuntimeWarning: Mean of empty slice\n",
      "/Users/geet/anaconda3/lib/python3.7/site-packages/ipykernel_launcher.py:107: RuntimeWarning: Mean of empty slice\n",
      "/Users/geet/anaconda3/lib/python3.7/site-packages/ipykernel_launcher.py:107: RuntimeWarning: Mean of empty slice\n",
      "/Users/geet/anaconda3/lib/python3.7/site-packages/ipykernel_launcher.py:107: RuntimeWarning: Mean of empty slice\n",
      "/Users/geet/anaconda3/lib/python3.7/site-packages/ipykernel_launcher.py:107: RuntimeWarning: Mean of empty slice\n",
      "/Users/geet/anaconda3/lib/python3.7/site-packages/ipykernel_launcher.py:107: RuntimeWarning: Mean of empty slice\n",
      "/Users/geet/anaconda3/lib/python3.7/site-packages/ipykernel_launcher.py:107: RuntimeWarning: Mean of empty slice\n",
      "/Users/geet/anaconda3/lib/python3.7/site-packages/ipykernel_launcher.py:107: RuntimeWarning: Mean of empty slice\n",
      "/Users/geet/anaconda3/lib/python3.7/site-packages/ipykernel_launcher.py:107: RuntimeWarning: Mean of empty slice\n",
      "/Users/geet/anaconda3/lib/python3.7/site-packages/ipykernel_launcher.py:107: RuntimeWarning: Mean of empty slice\n",
      "/Users/geet/anaconda3/lib/python3.7/site-packages/ipykernel_launcher.py:107: RuntimeWarning: Mean of empty slice\n",
      "/Users/geet/anaconda3/lib/python3.7/site-packages/ipykernel_launcher.py:107: RuntimeWarning: Mean of empty slice\n",
      "/Users/geet/anaconda3/lib/python3.7/site-packages/ipykernel_launcher.py:107: RuntimeWarning: Mean of empty slice\n",
      "/Users/geet/anaconda3/lib/python3.7/site-packages/ipykernel_launcher.py:107: RuntimeWarning: Mean of empty slice\n",
      "/Users/geet/anaconda3/lib/python3.7/site-packages/ipykernel_launcher.py:107: RuntimeWarning: Mean of empty slice\n",
      "/Users/geet/anaconda3/lib/python3.7/site-packages/ipykernel_launcher.py:107: RuntimeWarning: Mean of empty slice\n",
      "/Users/geet/anaconda3/lib/python3.7/site-packages/ipykernel_launcher.py:107: RuntimeWarning: Mean of empty slice\n",
      "/Users/geet/anaconda3/lib/python3.7/site-packages/ipykernel_launcher.py:107: RuntimeWarning: Mean of empty slice\n",
      "/Users/geet/anaconda3/lib/python3.7/site-packages/ipykernel_launcher.py:107: RuntimeWarning: Mean of empty slice\n",
      "/Users/geet/anaconda3/lib/python3.7/site-packages/ipykernel_launcher.py:107: RuntimeWarning: Mean of empty slice\n",
      "/Users/geet/anaconda3/lib/python3.7/site-packages/ipykernel_launcher.py:107: RuntimeWarning: Mean of empty slice\n",
      "/Users/geet/anaconda3/lib/python3.7/site-packages/ipykernel_launcher.py:107: RuntimeWarning: Mean of empty slice\n",
      "/Users/geet/anaconda3/lib/python3.7/site-packages/ipykernel_launcher.py:107: RuntimeWarning: Mean of empty slice\n",
      "/Users/geet/anaconda3/lib/python3.7/site-packages/ipykernel_launcher.py:107: RuntimeWarning: Mean of empty slice\n",
      "/Users/geet/anaconda3/lib/python3.7/site-packages/ipykernel_launcher.py:107: RuntimeWarning: Mean of empty slice\n",
      "/Users/geet/anaconda3/lib/python3.7/site-packages/ipykernel_launcher.py:107: RuntimeWarning: Mean of empty slice\n",
      "/Users/geet/anaconda3/lib/python3.7/site-packages/ipykernel_launcher.py:107: RuntimeWarning: Mean of empty slice\n"
     ]
    },
    {
     "name": "stdout",
     "output_type": "stream",
     "text": [
      "\n"
     ]
    },
    {
     "name": "stderr",
     "output_type": "stream",
     "text": [
      "/Users/geet/anaconda3/lib/python3.7/site-packages/ipykernel_launcher.py:107: RuntimeWarning: Mean of empty slice\n"
     ]
    }
   ],
   "source": [
    "m_u = np.full((len(circles),len(circles[0].alt)),np.nan)\n",
    "m_v = np.full((len(circles),len(circles[0].alt)),np.nan)\n",
    "c_u = np.full((len(circles),len(circles[0].alt)),np.nan)\n",
    "c_v = np.full((len(circles),len(circles[0].alt)),np.nan)\n",
    "m_q = np.full((len(circles),len(circles[0].alt)),np.nan)\n",
    "c_q = np.full((len(circles),len(circles[0].alt)),np.nan)\n",
    "m_T = np.full((len(circles),len(circles[0].alt)),np.nan)\n",
    "c_T = np.full((len(circles),len(circles[0].alt)),np.nan)\n",
    "\n",
    "m_qu = np.full((len(circles),len(circles[0].alt)),np.nan)\n",
    "c_qu = np.full((len(circles),len(circles[0].alt)),np.nan)\n",
    "m_Tu = np.full((len(circles),len(circles[0].alt)),np.nan)\n",
    "c_Tu = np.full((len(circles),len(circles[0].alt)),np.nan)\n",
    "\n",
    "m_qv = np.full((len(circles),len(circles[0].alt)),np.nan)\n",
    "c_qv = np.full((len(circles),len(circles[0].alt)),np.nan)\n",
    "m_Tv = np.full((len(circles),len(circles[0].alt)),np.nan)\n",
    "c_Tv = np.full((len(circles),len(circles[0].alt)),np.nan)\n",
    "\n",
    "D = np.full((len(circles),len(circles[0].alt)),np.nan)\n",
    "vor = np.full((len(circles),len(circles[0].alt)),np.nan)\n",
    "den_m = np.full((len(circles)),[None])\n",
    "mean_den = np.full((len(circles),len(circles[0].alt)),np.nan)\n",
    "w_vel = np.full((len(circles),len(circles[0].alt)),np.nan)\n",
    "p_vel = np.full((len(circles),len(circles[0].alt)),np.nan)\n",
    "\n",
    "Ns = np.full((len(circles),len(circles[0].alt)),np.nan)\n",
    "\n",
    "\n",
    "for i in tqdm(range(len(circles))) :\n",
    "# for i in tqdm(range(1)) :\n",
    "\n",
    "        #     # loop for linear regression at every level\n",
    "        for k in range(0,len(circles[i].alt)) :\n",
    "\n",
    "            df = {'dx':circles[i]['dx'].isel(alt=k),\n",
    "                  'dy':circles[i]['dy'].isel(alt=k)}\n",
    "            df_q = {'q':circles[i]['q'].isel(alt=k)}\n",
    "\n",
    "            ddf = DataFrame(df,columns=['dx','dy'])\n",
    "            ddf_q = DataFrame(df_q,columns=['q'])\n",
    "\n",
    "            id_ = np.where((isnan(ddf['dx'])==False) & (isnan(ddf_q['q'])==False))[0]\n",
    "            \n",
    "            Ns[i][k] = int(len(id_))\n",
    "\n",
    "            if id_.size >= 6 :\n",
    "                X = ddf.values[id_]\n",
    "                Y_u = circles[i]['u_wind'].isel(alt=k).isel(launch_time=id_)\n",
    "                Y_v = circles[i]['v_wind'].isel(alt=k).isel(launch_time=id_)\n",
    "                Y_q = circles[i]['q'].isel(alt=k).isel(launch_time=id_)\n",
    "                Y_T = circles[i]['tdry'].isel(alt=k).isel(launch_time=id_) + 273.15\n",
    "\n",
    "                Y_qu = Y_u*Y_q\n",
    "                Y_qv = Y_v*Y_q\n",
    "\n",
    "                Y_Tu = Y_u*Y_T\n",
    "                Y_Tv = Y_v*Y_T\n",
    "\n",
    "                regr_u = linear_model.LinearRegression()\n",
    "                regr_u.fit(X,Y_u)\n",
    "\n",
    "                regr_v = linear_model.LinearRegression()\n",
    "                regr_v.fit(X,Y_v)\n",
    "\n",
    "                regr_q = linear_model.LinearRegression()\n",
    "                regr_q.fit(X,Y_q)\n",
    "\n",
    "                regr_T = linear_model.LinearRegression()\n",
    "                regr_T.fit(X,Y_T)\n",
    "\n",
    "                regr_qu = linear_model.LinearRegression()\n",
    "                regr_qu.fit(X,Y_qu)\n",
    "\n",
    "                regr_qv = linear_model.LinearRegression()\n",
    "                regr_qv.fit(X,Y_qv)\n",
    "\n",
    "                regr_Tu = linear_model.LinearRegression()\n",
    "                regr_Tu.fit(X,Y_Tu)\n",
    "\n",
    "                regr_Tv = linear_model.LinearRegression()\n",
    "                regr_Tv.fit(X,Y_Tv)\n",
    "\n",
    "        # #         mean_u = regr.intercept_\n",
    "                m_u[i][k],c_u[i][k]= regr_u.coef_\n",
    "                m_v[i][k],c_v[i][k]= regr_v.coef_\n",
    "                m_q[i][k],c_q[i][k]= regr_q.coef_\n",
    "                m_T[i][k],c_T[i][k]= regr_T.coef_\n",
    "\n",
    "                m_qu[i][k],c_qu[i][k] = regr_qu.coef_\n",
    "                m_Tu[i][k],c_Tu[i][k] = regr_Tu.coef_\n",
    "\n",
    "                m_qv[i][k],c_qv[i][k] = regr_qv.coef_\n",
    "                m_Tv[i][k],c_Tv[i][k] = regr_Tv.coef_\n",
    "\n",
    "#         pres[i] = np.full((len(circles[i].alt)),np.nan)\n",
    "#         D[i] = np.full((len(circles[i].alt)),np.nan)\n",
    "#         vor[i] = np.full((len(circles[i].alt)),np.nan)\n",
    "\n",
    "#         pres[i] = circles[i]['pres'].mean(dim='launch_time')\n",
    "        D[i] = (m_u[i] + c_v[i]) \n",
    "        vor[i] = (m_v[i] - c_u[i]) \n",
    "\n",
    "        den_m[i] = mpcalc.density(circles[i]['pres'].values*units.hPa,\n",
    "                         circles[i]['tdry'].values*units.degC, \n",
    "                         circles[i]['mr'].values/1000).magnitude\n",
    "        mean_den[i] = np.nanmean(den_m[i],axis=0) \n",
    "\n",
    "        # Calculating the vertical velocity and pressure velocity\n",
    "        \n",
    "#         nan_ids = np.isnan(D[i])\n",
    "        \n",
    "#         w_vel[i] = np.nan * len(circles[i].alt)\n",
    "        w_vel[i][0] = 0   \n",
    "        \n",
    "#         for m in range(1,len(circles[i].alt)) :\n",
    "#             if m-1 is in nan_ids :\n",
    "#                 w_vel[i][m] = np.nansum(D[i][0:m+1]*10)*(-1)\n",
    "                \n",
    "#         for i in range(len(D)) :\n",
    "\n",
    "        nan_ids = np.where(np.isnan(D[i]) == True)[0]\n",
    "\n",
    "        w_vel[i][0] = 0\n",
    "        last = 0\n",
    "\n",
    "        for m in range(1,len(circles[i].alt)) :\n",
    "\n",
    "            if m in nan_ids :\n",
    "                w_vel[i][m] = np.nan\n",
    "            else :\n",
    "                w_vel[i][m] = w_vel[i][last] + D[i][m]*10*(m-last)\n",
    "                last = m\n",
    "\n",
    "#         p_vel[i] = np.full_like(D[i],np.nan) # Pressure velocity in hPa/h\n",
    "\n",
    "        for n in range(1,910) :\n",
    "\n",
    "            p_vel[i][n] = -mean_den[i][n]*9.81*w_vel[i][n]*60*60/100                   "
   ]
  },
  {
   "cell_type": "code",
   "execution_count": 308,
   "metadata": {},
   "outputs": [],
   "source": [
    "# for i in range(len(D)) :\n",
    "\n",
    "#     nan_ids = np.where(np.isnan(D[i]) == True)[0]\n",
    "\n",
    "#     w_vel[i][0] = 0\n",
    "#     last = 0\n",
    "\n",
    "#     for m in range(1,len(circles[i].alt)) :\n",
    "\n",
    "#         if m in nan_ids :\n",
    "#             w_vel[i][m] = np.nan\n",
    "#         #     counter.append(m)\n",
    "#         else :\n",
    "#             w_vel[i][m] = w_vel[i][last] + D[i][m]*10*(m-last)\n",
    "#             last = m"
   ]
  },
  {
   "cell_type": "code",
   "execution_count": 301,
   "metadata": {},
   "outputs": [
    {
     "data": {
      "text/plain": [
       "909"
      ]
     },
     "execution_count": 301,
     "metadata": {},
     "output_type": "execute_result"
    }
   ],
   "source": [
    "last"
   ]
  },
  {
   "cell_type": "code",
   "execution_count": 309,
   "metadata": {},
   "outputs": [
    {
     "data": {
      "text/plain": [
       "(0, 200)"
      ]
     },
     "execution_count": 309,
     "metadata": {},
     "output_type": "execute_result"
    },
    {
     "data": {
      "image/png": "[encoded data removed]",
      "text/plain": [
       "<Figure size 432x288 with 1 Axes>"
      ]
     },
     "metadata": {
      "needs_background": "light"
     },
     "output_type": "display_data"
    }
   ],
   "source": [
    "plt.scatter(w_vel[2],circles[0].alt)\n",
    "plt.ylim(0,200)"
   ]
  },
  {
   "cell_type": "code",
   "execution_count": 263,
   "metadata": {},
   "outputs": [
    {
     "data": {
      "text/plain": [
       "array([            nan,  2.00043443e-06, -4.00589227e-08,  9.37101998e-07,\n",
       "        1.25516479e-06])"
      ]
     },
     "execution_count": 263,
     "metadata": {},
     "output_type": "execute_result"
    }
   ],
   "source": [
    "m = 4\n",
    "# np.nansum(D[i][0:m+1]*10)\n",
    "D[i][0:m+1]"
   ]
  },
  {
   "cell_type": "code",
   "execution_count": 226,
   "metadata": {},
   "outputs": [
    {
     "name": "stderr",
     "output_type": "stream",
     "text": [
      "/Users/geet/anaconda3/lib/python3.7/site-packages/xarray/core/nanops.py:142: RuntimeWarning: Mean of empty slice\n",
      "  return np.nanmean(a, axis=axis, dtype=dtype)\n",
      "/Users/geet/anaconda3/lib/python3.7/site-packages/numpy/lib/nanfunctions.py:1667: RuntimeWarning: Degrees of freedom <= 0 for slice.\n",
      "  keepdims=keepdims)\n"
     ]
    },
    {
     "data": {
      "text/plain": [
       "<matplotlib.collections.PolyCollection at 0x1191c8450>"
      ]
     },
     "execution_count": 226,
     "metadata": {},
     "output_type": "execute_result"
    },
    {
     "data": {
      "image/png": "[encoded data removed]",
      "text/plain": [
       "<Figure size 432x288 with 1 Axes>"
      ]
     },
     "metadata": {
      "needs_background": "light"
     },
     "output_type": "display_data"
    }
   ],
   "source": [
    "m = circles[30].u_wind.mean(dim='launch_time')\n",
    "std = circles[30].u_wind.std(dim='launch_time')\n",
    "\n",
    "plt.plot(m,circles[30].alt)\n",
    "plt.fill_betweenx(circles[30].alt,\n",
    "                 m-std,\n",
    "                 m+std,alpha=0.5)"
   ]
  },
  {
   "cell_type": "code",
   "execution_count": 103,
   "metadata": {},
   "outputs": [
    {
     "name": "stderr",
     "output_type": "stream",
     "text": [
      "/Users/geet/anaconda3/lib/python3.7/site-packages/xarray/core/nanops.py:142: RuntimeWarning: Mean of empty slice\n",
      "  return np.nanmean(a, axis=axis, dtype=dtype)\n",
      "/Users/geet/anaconda3/lib/python3.7/site-packages/numpy/lib/nanfunctions.py:1667: RuntimeWarning: Degrees of freedom <= 0 for slice.\n",
      "  keepdims=keepdims)\n"
     ]
    },
    {
     "data": {
      "text/plain": [
       "<matplotlib.collections.PolyCollection at 0x11e3c7fd0>"
      ]
     },
     "execution_count": 103,
     "metadata": {},
     "output_type": "execute_result"
    },
    {
     "data": {
      "image/png": "[encoded data removed]",
      "text/plain": [
       "<Figure size 432x288 with 1 Axes>"
      ]
     },
     "metadata": {
      "needs_background": "light"
     },
     "output_type": "display_data"
    }
   ],
   "source": [
    "m = circles[30].u_wind.mean(dim='launch_time')\n",
    "std = circles[30].u_wind.std(dim='launch_time')\n",
    "\n",
    "plt.plot(m,circles[30].alt)\n",
    "plt.fill_betweenx(circles[30].alt,\n",
    "                 m-std,\n",
    "                 m+std,alpha=0.5)"
   ]
  },
  {
   "cell_type": "code",
   "execution_count": 328,
   "metadata": {},
   "outputs": [
    {
     "name": "stderr",
     "output_type": "stream",
     "text": [
      "/Users/geet/anaconda3/lib/python3.7/site-packages/xarray/core/nanops.py:142: RuntimeWarning: Mean of empty slice\n",
      "  return np.nanmean(a, axis=axis, dtype=dtype)\n"
     ]
    }
   ],
   "source": [
    "u = [None] * len(circles)\n",
    "v = [None] * len(circles)\n",
    "pres = [None] * len(circles)\n",
    "\n",
    "for i in range(len(circles)) :\n",
    "    u[i] = circles[i].u_wind.mean(dim='launch_time').values\n",
    "    v[i] = circles[i].v_wind.mean(dim='launch_time').values\n",
    "    pres[i] = circles[i].pres.mean(dim='launch_time').values"
   ]
  },
  {
   "cell_type": "code",
   "execution_count": 2,
   "metadata": {},
   "outputs": [
    {
     "ename": "NameError",
     "evalue": "name 'circles' is not defined",
     "output_type": "error",
     "traceback": [
      "\u001b[0;31m---------------------------------------------------------------------------\u001b[0m",
      "\u001b[0;31mNameError\u001b[0m                                 Traceback (most recent call last)",
      "\u001b[0;32m<ipython-input-2-38f3c32a25ee>\u001b[0m in \u001b[0;36m<module>\u001b[0;34m\u001b[0m\n\u001b[0;32m----> 1\u001b[0;31m \u001b[0mcircles\u001b[0m\u001b[0;34m[\u001b[0m\u001b[0;36m0\u001b[0m\u001b[0;34m]\u001b[0m\u001b[0;34m\u001b[0m\u001b[0;34m\u001b[0m\u001b[0m\n\u001b[0m",
      "\u001b[0;31mNameError\u001b[0m: name 'circles' is not defined"
     ]
    }
   ],
   "source": [
    "circles[0]"
   ]
  },
  {
   "cell_type": "code",
   "execution_count": 329,
   "metadata": {
    "ExecuteTime": {
     "end_time": "2020-03-31T18:06:20.204048Z",
     "start_time": "2020-03-31T18:06:20.144130Z"
    }
   },
   "outputs": [],
   "source": [
    "circle = []\n",
    "\n",
    "for i in flight_date:\n",
    "    for j in range(1,7) :\n",
    "        circle.append((f'{i.astype(object).month:02d}{i.astype(object).day:02d}C{j}'))\n",
    "\n",
    "ds = xr.Dataset({'dudx'     : (['circle','height'],m_u),#{'ad':'dfw','qd':'df'}),\n",
    "                 'dudy'     : (['circle','height'],c_u),\n",
    "                 'dvdx'     : (['circle','height'],m_v),\n",
    "                 'dvdy'     : (['circle','height'],c_v),\n",
    "                 \n",
    "                 'dTdx'     : (['circle','height'],m_T),\n",
    "                 'dTdy'     : (['circle','height'],c_T),\n",
    "                 'dqdx'     : (['circle','height'],m_q),\n",
    "                 'dqdy'     : (['circle','height'],c_q),\n",
    "                 \n",
    "                 'dqudx'     : (['circle','height'],m_qu),\n",
    "                 'dqudy'     : (['circle','height'],c_qu),\n",
    "                 'dqvdx'     : (['circle','height'],m_qv),\n",
    "                 'dqvdy'     : (['circle','height'],c_qv),\n",
    "                 \n",
    "                 'dTudx'     : (['circle','height'],m_Tu),\n",
    "                 'dTudy'     : (['circle','height'],c_Tu),\n",
    "                 'dTvdx'     : (['circle','height'],m_Tv),\n",
    "                 'dTvdy'     : (['circle','height'],c_Tv),\n",
    "                \n",
    "                 'pressure'  : (['circle','height'],pres),\n",
    "                 'divergence': (['circle','height'],D),\n",
    "                 'vorticity' : (['circle','height'],vor),\n",
    "                 \n",
    "                 'u'         : (['circle','height'],u),\n",
    "                 'v'         : (['circle','height'],v),\n",
    "                 'w'         : (['circle','height'],w_vel),\n",
    "                 'omega'     : (['circle','height'],p_vel),\n",
    "                 \n",
    "                 'density'   : (['circle','height'],mean_den),\n",
    "                 'regressed_sondes' : (['circle','height'],Ns)\n",
    "                 },\n",
    "                 coords={'height': circles[0].alt.values,\n",
    "                        'circle': circle},\n",
    "                 attrs={'Author':'Geet George (MPI-M, Hamburg); geet.george@mpimet.mpg.de',\n",
    "                       'Instrument':'Vaisala RD94 (AVAPS receiver aboard HALO)',\n",
    "                       'Data Processing':'AvapsEditorVersion \"BatchAspen V3.4.3\"',\n",
    "                       'Campaign':'EUREC4A (Jan-Feb,2020)',\n",
    "                       'Reference Study': 'Bony, S. & Stevens, B., 2019, “Measuring Area-Averaged Vertical Motions with Dropsondes.” Journal of the Atmospheric Sciences 76 (3): 767–83',\n",
    "                       'Creation Time' : str(datetime.datetime.utcnow()) + ' UTC'})\n",
    "\n",
    "file_name = 'circle_products'\n",
    "# file_name = str(datetime.datetime.utcnow().date()) + '_' + str(datetime.datetime.utcnow().hour)\n",
    "# file_name = str(circle['launch_time'].mean().values)[0:13]\n",
    "ds.to_netcdf(file_name + '.nc')"
   ]
  },
  {
   "cell_type": "code",
   "execution_count": 205,
   "metadata": {},
   "outputs": [
    {
     "data": {
      "text/html": [
       "<pre>&lt;xarray.Dataset&gt;\n",
       "Dimensions:           (circle: 36, height: 910)\n",
       "Coordinates:\n",
       "  * height            (height) int64 0 10 20 30 40 ... 9050 9060 9070 9080 9090\n",
       "  * circle            (circle) &lt;U6 &#x27;0122C1&#x27; &#x27;0122C2&#x27; ... &#x27;0202C5&#x27; &#x27;0202C6&#x27;\n",
       "Data variables:\n",
       "    dudx              (circle, height) float64 nan 6.258e-06 ... -7e-06\n",
       "    dudy              (circle, height) float64 nan -1.015e-05 ... -1.15e-05\n",
       "    dvdx              (circle, height) float64 nan -3.193e-05 ... -9.028e-06\n",
       "    dvdy              (circle, height) float64 nan -5.23e-05 ... 2.565e-05\n",
       "    dTdx              (circle, height) float64 nan 4.555e-06 ... -2.01e-06\n",
       "    dTdy              (circle, height) float64 nan 1.279e-06 ... -6.601e-06\n",
       "    dqdx              (circle, height) float64 nan -8.319e-09 ... -2.049e-10\n",
       "    dqdy              (circle, height) float64 nan 1.598e-09 ... -3.657e-10\n",
       "    dqudx             (circle, height) float64 nan 1.617e-07 ... -4.042e-09\n",
       "    dqudy             (circle, height) float64 nan -1.724e-07 ... -6.556e-09\n",
       "    dqvdx             (circle, height) float64 nan -4.464e-07 ... 7.899e-10\n",
       "    dqvdy             (circle, height) float64 nan -7.928e-07 ... 5.387e-09\n",
       "    dTudx             (circle, height) float64 nan 0.00183 ... -0.001775\n",
       "    dTudy             (circle, height) float64 nan -0.003037 ... -0.002957\n",
       "    dTvdx             (circle, height) float64 nan -0.009544 ... -0.00223\n",
       "    dTvdy             (circle, height) float64 nan -0.0156 ... 0.006612 0.006429\n",
       "    divergence        (circle, height) float64 nan -4.604e-05 ... 1.865e-05\n",
       "    vorticity         (circle, height) float64 nan -2.178e-05 ... 2.476e-06\n",
       "    w                 (circle, height) float64 0.0 0.0004604 ... -0.04834\n",
       "    omega             (circle, height) float64 nan -0.1903 ... 7.802 7.824\n",
       "    density           (circle, height) float64 nan 1.17 1.169 ... 0.4588 0.4583\n",
       "    regressed_sondes  (circle, height) float64 0.0 3.0 9.0 ... 11.0 11.0 11.0\n",
       "Attributes:\n",
       "    Author:           Geet George (MPI-M, Hamburg); geet.george@mpimet.mpg.de\n",
       "    Instrument:       Vaisala RD94 (AVAPS receiver aboard HALO)\n",
       "    Data Processing:  AvapsEditorVersion &quot;BatchAspen V3.4.3&quot;\n",
       "    Campaign:         EUREC4A (Jan-Feb,2020)\n",
       "    Reference Study:  Bony, S. &amp; Stevens, B., 2019, “Measuring Area-Averaged ...\n",
       "    Creation Time:    2020-04-07 12:48:05.082582 UTC</pre>"
      ],
      "text/plain": [
       "<xarray.Dataset>\n",
       "Dimensions:           (circle: 36, height: 910)\n",
       "Coordinates:\n",
       "  * height            (height) int64 0 10 20 30 40 ... 9050 9060 9070 9080 9090\n",
       "  * circle            (circle) <U6 '0122C1' '0122C2' ... '0202C5' '0202C6'\n",
       "Data variables:\n",
       "    dudx              (circle, height) float64 nan 6.258e-06 ... -7e-06\n",
       "    dudy              (circle, height) float64 nan -1.015e-05 ... -1.15e-05\n",
       "    dvdx              (circle, height) float64 nan -3.193e-05 ... -9.028e-06\n",
       "    dvdy              (circle, height) float64 nan -5.23e-05 ... 2.565e-05\n",
       "    dTdx              (circle, height) float64 nan 4.555e-06 ... -2.01e-06\n",
       "    dTdy              (circle, height) float64 nan 1.279e-06 ... -6.601e-06\n",
       "    dqdx              (circle, height) float64 nan -8.319e-09 ... -2.049e-10\n",
       "    dqdy              (circle, height) float64 nan 1.598e-09 ... -3.657e-10\n",
       "    dqudx             (circle, height) float64 nan 1.617e-07 ... -4.042e-09\n",
       "    dqudy             (circle, height) float64 nan -1.724e-07 ... -6.556e-09\n",
       "    dqvdx             (circle, height) float64 nan -4.464e-07 ... 7.899e-10\n",
       "    dqvdy             (circle, height) float64 nan -7.928e-07 ... 5.387e-09\n",
       "    dTudx             (circle, height) float64 nan 0.00183 ... -0.001775\n",
       "    dTudy             (circle, height) float64 nan -0.003037 ... -0.002957\n",
       "    dTvdx             (circle, height) float64 nan -0.009544 ... -0.00223\n",
       "    dTvdy             (circle, height) float64 nan -0.0156 ... 0.006612 0.006429\n",
       "    divergence        (circle, height) float64 nan -4.604e-05 ... 1.865e-05\n",
       "    vorticity         (circle, height) float64 nan -2.178e-05 ... 2.476e-06\n",
       "    w                 (circle, height) float64 0.0 0.0004604 ... -0.04834\n",
       "    omega             (circle, height) float64 nan -0.1903 ... 7.802 7.824\n",
       "    density           (circle, height) float64 nan 1.17 1.169 ... 0.4588 0.4583\n",
       "    regressed_sondes  (circle, height) float64 0.0 3.0 9.0 ... 11.0 11.0 11.0\n",
       "Attributes:\n",
       "    Author:           Geet George (MPI-M, Hamburg); geet.george@mpimet.mpg.de\n",
       "    Instrument:       Vaisala RD94 (AVAPS receiver aboard HALO)\n",
       "    Data Processing:  AvapsEditorVersion \"BatchAspen V3.4.3\"\n",
       "    Campaign:         EUREC4A (Jan-Feb,2020)\n",
       "    Reference Study:  Bony, S. & Stevens, B., 2019, “Measuring Area-Averaged ...\n",
       "    Creation Time:    2020-04-07 12:48:05.082582 UTC"
      ]
     },
     "execution_count": 205,
     "metadata": {},
     "output_type": "execute_result"
    }
   ],
   "source": [
    "ds"
   ]
  },
  {
   "cell_type": "code",
   "execution_count": 248,
   "metadata": {
    "ExecuteTime": {
     "end_time": "2020-03-31T18:08:12.500554Z",
     "start_time": "2020-03-31T18:08:12.461449Z"
    }
   },
   "outputs": [
    {
     "ename": "ValueError",
     "evalue": "dimensions {'circle'} do not exist",
     "output_type": "error",
     "traceback": [
      "\u001b[0;31m---------------------------------------------------------------------------\u001b[0m",
      "\u001b[0;31mValueError\u001b[0m                                Traceback (most recent call last)",
      "\u001b[0;32m<ipython-input-248-41815683d063>\u001b[0m in \u001b[0;36m<module>\u001b[0;34m\u001b[0m\n\u001b[1;32m      2\u001b[0m \u001b[0;34m\u001b[0m\u001b[0m\n\u001b[1;32m      3\u001b[0m \u001b[0;32mfor\u001b[0m \u001b[0mi\u001b[0m \u001b[0;32min\u001b[0m \u001b[0mrange\u001b[0m\u001b[0;34m(\u001b[0m\u001b[0;36m6\u001b[0m\u001b[0;34m,\u001b[0m\u001b[0;36m12\u001b[0m\u001b[0;34m)\u001b[0m \u001b[0;34m:\u001b[0m\u001b[0;34m\u001b[0m\u001b[0;34m\u001b[0m\u001b[0m\n\u001b[0;32m----> 4\u001b[0;31m     \u001b[0mp\u001b[0m \u001b[0;34m=\u001b[0m \u001b[0mplt\u001b[0m\u001b[0;34m.\u001b[0m\u001b[0mplot\u001b[0m\u001b[0;34m(\u001b[0m\u001b[0mds\u001b[0m\u001b[0;34m.\u001b[0m\u001b[0misel\u001b[0m\u001b[0;34m(\u001b[0m\u001b[0mcircle\u001b[0m\u001b[0;34m=\u001b[0m\u001b[0mi\u001b[0m\u001b[0;34m)\u001b[0m\u001b[0;34m.\u001b[0m\u001b[0momega\u001b[0m\u001b[0;34m,\u001b[0m\u001b[0mds\u001b[0m\u001b[0;34m.\u001b[0m\u001b[0mheight\u001b[0m\u001b[0;34m,\u001b[0m\u001b[0mlabel\u001b[0m\u001b[0;34m=\u001b[0m\u001b[0mi\u001b[0m\u001b[0;34m)\u001b[0m\u001b[0;34m\u001b[0m\u001b[0;34m\u001b[0m\u001b[0m\n\u001b[0m\u001b[1;32m      5\u001b[0m     \u001b[0mplt\u001b[0m\u001b[0;34m.\u001b[0m\u001b[0mplot\u001b[0m\u001b[0;34m(\u001b[0m\u001b[0mds\u001b[0m\u001b[0;34m.\u001b[0m\u001b[0misel\u001b[0m\u001b[0;34m(\u001b[0m\u001b[0mcircle\u001b[0m\u001b[0;34m=\u001b[0m\u001b[0mi\u001b[0m\u001b[0;34m)\u001b[0m\u001b[0;34m.\u001b[0m\u001b[0mregressed_sondes\u001b[0m\u001b[0;34m,\u001b[0m\u001b[0mds\u001b[0m\u001b[0;34m.\u001b[0m\u001b[0mheight\u001b[0m\u001b[0;34m,\u001b[0m\u001b[0mlinestyle\u001b[0m\u001b[0;34m=\u001b[0m\u001b[0;34m'--'\u001b[0m\u001b[0;34m,\u001b[0m\u001b[0mc\u001b[0m\u001b[0;34m=\u001b[0m\u001b[0mp\u001b[0m\u001b[0;34m[\u001b[0m\u001b[0;36m0\u001b[0m\u001b[0;34m]\u001b[0m\u001b[0;34m.\u001b[0m\u001b[0mget_color\u001b[0m\u001b[0;34m(\u001b[0m\u001b[0;34m)\u001b[0m\u001b[0;34m)\u001b[0m\u001b[0;34m\u001b[0m\u001b[0;34m\u001b[0m\u001b[0m\n\u001b[1;32m      6\u001b[0m \u001b[0;31m#     plt.ylim(0,200)\u001b[0m\u001b[0;34m\u001b[0m\u001b[0;34m\u001b[0m\u001b[0;34m\u001b[0m\u001b[0m\n",
      "\u001b[0;32m~/anaconda3/lib/python3.7/site-packages/xarray/core/dataset.py\u001b[0m in \u001b[0;36misel\u001b[0;34m(self, indexers, drop, **indexers_kwargs)\u001b[0m\n\u001b[1;32m   1914\u001b[0m         \u001b[0minvalid\u001b[0m \u001b[0;34m=\u001b[0m \u001b[0mindexers\u001b[0m\u001b[0;34m.\u001b[0m\u001b[0mkeys\u001b[0m\u001b[0;34m(\u001b[0m\u001b[0;34m)\u001b[0m \u001b[0;34m-\u001b[0m \u001b[0mself\u001b[0m\u001b[0;34m.\u001b[0m\u001b[0mdims\u001b[0m\u001b[0;34m.\u001b[0m\u001b[0mkeys\u001b[0m\u001b[0;34m(\u001b[0m\u001b[0;34m)\u001b[0m\u001b[0;34m\u001b[0m\u001b[0;34m\u001b[0m\u001b[0m\n\u001b[1;32m   1915\u001b[0m         \u001b[0;32mif\u001b[0m \u001b[0minvalid\u001b[0m\u001b[0;34m:\u001b[0m\u001b[0;34m\u001b[0m\u001b[0;34m\u001b[0m\u001b[0m\n\u001b[0;32m-> 1916\u001b[0;31m             \u001b[0;32mraise\u001b[0m \u001b[0mValueError\u001b[0m\u001b[0;34m(\u001b[0m\u001b[0;34m\"dimensions %r do not exist\"\u001b[0m \u001b[0;34m%\u001b[0m \u001b[0minvalid\u001b[0m\u001b[0;34m)\u001b[0m\u001b[0;34m\u001b[0m\u001b[0;34m\u001b[0m\u001b[0m\n\u001b[0m\u001b[1;32m   1917\u001b[0m \u001b[0;34m\u001b[0m\u001b[0m\n\u001b[1;32m   1918\u001b[0m         \u001b[0mvariables\u001b[0m \u001b[0;34m=\u001b[0m \u001b[0;34m{\u001b[0m\u001b[0;34m}\u001b[0m\u001b[0;34m\u001b[0m\u001b[0;34m\u001b[0m\u001b[0m\n",
      "\u001b[0;31mValueError\u001b[0m: dimensions {'circle'} do not exist"
     ]
    },
    {
     "data": {
      "text/plain": [
       "<Figure size 720x720 with 0 Axes>"
      ]
     },
     "metadata": {},
     "output_type": "display_data"
    }
   ],
   "source": [
    "f = plt.figure(figsize=(10,10))\n",
    "\n",
    "for i in range(6,12) :\n",
    "    p = plt.plot(ds.isel(circle=i).omega,ds.height,label=i)\n",
    "    plt.plot(ds.isel(circle=i).regressed_sondes,ds.height,linestyle='--',c=p[0].get_color())\n",
    "#     plt.ylim(0,200)\n",
    "    plt.legend()"
   ]
  },
  {
   "cell_type": "code",
   "execution_count": 216,
   "metadata": {},
   "outputs": [
    {
     "data": {
      "text/plain": [
       "'#1f77b4'"
      ]
     },
     "execution_count": 216,
     "metadata": {},
     "output_type": "execute_result"
    }
   ],
   "source": [
    "p[0].get_color()"
   ]
  },
  {
   "cell_type": "code",
   "execution_count": 93,
   "metadata": {
    "ExecuteTime": {
     "end_time": "2020-03-31T18:05:08.768824Z",
     "start_time": "2020-03-31T18:05:08.759218Z"
    }
   },
   "outputs": [
    {
     "data": {
      "text/plain": [
       "'2020-03-31 18:05:08.760670'"
      ]
     },
     "execution_count": 93,
     "metadata": {},
     "output_type": "execute_result"
    }
   ],
   "source": [
    "# for i in range(len(circles)) :\n",
    "\n",
    "#         x_coor = circles[i]['lon']*111.320*cos(np.radians(circles[i]['lat']))*1000\n",
    "#         y_coor = circles[i]['lat']*110.54*1000\n",
    "\n",
    "#         # converting from lat, lon to coordinates in metre from (0,0). \n",
    "\n",
    "#         xc = [None] * len(x_coor.T)\n",
    "#         yc = [None] * len(y_coor.T)\n",
    "\n",
    "#         xc = np.mean(x_coor,axis=0)\n",
    "#         yc = np.mean(y_coor,axis=0)\n",
    "\n",
    "#         delta_x = (x_coor - xc)#*111*1000 # difference of sonde long from mean long\n",
    "#         delta_y = (y_coor - yc)#*111*1000 # difference of sonde lat from mean lat\n",
    "\n",
    "#         u_o = np.mean(circles[i]['u_wind'],axis=0) # mean u velocity\n",
    "#         v_o = np.mean(circles[i]['v_wind'],axis=0) # mean v velocity\n",
    "\n",
    "#         delta_u = circles[i]['u_wind'] - u_o # difference of sonde u from mean u\n",
    "#         delta_v = circles[i]['v_wind'] - v_o # difference of sonde v from mean v\n",
    "\n",
    "#         y_u = delta_u/delta_y # yu (ratio; delta u & delta y: refer notes)\n",
    "#         y_v = delta_v/delta_y # yv (ratio; delta v & delta y: refer notes)\n",
    "\n",
    "#         x = delta_x/delta_y # x (ratio; delta x & delta y: refer notes)\n",
    "\n",
    "#         circles[i]['dx'] = (['launch_time','alt'],delta_x)\n",
    "#         circles[i]['dy'] = (['launch_time','alt'],delta_y)\n",
    "#         circles[i]['qu'] = (['launch_time','alt'],\n",
    "#                             circles[i]['q']*circles[i]['u_wind'])\n",
    "#         circles[i]['qv'] = (['launch_time','alt'],\n",
    "#                             circles[i]['q']*circles[i]['v_wind'])\n",
    "#         circles[i]['Tu'] = (['launch_time','alt'],\n",
    "#                             (circles[i]['tdry']+ 273.15)*circles[i]['u_wind'] )\n",
    "#         circles[i]['Tv'] = (['launch_time','alt'],\n",
    "#                             (circles[i]['tdry']+ 273.15)*circles[i]['v_wind'] )\n",
    "        \n",
    "# m_u = np.full((len(circles),len(circles[0].alt)),np.nan)\n",
    "# m_v = np.full((len(circles),len(circles[0].alt)),np.nan)\n",
    "# c_u = np.full((len(circles),len(circles[0].alt)),np.nan)\n",
    "# c_v = np.full((len(circles),len(circles[0].alt)),np.nan)\n",
    "# m_q = np.full((len(circles),len(circles[0].alt)),np.nan)\n",
    "# c_q = np.full((len(circles),len(circles[0].alt)),np.nan)\n",
    "# m_T = np.full((len(circles),len(circles[0].alt)),np.nan)\n",
    "# c_T = np.full((len(circles),len(circles[0].alt)),np.nan)\n",
    "\n",
    "# m_qu = np.full((len(circles),len(circles[0].alt)),np.nan)\n",
    "# c_qu = np.full((len(circles),len(circles[0].alt)),np.nan)\n",
    "# m_Tu = np.full((len(circles),len(circles[0].alt)),np.nan)\n",
    "# c_Tu = np.full((len(circles),len(circles[0].alt)),np.nan)\n",
    "\n",
    "# m_qv = np.full((len(circles),len(circles[0].alt)),np.nan)\n",
    "# c_qv = np.full((len(circles),len(circles[0].alt)),np.nan)\n",
    "# m_Tv = np.full((len(circles),len(circles[0].alt)),np.nan)\n",
    "# c_Tv = np.full((len(circles),len(circles[0].alt)),np.nan)\n",
    "\n",
    "# D = np.full((len(circles),len(circles[0].alt)),np.nan)\n",
    "# vor = np.full((len(circles),len(circles[0].alt)),np.nan)\n",
    "# den_m = np.full((len(circles)),[None])\n",
    "# mean_den = np.full((len(circles),len(circles[0].alt)),np.nan)\n",
    "# w_vel = np.full((len(circles),len(circles[0].alt)),np.nan)\n",
    "# p_vel = np.full((len(circles),len(circles[0].alt)),np.nan)\n",
    "\n",
    "# # for i in trange(len(circles)) :\n",
    "# for i in trange(4) :\n",
    "\n",
    "# #     for j in range(len(circle_times[i])) :\n",
    "\n",
    "# #         m_u[i] = np.full((len(circles[i].alt)),np.nan)\n",
    "# #         m_v[i] = np.full((len(circles[i].alt)),np.nan)\n",
    "# #         c_u[i] = np.full((len(circles[i].alt)),np.nan)\n",
    "# #         c_v[i] = np.full((len(circles[i].alt)),np.nan)\n",
    "# #         m_q[i] = np.full((len(circles[i].alt)),np.nan)\n",
    "# #         c_q[i] = np.full((len(circles[i].alt)),np.nan)\n",
    "# #         m_T[i] = np.full((len(circles[i].alt)),np.nan)\n",
    "# #         c_T[i] = np.full((len(circles[i].alt)),np.nan)\n",
    "\n",
    "# #         m_qu[i] = np.full((len(circles[i].alt)),np.nan)\n",
    "# #         c_qu[i] = np.full((len(circles[i].alt)),np.nan)\n",
    "# #         m_Tu[i] = np.full((len(circles[i].alt)),np.nan)\n",
    "# #         c_Tu[i] = np.full((len(circles[i].alt)),np.nan)\n",
    "\n",
    "# #         m_qv[i] = np.full((len(circles[i].alt)),np.nan)\n",
    "# #         c_qv[i] = np.full((len(circles[i].alt)),np.nan)\n",
    "# #         m_Tv[i] = np.full((len(circles[i].alt)),np.nan)\n",
    "# #         c_Tv[i] = np.full((len(circles[i].alt)),np.nan)\n",
    "\n",
    "#         #     # loop for linear regression at every level\n",
    "#         for k in range(0,len(circles[i].alt)) :\n",
    "\n",
    "#             df = {'dx':delta_x.isel(alt=k),\n",
    "#                  'dy':delta_y.isel(alt=k)}\n",
    "#             df_q = {'q':circles[i]['q'].isel(alt=k)}\n",
    "\n",
    "#             ddf = DataFrame(df,columns=['dx','dy'])\n",
    "#             ddf_q = DataFrame(df_q,columns=['q'])\n",
    "\n",
    "#             id = np.where((isnan(ddf['dx'])==False) & (isnan(ddf_q['q'])==False))[0]\n",
    "\n",
    "#             if id.size != 0 :\n",
    "#                 X = ddf.values[id]\n",
    "#                 Y_u = circles[i]['u_wind'].isel(alt=k).isel(launch_time=id)\n",
    "#                 Y_v = circles[i]['v_wind'].isel(alt=k).isel(launch_time=id)\n",
    "#                 Y_q = circles[i]['q'].isel(alt=k).isel(launch_time=id)\n",
    "#                 Y_T = circles[i]['tdry'].isel(alt=k).isel(launch_time=id) + 273.15\n",
    "\n",
    "#                 Y_qu = Y_u*Y_q\n",
    "#                 Y_qv = Y_v*Y_q\n",
    "\n",
    "#                 Y_Tu = Y_u*Y_T\n",
    "#                 Y_Tv = Y_v*Y_T\n",
    "\n",
    "#                 regr_u = linear_model.LinearRegression()\n",
    "#                 regr_u.fit(X,Y_u)\n",
    "\n",
    "#                 regr_v = linear_model.LinearRegression()\n",
    "#                 regr_v.fit(X,Y_v)\n",
    "\n",
    "#                 regr_q = linear_model.LinearRegression()\n",
    "#                 regr_q.fit(X,Y_q)\n",
    "\n",
    "#                 regr_T = linear_model.LinearRegression()\n",
    "#                 regr_T.fit(X,Y_T)\n",
    "\n",
    "#                 regr_qu = linear_model.LinearRegression()\n",
    "#                 regr_qu.fit(X,Y_qu)\n",
    "\n",
    "#                 regr_qv = linear_model.LinearRegression()\n",
    "#                 regr_qv.fit(X,Y_qv)\n",
    "\n",
    "#                 regr_Tu = linear_model.LinearRegression()\n",
    "#                 regr_Tu.fit(X,Y_Tu)\n",
    "\n",
    "#                 regr_Tv = linear_model.LinearRegression()\n",
    "#                 regr_Tv.fit(X,Y_Tv)\n",
    "\n",
    "#         # #         mean_u = regr.intercept_\n",
    "#                 m_u[i][k],c_u[i][k]= regr_u.coef_\n",
    "#                 m_v[i][k],c_v[i][k]= regr_v.coef_\n",
    "#                 m_q[i][k],c_q[i][k]= regr_q.coef_\n",
    "#                 m_T[i][k],c_T[i][k]= regr_T.coef_\n",
    "\n",
    "#                 m_qu[i][k],c_qu[i][k] = regr_qu.coef_\n",
    "#                 m_Tu[i][k],c_Tu[i][k] = regr_Tu.coef_\n",
    "\n",
    "#                 m_qv[i][k],c_qv[i][k] = regr_qv.coef_\n",
    "#                 m_Tv[i][k],c_Tv[i][k] = regr_Tv.coef_\n",
    "\n",
    "# #         pres[i] = np.full((len(circles[i].alt)),np.nan)\n",
    "# #         D[i] = np.full((len(circles[i].alt)),np.nan)\n",
    "# #         vor[i] = np.full((len(circles[i].alt)),np.nan)\n",
    "\n",
    "# #         pres[i] = circles[i]['pres'].mean(dim='launch_time')\n",
    "#         D[i] = (m_u[i] + c_v[i]) \n",
    "#         vor[i] = (m_v[i] - c_u[i]) \n",
    "\n",
    "#         den_m[i] = mpcalc.density(circles[i]['pres'].values*units.hPa,\n",
    "#                          circles[i]['tdry'].values*units.degC, \n",
    "#                          circles[i]['mr'].values/1000).magnitude\n",
    "#         mean_den[i] = np.nanmean(den_m[i],axis=0) \n",
    "\n",
    "#         # Calculating the vertical velocity and pressure velocity\n",
    "\n",
    "# #         w_vel[i] = np.nan * len(circles[i].alt)\n",
    "#         w_vel[i][0] = 0   \n",
    "\n",
    "#         for m in range(1,len(circles[i].alt)) :\n",
    "#             w_vel[i][m] = np.nansum(D[i][0:m+1]*10)*(-1)\n",
    "\n",
    "# #         p_vel[i] = np.full_like(D[i],np.nan) # Pressure velocity in hPa/h\n",
    "\n",
    "#         for n in range(1,910) :\n",
    "\n",
    "#             p_vel[i][n] = -mean_den[i][n]*9.81*w_vel[i][n]*60*60/100                   "
   ]
  },
  {
   "cell_type": "code",
   "execution_count": 1052,
   "metadata": {},
   "outputs": [
    {
     "name": "stdout",
     "output_type": "stream",
     "text": [
      "3 1\n",
      "3 2\n",
      "3 4\n"
     ]
    }
   ],
   "source": [
    "# Pressure Gradient\n",
    "\n",
    "upto = 200\n",
    "\n",
    "lat_points = np.full(size(circles),[None])\n",
    "lon_points = np.full(size(circles),[None])\n",
    "p_values = np.full(size(circles),[None])\n",
    "grid_x = np.full(size(circles),[None])\n",
    "grid_y = np.full(size(circles),[None])\n",
    "grid = np.full(size(circles),[None])\n",
    "\n",
    "mean_time = np.full(size(circles),[None])\n",
    "da = []\n",
    "\n",
    "g = 0\n",
    "for i in range(len(circles)) :\n",
    "    for j in range(len(circle_times[i])) :\n",
    "\n",
    "        lat_points[g] = circles[i,j].sel(alt=slice(0,upto)).lat.mean(dim='alt').values\n",
    "        lon_points[g] = circles[i,j].sel(alt=slice(0,upto)).lon.mean(dim='alt').values + 360\n",
    "        l_points = list(set(zip(lon_points[g],lat_points[g])))\n",
    "        p_values[g] = circles[i,j].sel(alt=slice(0,upto)).pres.mean(dim='alt').values\n",
    "        mean_time[g] = circles[i,j].launch_time.mean().values\n",
    "\n",
    "        grid_x[g], grid_y[g] = np.mgrid[floor(np.min(lon_points[g])):ceil(np.max(lon_points[g])):0.2, \n",
    "                          floor(np.min(lat_points[g])):ceil(np.max(lat_points[g])):0.2]\n",
    "\n",
    "        grid[g] = griddata(l_points,p_values[g], (grid_x[g],grid_y[g]), method = 'linear')\n",
    "        \n",
    "        try :\n",
    "            da.append(xr.DataArray(grid[g],\n",
    "                                coords={'lon':(grid_x[g][:,0]),\n",
    "                                        'lat':(grid_y[g][0]),\n",
    "                                        'circle':(circles[i,j].launch_time.mean().values)},\n",
    "                                dims={'lon','lat'}))\n",
    "        except Exception :\n",
    "            print(i,j)\n",
    "#         else :\n",
    "#             mean_time.append(circles[i,j].launch_time.mean().values)\n",
    "        \n",
    "        g+=1"
   ]
  },
  {
   "cell_type": "code",
   "execution_count": 1000,
   "metadata": {},
   "outputs": [],
   "source": [
    "ds1 = xr.concat(da[:],dim='circle')\n",
    "ds1.to_netcdf('spatially_gridded_pressure.nc')"
   ]
  },
  {
   "cell_type": "code",
   "execution_count": 1067,
   "metadata": {},
   "outputs": [],
   "source": [
    "# ds = xr.Dataset({'lat':(['circle','sonde_no'],lat_points),\n",
    "#                  'lon':(['circle','sonde_no'],lon_points),\n",
    "#                  'pressure':(['circle','sonde_no'],p_values)},\n",
    "#                   coords={'circle':(mean_time)})\n",
    "# ds.to_netcdf('a.nc')"
   ]
  },
  {
   "cell_type": "code",
   "execution_count": 942,
   "metadata": {},
   "outputs": [
    {
     "data": {
      "text/html": [
       "<pre>&lt;xarray.DataArray ()&gt;\n",
       "array(&lt;built-in method values of dict object at 0x1479c6280&gt;, dtype=object)</pre>"
      ],
      "text/plain": [
       "<xarray.DataArray ()>\n",
       "array(<built-in method values of dict object at 0x1479c6280>, dtype=object)"
      ]
     },
     "execution_count": 942,
     "metadata": {},
     "output_type": "execute_result"
    }
   ],
   "source": []
  },
  {
   "cell_type": "code",
   "execution_count": 1,
   "metadata": {},
   "outputs": [],
   "source": [
    "# ds1 = xr.Dataset({'pressure':(['circle','lon','lat'],grid)},\n",
    "#                 coords={'circle':(mean_time),\n",
    "#                         'lon':(grid_x),\n",
    "#                         'lat':(grid_y)})"
   ]
  },
  {
   "cell_type": "code",
   "execution_count": 668,
   "metadata": {},
   "outputs": [
    {
     "data": {
      "text/plain": [
       "<matplotlib.collections.PathCollection at 0x12c398fd0>"
      ]
     },
     "execution_count": 668,
     "metadata": {},
     "output_type": "execute_result"
    },
    {
     "data": {
      "image/png": "[encoded data removed]",
      "text/plain": [
       "<Figure size 432x288 with 1 Axes>"
      ]
     },
     "metadata": {
      "needs_background": "light"
     },
     "output_type": "display_data"
    }
   ],
   "source": [
    "u = np.gradient(grid)[0]\n",
    "v = np.gradient(grid)[1]\n",
    "\n",
    "plt.quiver(grid_x,grid_y,u,v)\n",
    "plt.scatter(lon_points,lat_points,s=30,c='r')"
   ]
  },
  {
   "cell_type": "code",
   "execution_count": 911,
   "metadata": {},
   "outputs": [
    {
     "name": "stderr",
     "output_type": "stream",
     "text": [
      "/Users/geet/anaconda3/lib/python3.7/site-packages/ipykernel_launcher.py:5: UserWarning: Attempting to set identical left == right == 302.83717976659426 results in singular transformations; automatically expanding.\n",
      "  \"\"\"\n",
      "/Users/geet/anaconda3/lib/python3.7/site-packages/ipykernel_launcher.py:5: UserWarning: Attempting to set identical bottom == top == 12.408204334285857 results in singular transformations; automatically expanding.\n",
      "  \"\"\"\n"
     ]
    },
    {
     "data": {
      "text/plain": [
       "<matplotlib.colorbar.Colorbar at 0x148e791d0>"
      ]
     },
     "execution_count": 911,
     "metadata": {},
     "output_type": "execute_result"
    },
    {
     "data": {
      "image/png": "[encoded data removed]",
      "text/plain": [
       "<Figure size 432x288 with 2 Axes>"
      ]
     },
     "metadata": {
      "needs_background": "light"
     },
     "output_type": "display_data"
    }
   ],
   "source": [
    "n = 10\n",
    "plt.imshow(grid[n],interpolation='none', extent=[np.min(lon_points[n]),\n",
    "                                                 np.max(lon_points[n]),\n",
    "                                                 np.min(lat_points[n]),\n",
    "                                                 np.max(lat_points[n])])\n",
    "plt.colorbar(orientation='horizontal')"
   ]
  },
  {
   "cell_type": "code",
   "execution_count": 848,
   "metadata": {},
   "outputs": [
    {
     "data": {
      "text/plain": [
       "(15, 15)"
      ]
     },
     "execution_count": 848,
     "metadata": {},
     "output_type": "execute_result"
    }
   ],
   "source": [
    "shape(grid[0])"
   ]
  },
  {
   "cell_type": "code",
   "execution_count": 695,
   "metadata": {},
   "outputs": [
    {
     "data": {
      "text/html": [
       "<pre>&lt;xarray.Dataset&gt;\n",
       "Dimensions:         (alt: 910, launch_time: 72)\n",
       "Coordinates:\n",
       "  * launch_time     (launch_time) datetime64[ns] 2020-01-24T09:50:07 ... 2020-01-24T16:45:06\n",
       "  * alt             (alt) int64 0 10 20 30 40 50 ... 9050 9060 9070 9080 9090\n",
       "Data variables:\n",
       "    trajectory      (launch_time) object b&#x27;&#x27; b&#x27;&#x27; b&#x27;&#x27; b&#x27;&#x27; b&#x27;&#x27; ... b&#x27;&#x27; b&#x27;&#x27; b&#x27;&#x27; b&#x27;&#x27;\n",
       "    pres            (launch_time, alt) float64 nan 1.011e+03 ... 327.3 326.8\n",
       "    tdry            (launch_time, alt) float64 nan 25.75 25.64 ... -26.4 -26.49\n",
       "    dp              (launch_time, alt) float64 nan 20.96 20.92 ... -50.84 -50.82\n",
       "    rh              (launch_time, alt) float64 nan 74.33 74.6 ... 8.247 8.329\n",
       "    u_wind          (launch_time, alt) float64 nan -5.037 -4.809 ... 16.76 16.71\n",
       "    v_wind          (launch_time, alt) float64 nan 2.791 2.361 ... -12.27 -12.38\n",
       "    w_wind          (launch_time, alt) float64 nan -0.1875 ... -1.324 -1.296\n",
       "    wspd            (launch_time, alt) float64 nan 5.759 5.359 ... 20.77 20.8\n",
       "    wdir            (launch_time, alt) float64 nan 119.0 116.1 ... 306.2 306.5\n",
       "    dz              (launch_time, alt) float64 nan -10.03 ... -17.05 -17.03\n",
       "    mr              (launch_time, alt) float64 nan 15.67 15.64 ... 0.1113 0.1117\n",
       "    vt              (launch_time, alt) float64 nan 301.8 301.7 ... 246.8 246.7\n",
       "    theta           (launch_time, alt) float64 nan 298.0 298.0 ... 339.4 339.4\n",
       "    theta_e         (launch_time, alt) float64 nan 343.6 343.5 ... 339.9 339.9\n",
       "    theta_v         (launch_time, alt) float64 nan 300.8 300.8 ... 339.4 339.4\n",
       "    lat             (launch_time, alt) float64 nan 14.13 14.13 ... 14.27 14.27\n",
       "    lon             (launch_time, alt) float64 nan -58.19 ... -57.91 -57.91\n",
       "    gpsalt          (launch_time, alt) float64 nan 0.1217 ... 9.117e+03\n",
       "    reference_time  (launch_time) datetime64[ns] 2020-01-24T09:50:07 ... 2020-01-24T16:45:07\n",
       "    reference_pres  (launch_time) float32 284.85 284.9 284.8 ... 284.25 284.22\n",
       "    reference_tdry  (launch_time) float32 -36.1 -36.3 -36.0 ... -35.9 -35.9\n",
       "    reference_rh    (launch_time) float32 nan nan nan nan ... nan nan nan nan\n",
       "    reference_wspd  (launch_time) float32 nan nan nan nan ... nan nan nan nan\n",
       "    reference_wdir  (launch_time) float32 nan nan nan nan ... nan nan nan nan\n",
       "    reference_lat   (launch_time) float32 14.161172 14.297126 ... 14.278829\n",
       "    reference_lon   (launch_time) float32 -58.239487 -57.64421 ... -57.92462\n",
       "    reference_alt   (launch_time) float32 10056.591 10053.458 ... 10081.847\n",
       "    T_interp        (launch_time, alt) float64 nan 25.75 25.64 ... -26.4 -26.49\n",
       "    T               (launch_time, alt) float64 nan 25.76 25.66 ... -26.46 -26.55\n",
       "    rh_interp       (launch_time, alt) float64 nan 74.47 74.74 ... 8.951 9.037\n",
       "    q               (launch_time, alt) float64 nan 0.01543 ... 0.0001117\n",
       "    qu              (launch_time, alt) float64 nan -0.07771 ... 0.001866\n",
       "    qv              (launch_time, alt) float64 nan 0.04306 ... -0.001383\n",
       "    Tu              (launch_time, alt) float64 nan -129.8 ... -443.5 -443.6\n",
       "    Tv              (launch_time, alt) float64 nan 71.9 60.58 ... 324.6 328.8\n",
       "    iwv             (launch_time) float64 29.21 26.91 39.61 ... 35.7 34.53 33.32\n",
       "    Platform        (launch_time) object &#x27;HALO&#x27; &#x27;HALO&#x27; &#x27;HALO&#x27; ... &#x27;HALO&#x27; &#x27;HALO&#x27;</pre>"
      ],
      "text/plain": [
       "<xarray.Dataset>\n",
       "Dimensions:         (alt: 910, launch_time: 72)\n",
       "Coordinates:\n",
       "  * launch_time     (launch_time) datetime64[ns] 2020-01-24T09:50:07 ... 2020-01-24T16:45:06\n",
       "  * alt             (alt) int64 0 10 20 30 40 50 ... 9050 9060 9070 9080 9090\n",
       "Data variables:\n",
       "    trajectory      (launch_time) object b'' b'' b'' b'' b'' ... b'' b'' b'' b''\n",
       "    pres            (launch_time, alt) float64 nan 1.011e+03 ... 327.3 326.8\n",
       "    tdry            (launch_time, alt) float64 nan 25.75 25.64 ... -26.4 -26.49\n",
       "    dp              (launch_time, alt) float64 nan 20.96 20.92 ... -50.84 -50.82\n",
       "    rh              (launch_time, alt) float64 nan 74.33 74.6 ... 8.247 8.329\n",
       "    u_wind          (launch_time, alt) float64 nan -5.037 -4.809 ... 16.76 16.71\n",
       "    v_wind          (launch_time, alt) float64 nan 2.791 2.361 ... -12.27 -12.38\n",
       "    w_wind          (launch_time, alt) float64 nan -0.1875 ... -1.324 -1.296\n",
       "    wspd            (launch_time, alt) float64 nan 5.759 5.359 ... 20.77 20.8\n",
       "    wdir            (launch_time, alt) float64 nan 119.0 116.1 ... 306.2 306.5\n",
       "    dz              (launch_time, alt) float64 nan -10.03 ... -17.05 -17.03\n",
       "    mr              (launch_time, alt) float64 nan 15.67 15.64 ... 0.1113 0.1117\n",
       "    vt              (launch_time, alt) float64 nan 301.8 301.7 ... 246.8 246.7\n",
       "    theta           (launch_time, alt) float64 nan 298.0 298.0 ... 339.4 339.4\n",
       "    theta_e         (launch_time, alt) float64 nan 343.6 343.5 ... 339.9 339.9\n",
       "    theta_v         (launch_time, alt) float64 nan 300.8 300.8 ... 339.4 339.4\n",
       "    lat             (launch_time, alt) float64 nan 14.13 14.13 ... 14.27 14.27\n",
       "    lon             (launch_time, alt) float64 nan -58.19 ... -57.91 -57.91\n",
       "    gpsalt          (launch_time, alt) float64 nan 0.1217 ... 9.117e+03\n",
       "    reference_time  (launch_time) datetime64[ns] 2020-01-24T09:50:07 ... 2020-01-24T16:45:07\n",
       "    reference_pres  (launch_time) float32 284.85 284.9 284.8 ... 284.25 284.22\n",
       "    reference_tdry  (launch_time) float32 -36.1 -36.3 -36.0 ... -35.9 -35.9\n",
       "    reference_rh    (launch_time) float32 nan nan nan nan ... nan nan nan nan\n",
       "    reference_wspd  (launch_time) float32 nan nan nan nan ... nan nan nan nan\n",
       "    reference_wdir  (launch_time) float32 nan nan nan nan ... nan nan nan nan\n",
       "    reference_lat   (launch_time) float32 14.161172 14.297126 ... 14.278829\n",
       "    reference_lon   (launch_time) float32 -58.239487 -57.64421 ... -57.92462\n",
       "    reference_alt   (launch_time) float32 10056.591 10053.458 ... 10081.847\n",
       "    T_interp        (launch_time, alt) float64 nan 25.75 25.64 ... -26.4 -26.49\n",
       "    T               (launch_time, alt) float64 nan 25.76 25.66 ... -26.46 -26.55\n",
       "    rh_interp       (launch_time, alt) float64 nan 74.47 74.74 ... 8.951 9.037\n",
       "    q               (launch_time, alt) float64 nan 0.01543 ... 0.0001117\n",
       "    qu              (launch_time, alt) float64 nan -0.07771 ... 0.001866\n",
       "    qv              (launch_time, alt) float64 nan 0.04306 ... -0.001383\n",
       "    Tu              (launch_time, alt) float64 nan -129.8 ... -443.5 -443.6\n",
       "    Tv              (launch_time, alt) float64 nan 71.9 60.58 ... 324.6 328.8\n",
       "    iwv             (launch_time) float64 29.21 26.91 39.61 ... 35.7 34.53 33.32\n",
       "    Platform        (launch_time) object 'HALO' 'HALO' 'HALO' ... 'HALO' 'HALO'"
      ]
     },
     "execution_count": 695,
     "metadata": {},
     "output_type": "execute_result"
    }
   ],
   "source": [
    "ncds = all_sondes.sel(launch_time='2020-01-24')\n",
    "ncds = ncds.where(ncds.Platform == 'HALO',drop=True)\n",
    "ncds = ncds.where(ncds.reference_time != np.datetime64('2020-01-24T00:00:00.000000000'),\n",
    "                  drop=True).isel(launch_time=slice(0,72))\n",
    "ncds"
   ]
  },
  {
   "cell_type": "code",
   "execution_count": 696,
   "metadata": {},
   "outputs": [
    {
     "data": {
      "text/plain": [
       "[<matplotlib.lines.Line2D at 0x136a80290>]"
      ]
     },
     "execution_count": 696,
     "metadata": {},
     "output_type": "execute_result"
    },
    {
     "data": {
      "image/png": "[encoded data removed]",
      "text/plain": [
       "<Figure size 432x288 with 1 Axes>"
      ]
     },
     "metadata": {
      "needs_background": "light"
     },
     "output_type": "display_data"
    }
   ],
   "source": [
    "plt.plot(ncds.lon[0:72].isel(alt=10),\n",
    "         ncds.lat[0:72].isel(alt=10),marker='o')"
   ]
  },
  {
   "cell_type": "code",
   "execution_count": 746,
   "metadata": {},
   "outputs": [],
   "source": [
    "sondes_per_reg = 18\n",
    "total_sondes = len(ncds.launch_time)\n",
    "\n",
    "iterations = total_sondes - (sondes_per_reg - 1)"
   ]
  },
  {
   "cell_type": "code",
   "execution_count": 892,
   "metadata": {},
   "outputs": [
    {
     "data": {
      "text/plain": [
       "(15, 15)"
      ]
     },
     "execution_count": 892,
     "metadata": {},
     "output_type": "execute_result"
    }
   ],
   "source": [
    "shape(grid[k])"
   ]
  },
  {
   "cell_type": "code",
   "execution_count": 908,
   "metadata": {},
   "outputs": [
    {
     "name": "stderr",
     "output_type": "stream",
     "text": [
      "/Users/geet/anaconda3/lib/python3.7/site-packages/ipykernel_launcher.py:11: TqdmDeprecationWarning: This function will be removed in tqdm==5.0.0\n",
      "Please use `tqdm.notebook.tqdm` instead of `tqdm.tqdm_notebook`\n",
      "  # This is added back by InteractiveShellApp.init_path()\n"
     ]
    },
    {
     "data": {
      "application/vnd.jupyter.widget-view+json": {
       "model_id": "2508ec9fe06144ba8b0b2d33adf6d6ee",
       "version_major": 2,
       "version_minor": 0
      },
      "text/plain": [
       "HBox(children=(FloatProgress(value=0.0, max=55.0), HTML(value='')))"
      ]
     },
     "metadata": {},
     "output_type": "display_data"
    },
    {
     "name": "stdout",
     "output_type": "stream",
     "text": [
      "\n"
     ]
    }
   ],
   "source": [
    "upto = 200 # height up to which the average is to be taken\n",
    "\n",
    "grid_x = [None] * iterations\n",
    "grid_y = [None] * iterations\n",
    "grid = [None] * iterations\n",
    "\n",
    "u = [None] * iterations\n",
    "v = [None] * iterations\n",
    "mean_time = [None] * iterations\n",
    "\n",
    "for k in tqdm(range(0,iterations)) :\n",
    "    \n",
    "    lat_points = ncds.isel(launch_time=slice(k,k+sondes_per_reg)).\\\n",
    "                    sel(alt=slice(0,upto)).lat.mean(dim='alt').values\n",
    "    lon_points = ncds.isel(launch_time=slice(k,k+sondes_per_reg)).\\\n",
    "                    sel(alt=slice(0,upto)).lon.mean(dim='alt').values + 360\n",
    "    \n",
    "    l_points = list(set(zip(lon_points,lat_points)))\n",
    "    \n",
    "    p_values = ncds.isel(launch_time=slice(k,k+sondes_per_reg)).\\\n",
    "                    sel(alt=slice(0,upto)).pres.mean(dim='alt').values\n",
    "    \n",
    "    grid_x[k], grid_y[k] = np.mgrid[floor(np.min(lon_points)):ceil(np.max(lon_points)):0.2, \n",
    "                          floor(np.min(lat_points)):ceil(np.max(lat_points)):0.2]\n",
    "    \n",
    "    grid[k] = griddata(l_points,p_values, (grid_x[k],grid_y[k]), method = 'linear')\n",
    "    \n",
    "    u[k] = np.gradient(grid[k])[0]\n",
    "    v[k] = np.gradient(grid[k])[1]\n",
    "    \n",
    "    f,ax = plt.subplots(1,2,sharex=True,sharey=True,figsize=(12,6))\n",
    "    \n",
    "    norm = matplotlib.colors.Normalize(vmin=0.1,vmax=2,clip=False)\n",
    "    cmap = matplotlib.colors.ListedColormap(plt.cm.cividis(np.linspace(0.25,1,10)), \"name\")\n",
    "    \n",
    "    vmin1 = 0.1; vmax1 = 0.5\n",
    "    q = ax[0].quiver(grid_x[k],grid_y[k],\n",
    "                     u[k],v[k],np.hypot(u[k],v[k]),\n",
    "                     units='width', pivot='mid', width=0.01,#vmin=vmin1,vmax=vmax1,\n",
    "               scale=1 / 0.1,cmap=cmap,norm=norm)\n",
    "#     ax[0].quiverkey(q, 0.9, 0.9, 1, r'$1 \\frac{m}{s}$', labelpos='E',\n",
    "#                    coordinates='figure')\n",
    "                                                                                                                                                                                                                    \n",
    "    cbar1 = plt.colorbar(q,ax=ax[0],norm=norm)\n",
    "    cbar1.set_label('Pressure Gradient (hPa / $\\degree$)')\n",
    "#     cbar1 = q.clim(0.1,2)\n",
    "    \n",
    "    ax[0].scatter(lon_points,lat_points,s=45,c='r',label='Dropsonde considered')\n",
    "    ax[0].legend(loc=1)\n",
    "    ax[0].set_ylabel('Latitude ($\\degree$N)')\n",
    "    ax[0].set_xlabel('Longitude ($\\degree$E)')\n",
    "    \n",
    "    vmin2=996; vmax2=1002.5\n",
    "    levels2 = np.linspace(vmin2, vmax2+0.5,50)\n",
    "    \n",
    "#     CS = ax[1].contourf(grid_x[k],grid_y[k],\n",
    "#                   grid[k],levels=levels2,vmin=vmin2,vmax=vmax2,cmap='Blues'\n",
    "#                   )\n",
    "    CS = ax[1].imshow(grid[k].T,interpolation='none',origin='lower',\n",
    "                     extent=[floor(np.min(lon_points)),\n",
    "                             ceil(np.max(lon_points)),\n",
    "                             floor(np.min(lat_points)),\n",
    "                             ceil(np.max(lat_points))],\n",
    "                     vmin=vmin2,vmax=vmax2)\n",
    "# plt.colorbar(orientation='horizontal')\n",
    "    ax[1].set_xlabel('Longitude ($\\degree$E)')\n",
    "    cbar2 = plt.colorbar(CS,ax=ax[1],ticks=[vmin2,vmax2])\n",
    "    cbar2.set_label('Pressure (hPa)')\n",
    "    \n",
    "    mean_time[k] = np.array(ncds.isel(launch_time=slice(k,\n",
    "                    k+sondes_per_reg)).launch_time.mean().values, dtype='datetime64[m]')\n",
    "    \n",
    "    plt.suptitle(f'Mean time of circle: {mean_time[k]}',fontsize=16)\n",
    "    plt.savefig(f'{k}.jpeg')\n",
    "    plt.close()"
   ]
  },
  {
   "cell_type": "code",
   "execution_count": 879,
   "metadata": {},
   "outputs": [
    {
     "name": "stderr",
     "output_type": "stream",
     "text": [
      "/Users/geet/anaconda3/lib/python3.7/site-packages/ipykernel_launcher.py:10: TqdmDeprecationWarning: This function will be removed in tqdm==5.0.0\n",
      "Please use `tqdm.notebook.tqdm` instead of `tqdm.tqdm_notebook`\n",
      "  # Remove the CWD from sys.path while we load stuff.\n"
     ]
    },
    {
     "data": {
      "application/vnd.jupyter.widget-view+json": {
       "model_id": "c89d93e442e4487cb49ce08cdae5763f",
       "version_major": 2,
       "version_minor": 0
      },
      "text/plain": [
       "HBox(children=(FloatProgress(value=0.0, max=55.0), HTML(value='')))"
      ]
     },
     "metadata": {},
     "output_type": "display_data"
    },
    {
     "name": "stdout",
     "output_type": "stream",
     "text": [
      "\n"
     ]
    }
   ],
   "source": [
    "# upto = 200 # height up to which the average is to be taken\n",
    "\n",
    "# grid_x = [None] * iterations\n",
    "# grid_y = [None] * iterations\n",
    "# # grid = [None] * iterations\n",
    "\n",
    "# grid_u = [None] * iterations\n",
    "# grid_v = [None] * iterations\n",
    "\n",
    "# for k in tqdm(range(0,iterations)) :\n",
    "    \n",
    "#     lat_points = ncds.isel(launch_time=slice(k,k+sondes_per_reg)).\\\n",
    "#                     sel(alt=slice(0,upto)).lat.mean(dim='alt').values\n",
    "#     lon_points = ncds.isel(launch_time=slice(k,k+sondes_per_reg)).\\\n",
    "#                     sel(alt=slice(0,upto)).lon.mean(dim='alt').values + 360\n",
    "    \n",
    "#     l_points = list(set(zip(lon_points,lat_points)))\n",
    "    \n",
    "#     u_values = ncds.isel(launch_time=slice(k,k+sondes_per_reg)).\\\n",
    "#                     sel(alt=slice(0,upto)).u_wind.mean(dim='alt').values\n",
    "#     v_values = ncds.isel(launch_time=slice(k,k+sondes_per_reg)).\\\n",
    "#                     sel(alt=slice(0,upto)).v_wind.mean(dim='alt').values\n",
    "    \n",
    "#     grid_x[k], grid_y[k] = np.mgrid[floor(np.min(lon_points)):ceil(np.max(lon_points)):0.2, \n",
    "#                           floor(np.min(lat_points)):ceil(np.max(lat_points)):0.2]\n",
    "    \n",
    "#     grid_u[k] = griddata(l_points,u_values, (grid_x[k],grid_y[k]), method = 'linear')\n",
    "#     grid_v[k] = griddata(l_points,v_values, (grid_x[k],grid_y[k]), method = 'linear')\n",
    "    \n",
    "# #     u[k] = np.gradient(grid[k])[0]\n",
    "# #     v[k] = np.gradient(grid[k])[1]\n",
    "    \n",
    "#     f,ax = plt.subplots(1,1,sharex=True,sharey=True,figsize=(12,12))\n",
    "    \n",
    "#     norm = matplotlib.colors.Normalize(vmin=0.1,vmax=2,clip=False)\n",
    "#     cmap = matplotlib.colors.ListedColormap(plt.cm.cividis(np.linspace(0.25,1,10)), \"name\")\n",
    "    \n",
    "#     vmin1 = 1; vmax1 = 10\n",
    "#     q = ax.quiver(grid_x[k],grid_y[k],\n",
    "#                      grid_u[k],grid_v[k],np.hypot(grid_u[k],grid_v[k]),\n",
    "#                      units='width', pivot='mid', width=0.01,#vmin=vmin1,vmax=vmax1,\n",
    "#                scale=1 / 0.1,cmap=cmap,norm=norm)\n",
    "# #     ax[0].quiverkey(q, 0.9, 0.9, 1, r'$1 \\frac{m}{s}$', labelpos='E',\n",
    "# #                    coordinates='figure')\n",
    "                                                                                                                                                                                                                    \n",
    "#     cbar1 = plt.colorbar(q,ax=ax,norm=norm)\n",
    "#     cbar1.set_label('Pressure Gradient (hPa / $\\degree$)')\n",
    "# #     cbar1 = q.clim(0.1,2)\n",
    "    \n",
    "# #     ax[0].scatter(lon_points,lat_points,s=45,c='r',label='Dropsonde considered')\n",
    "# #     ax[0].legend()\n",
    "# #     ax[0].set_ylabel('Latitude ($\\degree$N)')\n",
    "# #     ax[0].set_xlabel('Longitude ($\\degree$E)')\n",
    "    \n",
    "# #     vmin2=996; vmax2=1002.5\n",
    "# #     levels2 = np.linspace(vmin2, vmax2+0.5,50)\n",
    "    \n",
    "# #     CS = ax[1].contourf(grid_x[k],grid_y[k],\n",
    "# #                   grid[k],levels=levels2,vmin=vmin2,vmax=vmax2,cmap='Blues'\n",
    "# #                   )\n",
    "# #     ax[1].set_xlabel('Longitude ($\\degree$E)')\n",
    "# #     cbar2 = plt.colorbar(CS,ax=ax[1],ticks=[vmin2,vmax2])\n",
    "# #     cbar2.set_label('Pressure (hPa)')\n",
    "    \n",
    "#     mean_time = np.array(ncds.isel(launch_time=slice(k,\n",
    "#                     k+sondes_per_reg)).launch_time.mean().values, dtype='datetime64[m]')\n",
    "    \n",
    "#     plt.suptitle(f'Mean time of circle: {mean_time}')\n",
    "#     plt.savefig(f'{k}_uv.jpeg')\n",
    "#     plt.close()"
   ]
  },
  {
   "cell_type": "code",
   "execution_count": 1057,
   "metadata": {},
   "outputs": [
    {
     "data": {
      "text/html": [
       "<pre>&lt;xarray.DataArray &#x27;mr&#x27; (launch_time: 72, alt: 910)&gt;\n",
       "array([[        nan, 15.66802287, 15.64439262, ...,  0.11994295,\n",
       "         0.11980946,  0.11965351],\n",
       "       [        nan,         nan, 16.00423447, ...,  0.13602364,\n",
       "         0.13536389,  0.13462967],\n",
       "       [        nan,         nan, 17.31448655, ...,  0.17120948,\n",
       "         0.17085143,  0.16999741],\n",
       "       ...,\n",
       "       [        nan,         nan,         nan, ...,  0.1446869 ,\n",
       "         0.14374417,  0.14290245],\n",
       "       [        nan, 15.38899337, 15.38866096, ...,  0.14186604,\n",
       "         0.14155682,  0.14134638],\n",
       "       [        nan,         nan,         nan, ...,  0.11136063,\n",
       "         0.11133058,  0.1116944 ]])\n",
       "Coordinates:\n",
       "  * launch_time  (launch_time) datetime64[ns] 2020-01-24T09:50:07 ... 2020-01-24T16:45:06\n",
       "  * alt          (alt) int64 0 10 20 30 40 50 ... 9040 9050 9060 9070 9080 9090\n",
       "Attributes:\n",
       "    long_name:  mixing ratio\n",
       "    units:      gram/kg</pre>"
      ],
      "text/plain": [
       "<xarray.DataArray 'mr' (launch_time: 72, alt: 910)>\n",
       "array([[        nan, 15.66802287, 15.64439262, ...,  0.11994295,\n",
       "         0.11980946,  0.11965351],\n",
       "       [        nan,         nan, 16.00423447, ...,  0.13602364,\n",
       "         0.13536389,  0.13462967],\n",
       "       [        nan,         nan, 17.31448655, ...,  0.17120948,\n",
       "         0.17085143,  0.16999741],\n",
       "       ...,\n",
       "       [        nan,         nan,         nan, ...,  0.1446869 ,\n",
       "         0.14374417,  0.14290245],\n",
       "       [        nan, 15.38899337, 15.38866096, ...,  0.14186604,\n",
       "         0.14155682,  0.14134638],\n",
       "       [        nan,         nan,         nan, ...,  0.11136063,\n",
       "         0.11133058,  0.1116944 ]])\n",
       "Coordinates:\n",
       "  * launch_time  (launch_time) datetime64[ns] 2020-01-24T09:50:07 ... 2020-01-24T16:45:06\n",
       "  * alt          (alt) int64 0 10 20 30 40 50 ... 9040 9050 9060 9070 9080 9090\n",
       "Attributes:\n",
       "    long_name:  mixing ratio\n",
       "    units:      gram/kg"
      ]
     },
     "execution_count": 1057,
     "metadata": {},
     "output_type": "execute_result"
    }
   ],
   "source": [
    "ncds.mr"
   ]
  },
  {
   "cell_type": "code",
   "execution_count": 1066,
   "metadata": {},
   "outputs": [
    {
     "name": "stderr",
     "output_type": "stream",
     "text": [
      "/Users/geet/anaconda3/lib/python3.7/site-packages/ipykernel_launcher.py:11: TqdmDeprecationWarning: This function will be removed in tqdm==5.0.0\n",
      "Please use `tqdm.notebook.tqdm` instead of `tqdm.tqdm_notebook`\n",
      "  # This is added back by InteractiveShellApp.init_path()\n"
     ]
    },
    {
     "data": {
      "application/vnd.jupyter.widget-view+json": {
       "model_id": "5865aff3acf04172a43bec85a222c425",
       "version_major": 2,
       "version_minor": 0
      },
      "text/plain": [
       "HBox(children=(FloatProgress(value=0.0, max=55.0), HTML(value='')))"
      ]
     },
     "metadata": {},
     "output_type": "display_data"
    },
    {
     "name": "stdout",
     "output_type": "stream",
     "text": [
      "\n"
     ]
    }
   ],
   "source": [
    "upto = 800 # height up to which the average is to be taken\n",
    "fro = 600 # height from which the average is to be taken\n",
    "\n",
    "grid_x = [None] * iterations\n",
    "grid_y = [None] * iterations\n",
    "grid = [None] * iterations\n",
    "\n",
    "u = [None] * iterations\n",
    "v = [None] * iterations\n",
    "\n",
    "for k in tqdm(range(0,iterations)) :\n",
    "    \n",
    "    lat_points = ncds.isel(launch_time=slice(k,k+sondes_per_reg)).\\\n",
    "                    sel(alt=slice(fro,upto)).lat.mean(dim='alt').values\n",
    "    lon_points = ncds.isel(launch_time=slice(k,k+sondes_per_reg)).\\\n",
    "                    sel(alt=slice(fro,upto)).lon.mean(dim='alt').values + 360\n",
    "    \n",
    "    l_points = list(set(zip(lon_points,lat_points)))\n",
    "    \n",
    "    mr_values = ncds.isel(launch_time=slice(k,k+sondes_per_reg)).\\\n",
    "                    sel(alt=slice(fro,upto)).mr.mean(dim='alt').values\n",
    "    \n",
    "    grid_x[k], grid_y[k] = np.mgrid[floor(np.min(lon_points)):ceil(np.max(lon_points)):0.2, \n",
    "                          floor(np.min(lat_points)):ceil(np.max(lat_points)):0.2]\n",
    "    \n",
    "    grid[k] = griddata(l_points,mr_values, (grid_x[k],grid_y[k]), method = 'linear')\n",
    "    \n",
    "    u[k] = np.gradient(grid[k])[0]\n",
    "    v[k] = np.gradient(grid[k])[1]\n",
    "    \n",
    "    f,ax = plt.subplots(1,2,sharex=True,sharey=True,figsize=(12,6))\n",
    "    \n",
    "    vmin1 = 3e-01; vmax1 = 6e-01\n",
    "    \n",
    "    norm = matplotlib.colors.Normalize(vmin=vmin1,vmax=vmax1,clip=False)\n",
    "    cmap = matplotlib.colors.ListedColormap(plt.cm.Blues(np.linspace(0.25,1,10)), \"name\")\n",
    "\n",
    "    q = ax[0].quiver(grid_x[k],grid_y[k],\n",
    "                     u[k],v[k],np.hypot(u[k],v[k]),\n",
    "                     units='width', pivot='mid', width=0.01,#vmin=vmin1,vmax=vmax1,\n",
    "                     cmap=cmap,norm=norm)\n",
    "#     ax[0].quiverkey(q, 0.9, 0.9, 1, r'$1 \\frac{m}{s}$', labelpos='E',\n",
    "#                    coordinates='figure')\n",
    "                                                                                                                                                                                                                    \n",
    "    cbar1 = plt.colorbar(q,ax=ax[0],norm=norm)\n",
    "    cbar1.set_label('Moisture Gradient ( g/kg / $\\degree$)')\n",
    "#     cbar1 = q.clim(0.1,2)\n",
    "    \n",
    "    ax[0].scatter(lon_points,lat_points,s=45,c='r',label='Dropsondes considered')\n",
    "    ax[0].legend(loc=1)\n",
    "    ax[0].set_ylabel('Latitude ($\\degree$N)')\n",
    "    ax[0].set_xlabel('Longitude ($\\degree$E)')\n",
    "    \n",
    "#     vmin2=0.015; vmax2=0.017\n",
    "#     levels2 = np.linspace(vmin2, vmax2+0.5,50)\n",
    "    \n",
    "    vmin2=13; vmax2=15.5\n",
    "    levels2 = np.linspace(vmin2, vmax2+0.5,50)\n",
    "    \n",
    "#     CS = ax[1].contourf(grid_x[k],grid_y[k],\n",
    "#                   grid[k],levels=levels2,vmin=vmin2,vmax=vmax2,cmap='Blues'\n",
    "#                   )\n",
    "    CS = ax[1].imshow(grid[k].T,interpolation='none',origin='lower',\n",
    "                     extent=[floor(np.min(lon_points)),\n",
    "                             ceil(np.max(lon_points)),\n",
    "                             floor(np.min(lat_points)),\n",
    "                             ceil(np.max(lat_points))],\n",
    "                     vmin=vmin2,vmax=vmax2)\n",
    "# plt.colorbar(orientation='horizontal')\n",
    "    ax[1].set_xlabel('Longitude ($\\degree$E)')\n",
    "    cbar2 = plt.colorbar(CS,ax=ax[1],ticks=[vmin2,vmax2])\n",
    "    cbar2.set_label('Mixing Ratio (g/kg)')\n",
    "    \n",
    "    mean_time = np.array(ncds.isel(launch_time=slice(k,\n",
    "                    k+sondes_per_reg)).launch_time.mean().values, dtype='datetime64[m]')\n",
    "    \n",
    "    plt.suptitle(f'Mean time of circle: {mean_time}')\n",
    "    plt.savefig(f'{k}_mr_LCL.jpeg')\n",
    "    plt.close()"
   ]
  },
  {
   "cell_type": "code",
   "execution_count": 1062,
   "metadata": {},
   "outputs": [
    {
     "data": {
      "text/plain": [
       "array([[        nan,         nan,         nan,         nan,         nan,\n",
       "                nan,         nan,         nan,         nan,         nan,\n",
       "                nan,         nan,         nan,         nan,         nan],\n",
       "       [        nan,         nan,         nan,         nan,         nan,\n",
       "                nan,         nan,         nan,         nan,         nan,\n",
       "                nan,         nan,         nan,         nan,         nan],\n",
       "       [        nan,         nan,         nan,         nan,         nan,\n",
       "        15.25018036, 14.96957623, 14.59742702, 14.19291805,         nan,\n",
       "                nan,         nan,         nan,         nan,         nan],\n",
       "       [        nan,         nan,         nan, 15.22631455, 15.00787689,\n",
       "        14.78943923, 14.57100157, 14.35256391, 14.13412625, 13.91568859,\n",
       "                nan,         nan,         nan,         nan,         nan],\n",
       "       [        nan,         nan,         nan, 12.88386743, 12.66542977,\n",
       "        12.69828097, 12.93524137, 13.17220178, 13.40916218, 13.64612258,\n",
       "        13.88308299,         nan,         nan,         nan,         nan],\n",
       "       [        nan,         nan, 15.25264371, 15.19167519, 15.13070666,\n",
       "        14.83045056, 13.70473845, 13.33320967, 13.57017008, 13.80713048,\n",
       "        14.04409088,         nan,         nan,         nan,         nan],\n",
       "       [        nan,         nan, 14.75516574, 14.69419722, 14.6332287 ,\n",
       "        14.57226018, 14.51129165, 14.45032313, 14.37988168, 14.29223175,\n",
       "        14.20458182, 14.11693189,         nan,         nan,         nan],\n",
       "       [        nan,         nan, 14.34028499, 14.11725737, 14.02960744,\n",
       "        13.94195751, 13.85430758, 13.76665765, 13.67900772, 13.59135779,\n",
       "        13.50370786, 13.41605793,         nan,         nan,         nan],\n",
       "       [        nan,         nan, 15.20688263, 14.92039229, 14.63390195,\n",
       "        14.34741161, 14.06092127, 13.77443093, 13.48794059, 13.20145025,\n",
       "        12.91495991, 12.71518397,         nan,         nan,         nan],\n",
       "       [        nan,         nan, 15.17013471, 15.78698994, 15.5004996 ,\n",
       "        15.21400926, 14.89008522, 14.56417125, 14.23825727, 13.9123433 ,\n",
       "        13.58642932,         nan,         nan,         nan,         nan],\n",
       "       [        nan,         nan,         nan, 15.64262264, 15.63983285,\n",
       "        15.63704306, 15.49813942, 15.17222544, 14.84631147, 14.5203975 ,\n",
       "                nan,         nan,         nan,         nan,         nan],\n",
       "       [        nan,         nan,         nan,         nan, 14.29810305,\n",
       "        14.32404182, 14.38257866, 14.4411155 , 14.49965234,         nan,\n",
       "                nan,         nan,         nan,         nan,         nan],\n",
       "       [        nan,         nan,         nan,         nan,         nan,\n",
       "                nan,         nan,         nan,         nan,         nan,\n",
       "                nan,         nan,         nan,         nan,         nan],\n",
       "       [        nan,         nan,         nan,         nan,         nan,\n",
       "                nan,         nan,         nan,         nan,         nan,\n",
       "                nan,         nan,         nan,         nan,         nan],\n",
       "       [        nan,         nan,         nan,         nan,         nan,\n",
       "                nan,         nan,         nan,         nan,         nan,\n",
       "                nan,         nan,         nan,         nan,         nan]])"
      ]
     },
     "execution_count": 1062,
     "metadata": {},
     "output_type": "execute_result"
    }
   ],
   "source": [
    "grid[k]"
   ]
  },
  {
   "cell_type": "code",
   "execution_count": 844,
   "metadata": {},
   "outputs": [
    {
     "name": "stderr",
     "output_type": "stream",
     "text": [
      "/Users/geet/anaconda3/lib/python3.7/site-packages/ipykernel_launcher.py:11: TqdmDeprecationWarning: This function will be removed in tqdm==5.0.0\n",
      "Please use `tqdm.notebook.tqdm` instead of `tqdm.tqdm_notebook`\n",
      "  # This is added back by InteractiveShellApp.init_path()\n"
     ]
    },
    {
     "data": {
      "application/vnd.jupyter.widget-view+json": {
       "model_id": "b9296b400d814f57a4c417df8e787805",
       "version_major": 2,
       "version_minor": 0
      },
      "text/plain": [
       "HBox(children=(FloatProgress(value=0.0, max=55.0), HTML(value='')))"
      ]
     },
     "metadata": {},
     "output_type": "display_data"
    },
    {
     "name": "stdout",
     "output_type": "stream",
     "text": [
      "\n"
     ]
    }
   ],
   "source": [
    "upto = 150 # height up to which the average is to be taken\n",
    "fro = 0 # height from which the average is to be taken\n",
    "\n",
    "grid_x = [None] * iterations\n",
    "grid_y = [None] * iterations\n",
    "grid = [None] * iterations\n",
    "\n",
    "u = [None] * iterations\n",
    "v = [None] * iterations\n",
    "\n",
    "for k in tqdm(range(0,iterations)) :\n",
    "    \n",
    "    lat_points = ncds.isel(launch_time=slice(k,k+sondes_per_reg)).\\\n",
    "                    sel(alt=slice(fro,upto)).lat.mean(dim='alt').values\n",
    "    lon_points = ncds.isel(launch_time=slice(k,k+sondes_per_reg)).\\\n",
    "                    sel(alt=slice(fro,upto)).lon.mean(dim='alt').values + 360\n",
    "    \n",
    "    l_points = list(set(zip(lon_points,lat_points)))\n",
    "    \n",
    "    q_values = ncds.isel(launch_time=slice(k,k+sondes_per_reg)).\\\n",
    "                    sel(alt=slice(fro,upto)).q.mean(dim='alt').values\n",
    "    \n",
    "    grid_x[k], grid_y[k] = np.mgrid[floor(np.min(lon_points)):ceil(np.max(lon_points)):0.2, \n",
    "                          floor(np.min(lat_points)):ceil(np.max(lat_points)):0.2]\n",
    "    \n",
    "    grid[k] = griddata(l_points,q_values, (grid_x[k],grid_y[k]), method = 'linear')\n",
    "    \n",
    "    u[k] = np.gradient(grid[k])[0]\n",
    "    v[k] = np.gradient(grid[k])[1]\n",
    "    \n",
    "    f,ax = plt.subplots(1,2,sharex=True,sharey=True,figsize=(12,6))\n",
    "    \n",
    "    vmin1 = 0; vmax1 = 6e-04\n",
    "    \n",
    "    norm = matplotlib.colors.Normalize(vmin=vmin1,vmax=vmax1,clip=False)\n",
    "    cmap = matplotlib.colors.ListedColormap(plt.cm.Blues(np.linspace(0.25,1,10)), \"name\")\n",
    "\n",
    "    q = ax[0].quiver(grid_x[k],grid_y[k],\n",
    "                     u[k],v[k],np.hypot(u[k],v[k]),\n",
    "                     units='width', pivot='mid', width=0.01,#vmin=vmin1,vmax=vmax1,\n",
    "                     cmap=cmap,norm=norm)\n",
    "#     ax[0].quiverkey(q, 0.9, 0.9, 1, r'$1 \\frac{m}{s}$', labelpos='E',\n",
    "#                    coordinates='figure')\n",
    "                                                                                                                                                                                                                    \n",
    "    cbar1 = plt.colorbar(q,ax=ax[0],norm=norm)\n",
    "    cbar1.set_label('Moisture Gradient ( / $\\degree$)')\n",
    "#     cbar1 = q.clim(0.1,2)\n",
    "    \n",
    "    ax[0].scatter(lon_points,lat_points,s=45,c='r',label='Dropsondes considered')\n",
    "    ax[0].legend()\n",
    "    ax[0].set_ylabel('Latitude ($\\degree$N)')\n",
    "    ax[0].set_xlabel('Longitude ($\\degree$E)')\n",
    "    \n",
    "#     vmin2=0.015; vmax2=0.017\n",
    "#     levels2 = np.linspace(vmin2, vmax2+0.5,50)\n",
    "    \n",
    "    CS = ax[1].contourf(grid_x[k],grid_y[k],\n",
    "                  grid[k],cmap='Blues'\n",
    "                  ) #,levels=levels2,vmin=vmin2,vmax=vmax2\n",
    "    ax[1].set_xlabel('Longitude ($\\degree$E)')\n",
    "    cbar2 = plt.colorbar(CS,ax=ax[1]) # ,ticks=[vmin2,vmax2]\n",
    "    cbar2.set_label('Specific Humidity (hPa)') \n",
    "    \n",
    "    mean_time = np.array(ncds.isel(launch_time=slice(k,\n",
    "                    k+sondes_per_reg)).launch_time.mean().values, dtype='datetime64[m]')\n",
    "    \n",
    "    plt.suptitle(f'Mean time of circle: {mean_time}')\n",
    "    plt.savefig(f'{k}_q_srf.jpeg')\n",
    "    plt.close()"
   ]
  },
  {
   "cell_type": "code",
   "execution_count": null,
   "metadata": {},
   "outputs": [],
   "source": []
  }
 ],
 "metadata": {
  "kernelspec": {
   "display_name": "Python 3",
   "language": "python",
   "name": "python3"
  },
  "language_info": {
   "codemirror_mode": {
    "name": "ipython",
    "version": 3
   },
   "file_extension": ".py",
   "mimetype": "text/x-python",
   "name": "python",
   "nbconvert_exporter": "python",
   "pygments_lexer": "ipython3",
   "version": "3.7.6"
  },
  "latex_envs": {
   "LaTeX_envs_menu_present": true,
   "autoclose": false,
   "autocomplete": true,
   "bibliofile": "biblio.bib",
   "cite_by": "apalike",
   "current_citInitial": 1,
   "eqLabelWithNumbers": true,
   "eqNumInitial": 1,
   "hotkeys": {
    "equation": "Ctrl-E",
    "itemize": "Ctrl-I"
   },
   "labels_anchors": false,
   "latex_user_defs": false,
   "report_style_numbering": false,
   "user_envs_cfg": false
  }
 },
 "nbformat": 4,
 "nbformat_minor": 4
}
