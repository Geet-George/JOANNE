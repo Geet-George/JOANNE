{
 "metadata": {
  "language_info": {
   "codemirror_mode": {
    "name": "ipython",
    "version": 3
   },
   "file_extension": ".py",
   "mimetype": "text/x-python",
   "name": "python",
   "nbconvert_exporter": "python",
   "pygments_lexer": "ipython3",
   "version": "3.7.6-final"
  },
  "orig_nbformat": 2,
  "kernelspec": {
   "name": "python37664bitjoanneenvvenv8fd0b05e2bb94bc8ae33b5f7ab726cfa",
   "display_name": "Python 3.7.6 64-bit ('joanne_env': venv)",
   "language": "python"
  }
 },
 "nbformat": 4,
 "nbformat_minor": 2,
 "cells": [
  {
   "cell_type": "code",
   "execution_count": 1,
   "metadata": {},
   "outputs": [],
   "source": [
    "import xarray as xr\n",
    "import numpy as np\n",
    "import seaborn as sb\n",
    "import matplotlib.pyplot as plt\n",
    "import glob\n",
    "from pylab import shape,size\n",
    "import pandas as pd\n",
    "import yaml\n",
    "from datetime import date"
   ]
  },
  {
   "cell_type": "code",
   "execution_count": 2,
   "metadata": {},
   "outputs": [],
   "source": [
    "data_dir = '../Data/'\n",
    "flight_seg_dir = '../joanne/flight_segments/'\n",
    "sondes_yaml_dir = '../joanne/Level_2/'\n",
    "\n",
    "levels_dir = np.empty(5,dtype='U16')\n",
    "\n",
    "for i in range(5) :\n",
    "    levels_dir[i] = data_dir+f'Level_{i}/'"
   ]
  },
  {
   "source": [
    "## Flight Segment files"
   ],
   "cell_type": "markdown",
   "metadata": {}
  },
  {
   "cell_type": "code",
   "execution_count": 3,
   "metadata": {},
   "outputs": [],
   "source": [
    "fs_files = sorted(glob.glob(flight_seg_dir+'*.yaml'))\n",
    "sondes_yaml = yaml.load(open(sondes_yaml_dir+'sondes_for_flightphase.yaml'),Loader=yaml.SafeLoader)"
   ]
  },
  {
   "cell_type": "code",
   "execution_count": 77,
   "metadata": {},
   "outputs": [],
   "source": [
    "circle_times = []\n",
    "flight_date = []\n",
    "takeoff = {}\n",
    "landing = {}\n",
    "circles_in_flight = {}\n",
    "platform_name = []\n",
    "segment_id = []\n",
    "circle_count = {}\n",
    "\n",
    "for i in fs_files:\n",
    "\n",
    "    with open(i) as source:\n",
    "        flightinfo = yaml.load(source, Loader=yaml.SafeLoader)\n",
    "\n",
    "    circle_count[flightinfo['flight_id']] = [c[\"segment_id\"]\n",
    "            for c in flightinfo[\"segments\"]\n",
    "            if \"circle\" in c[\"kinds\"]]\n",
    "            # if len(c[\"dropsondes\"][\"GOOD\"]) >= 6\n",
    "\n",
    "    segment_id.append(\n",
    "        [\n",
    "            (c[\"segment_id\"])\n",
    "            for c in flightinfo[\"segments\"]\n",
    "            if \"circle\" in c[\"kinds\"]\n",
    "            if len(c[\"dropsondes\"][\"GOOD\"]) >= 6\n",
    "        ]\n",
    "    )\n",
    "\n",
    "    if \"HALO\" in i:\n",
    "        platform_name.append(\"HALO\")\n",
    "    elif \"P3\" in i:\n",
    "        platform_name.append(\"P3\")\n",
    "    else:\n",
    "        platform_name.append(\"\")\n",
    "\n",
    "    flight_date.append(np.datetime64(date.strftime(flightinfo[\"date\"], \"%Y-%m-%d\")))\n",
    "    takeoff[flightinfo['flight_id']] = np.datetime64(date.strftime(flightinfo[\"takeoff\"], \"%Y-%m-%d %H:%M:%S\"))\n",
    "    landing[flightinfo['flight_id']] = np.datetime64(date.strftime(flightinfo[\"landing\"], \"%Y-%m-%d %H:%M:%S\"))\n",
    "    circles_in_flight[flightinfo['flight_id']] = int(len(circle_count[flightinfo['flight_id']]))"
   ]
  },
  {
   "cell_type": "code",
   "execution_count": 283,
   "metadata": {},
   "outputs": [
    {
     "output_type": "stream",
     "name": "stdout",
     "text": [
      "3 0\n",
      "3 1\n",
      "3 2\n",
      "24 3\n"
     ]
    }
   ],
   "source": [
    "df_flights = [None] * len(fs_files)\n",
    "\n",
    "for id_,i in enumerate(fs_files):\n",
    "\n",
    "    with open(i, 'r') as f:\n",
    "        segments = yaml.load(f)['segments']\n",
    "        df_flights[id_] = pd.io.json.json_normalize([c for c in segments if 'circle' in c['kinds']])\n",
    "\n",
    "    if len(df_flights[id_]) != 0 :\n",
    "        total_sondes = [None] * len(df_flights[id_]['kinds'])\n",
    "\n",
    "        for g in range(len(df_flights[id_]['kinds'])):\n",
    "            total_sondes[g] = len(df_flights[id_]['dropsondes.GOOD'][g]) + len(df_flights[id_]['dropsondes.BAD'][g]) + len(df_flights[id_]['dropsondes.UGLY'][g])\n",
    "\n",
    "        df_flights[id_]['total_sondes'] = pd.Series(total_sondes)\n",
    "\n",
    "        drop_list = []\n",
    "        for g in range(len(total_sondes)) :\n",
    "            if total_sondes[g] == 0 :\n",
    "                print(id_,g)\n",
    "                drop_list.append(g)\n",
    "        \n",
    "        if len(drop_list) > 0 :\n",
    "            df_flights[id_].drop(drop_list,inplace=True)"
   ]
  },
  {
   "cell_type": "code",
   "execution_count": 306,
   "metadata": {},
   "outputs": [],
   "source": [
    "circles_df_flights = pd.concat([i for i in df_flights if len(i) != 0])"
   ]
  },
  {
   "source": [
    "## Level-4 Dataset"
   ],
   "cell_type": "markdown",
   "metadata": {}
  },
  {
   "cell_type": "code",
   "execution_count": 289,
   "metadata": {},
   "outputs": [],
   "source": [
    "l4_file = sorted(glob.glob(levels_dir[4]+'*v0.8.1+11*.nc'))\n",
    "l4 = xr.open_dataset(l4_file[-1])"
   ]
  },
  {
   "cell_type": "code",
   "execution_count": null,
   "metadata": {},
   "outputs": [],
   "source": []
  },
  {
   "cell_type": "code",
   "execution_count": 340,
   "metadata": {},
   "outputs": [
    {
     "output_type": "stream",
     "name": "stdout",
     "text": [
      "\\begin{longtable}{cccccc}\n\\caption{Details of circles flown during \\EURECA. Time is the mean launch time for all sondes in the circle. Longitude (\\si{\\degree}E), latitude (\\si{\\degree}N) and diameter (\\si{\\kilo\\meter}) are of a least-squares fitted circle to all sondes. Dropsondes show total number of sondes launched in the circle. The sondes used for regression may vary as some sondes might be faulty. The sondes regressed at every altitude level is available as a variable in Level-4.}\\label{tab:circle_sondes}\\\\\n\\toprule\n    Circle ID & Circle Time &  Longitude &  Latitude &  Diameter &  Dropsondes \\\\\n\\midrule\n\\endhead\n\\midrule\n\\multicolumn{6}{r}{{Continued on next page}} \\\\\n\\midrule\n\\endfoot\n\n\\bottomrule\n\\endlastfoot\n  P3-0117\\_ci1 &       15:55 &     -51.00 &     14.84 &    181.83 &          12 \\\\\n  P3-0119\\_ci1 &       15:02 &     -52.97 &     14.50 &    180.94 &          12 \\\\\n  P3-0123\\_ci1 &       14:32 &     -54.96 &     14.38 &    186.96 &          12 \\\\\n  P3-0123\\_ci2 &       20:11 &     -55.68 &     13.29 &    185.35 &          12 \\\\\n  P3-0131\\_ci1 &       16:53 &     -54.38 &     13.84 &    184.74 &          12 \\\\\n  P3-0203\\_ci1 &       14:41 &     -54.50 &     13.92 &    183.20 &          13 \\\\\n  P3-0204\\_ci1 &       14:49 &     -53.14 &     13.49 &    184.45 &          12 \\\\\n  P3-0205\\_ci1 &       15:13 &     -53.26 &     12.23 &    179.62 &          12 \\\\\n  P3-0209\\_ci1 &       04:56 &     -57.67 &     13.26 &    243.87 &          12 \\\\\n  P3-0209\\_ci2 &       06:21 &     -54.87 &     13.84 &    187.64 &          12 \\\\\n  P3-0210\\_ci1 &       04:56 &     -57.74 &     13.30 &    220.41 &          12 \\\\\n  P3-0210\\_ci2 &       06:11 &     -54.78 &     13.77 &    184.81 &          12 \\\\\n  P3-0211\\_ci1 &       06:06 &     -57.71 &     13.30 &    221.61 &          12 \\\\\n  P3-0211\\_ci2 &       07:15 &     -55.49 &     14.23 &    185.69 &          13 \\\\\n HALO-0119\\_c1 &       17:55 &     -57.86 &     13.27 &    186.62 &          12 \\\\\n HALO-0122\\_c1 &       15:45 &     -57.70 &     13.27 &    222.45 &          12 \\\\\n HALO-0122\\_c2 &       16:59 &     -57.71 &     13.28 &    223.80 &          12 \\\\\n HALO-0122\\_c3 &       18:10 &     -57.72 &     13.27 &    220.94 &          12 \\\\\n HALO-0122\\_c4 &       20:11 &     -57.70 &     13.29 &    224.13 &          13 \\\\\n HALO-0122\\_c5 &       21:26 &     -57.71 &     13.29 &    223.65 &          12 \\\\\n HALO-0122\\_c6 &       22:34 &     -57.71 &     13.31 &    225.98 &          12 \\\\\n HALO-0124\\_c1 &       10:16 &     -57.63 &     13.24 &    231.92 &          13 \\\\\n HALO-0124\\_c2 &       11:29 &     -57.66 &     13.28 &    224.16 &          13 \\\\\n HALO-0124\\_c3 &       12:41 &     -57.69 &     13.28 &    223.83 &          12 \\\\\n HALO-0124\\_c4 &       13:58 &     -57.68 &     13.27 &    223.80 &          12 \\\\\n HALO-0124\\_c5 &       15:06 &     -57.69 &     13.27 &    223.99 &          12 \\\\\n HALO-0124\\_c6 &       16:17 &     -57.68 &     13.27 &    223.47 &          13 \\\\\n HALO-0126\\_c1 &       12:50 &     -57.68 &     13.29 &    224.27 &          12 \\\\\n HALO-0126\\_c2 &       14:02 &     -57.67 &     13.30 &    219.52 &          12 \\\\\n HALO-0126\\_c3 &       15:10 &     -57.69 &     13.28 &    221.75 &          12 \\\\\n HALO-0126\\_c4 &       17:48 &     -57.67 &     13.29 &    224.50 &          12 \\\\\n HALO-0126\\_c5 &       19:01 &     -57.69 &     13.28 &    221.74 &          12 \\\\\n HALO-0126\\_c6 &       20:18 &     -57.67 &     13.29 &    224.14 &          12 \\\\\n HALO-0128\\_c1 &       15:47 &     -57.70 &     13.30 &    223.86 &          12 \\\\\n HALO-0128\\_c2 &       16:57 &     -57.70 &     13.30 &    223.83 &          12 \\\\\n HALO-0128\\_c3 &       18:10 &     -57.69 &     13.32 &    221.09 &          12 \\\\\n HALO-0128\\_c4 &       20:24 &     -57.71 &     13.32 &    226.15 &          12 \\\\\n HALO-0128\\_c5 &       21:41 &     -57.70 &     13.30 &    223.89 &          12 \\\\\n HALO-0128\\_c6 &       22:56 &     -57.70 &     13.30 &    224.00 &          13 \\\\\n HALO-0131\\_c1 &       15:57 &     -57.70 &     13.31 &    225.87 &          11 \\\\\n HALO-0131\\_c2 &       17:06 &     -57.72 &     13.31 &    226.37 &          12 \\\\\n HALO-0131\\_c3 &       18:20 &     -57.69 &     13.30 &    219.06 &          12 \\\\\n HALO-0131\\_c4 &       20:28 &     -57.69 &     13.29 &    224.05 &          12 \\\\\n HALO-0131\\_c5 &       21:43 &     -57.70 &     13.29 &    224.16 &          12 \\\\\n HALO-0131\\_c6 &       22:53 &     -57.68 &     13.29 &    221.11 &          12 \\\\\n HALO-0202\\_c1 &       12:11 &     -57.72 &     13.29 &    224.80 &          12 \\\\\n HALO-0202\\_c2 &       13:17 &     -57.71 &     13.28 &    223.70 &          12 \\\\\n HALO-0202\\_c3 &       14:28 &     -57.71 &     13.27 &    225.82 &          13 \\\\\n HALO-0202\\_c4 &       16:55 &     -57.70 &     13.28 &    226.32 &          12 \\\\\n HALO-0202\\_c5 &       18:03 &     -57.72 &     13.28 &    222.29 &          12 \\\\\n HALO-0202\\_c6 &       19:05 &     -57.71 &     13.29 &    224.81 &          13 \\\\\n HALO-0205\\_c1 &       09:59 &     -57.70 &     13.29 &    220.90 &          12 \\\\\n HALO-0205\\_c2 &       11:12 &     -57.70 &     13.28 &    220.83 &          14 \\\\\n HALO-0205\\_c3 &       12:22 &     -57.72 &     13.26 &    223.24 &          12 \\\\\n HALO-0205\\_c4 &       15:02 &     -57.71 &     13.23 &    224.79 &          12 \\\\\n HALO-0205\\_c5 &       16:10 &     -57.73 &     13.28 &    226.24 &          13 \\\\\n HALO-0205\\_c6 &       17:23 &     -57.73 &     13.26 &    221.61 &          12 \\\\\n HALO-0207\\_c1 &       12:48 &     -57.73 &     13.28 &    223.83 &          12 \\\\\n HALO-0207\\_c2 &       13:56 &     -57.74 &     13.28 &    223.89 &          12 \\\\\n HALO-0207\\_c3 &       15:08 &     -57.73 &     13.29 &    223.34 &          12 \\\\\n HALO-0207\\_c4 &       17:44 &     -57.74 &     13.28 &    228.49 &          12 \\\\\n HALO-0207\\_c5 &       18:57 &     -57.73 &     13.28 &    224.13 &          12 \\\\\n HALO-0207\\_c6 &       20:16 &     -57.75 &     13.30 &    227.05 &          12 \\\\\n HALO-0209\\_c1 &       10:01 &     -57.70 &     13.26 &    224.99 &          12 \\\\\n HALO-0209\\_c2 &       11:12 &     -57.70 &     13.26 &    224.47 &          12 \\\\\n HALO-0209\\_c3 &       12:26 &     -57.68 &     13.28 &    221.16 &          11 \\\\\n HALO-0209\\_c4 &       14:28 &     -57.70 &     13.26 &    224.30 &          12 \\\\\n HALO-0209\\_c5 &       15:38 &     -57.70 &     13.26 &    223.40 &          12 \\\\\n HALO-0209\\_c6 &       16:53 &     -57.68 &     13.28 &    220.94 &          12 \\\\\n HALO-0211\\_c1 &       13:26 &     -57.71 &     13.32 &    229.03 &          12 \\\\\n HALO-0211\\_c2 &       14:38 &     -57.66 &     13.30 &    223.90 &          12 \\\\\n HALO-0211\\_c3 &       15:49 &     -57.64 &     13.31 &    221.57 &          12 \\\\\n HALO-0211\\_c4 &       17:06 &     -57.67 &     13.32 &    225.75 &          12 \\\\\n HALO-0211\\_c5 &       18:27 &     -57.66 &     13.30 &    223.99 &          12 \\\\\n HALO-0213\\_c1 &       08:42 &     -57.65 &     13.32 &    223.48 &          12 \\\\\n HALO-0213\\_c2 &       09:55 &     -57.65 &     13.33 &    222.42 &          12 \\\\\n HALO-0213\\_c3 &       11:05 &     -57.65 &     13.32 &    223.75 &          12 \\\\\n HALO-0213\\_c4 &       13:32 &     -57.65 &     13.32 &    223.49 &          12 \\\\\n HALO-0213\\_c5 &       14:49 &     -57.65 &     13.32 &    223.42 &          12 \\\\\n HALO-0213\\_c6 &       16:04 &     -57.66 &     13.32 &    224.29 &          12 \\\\\n HALO-0215\\_c1 &       16:10 &     -57.72 &     13.29 &    224.35 &          12 \\\\\n HALO-0215\\_c2 &       17:14 &     -57.68 &     13.25 &    229.77 &           8 \\\\\n HALO-0215\\_c3 &       18:46 &     -52.04 &     13.91 &    224.94 &          12 \\\\\n HALO-0215\\_c5 &       22:15 &     -57.67 &     13.32 &    223.69 &          13 \\\\\n HALO-0215\\_c6 &       23:13 &     -57.59 &     13.22 &    237.42 &           7 \\\\\n\\end{longtable}\n\n"
     ]
    }
   ],
   "source": [
    "circles_table = pd.DataFrame(index=pd.Series(l4.segment_id.values,name='Circle ID'),data={'Circle Time':pd.DatetimeIndex(l4.circle_time.values).strftime('%H:%M'),'Longitude':l4.circle_lon.values,'Latitude':l4.circle_lat.values,'Diameter':l4.circle_diameter.values/1000,'Dropsondes' : circles_df_flights['total_sondes'].values})#,'Minimum Sondes Regressed':l4.sondes_regressed.where(l4.sondes_regressed!=0,drop=True).min(dim='alt').astype(int)})\n",
    "\n",
    "caption = 'Details of circles flown during \\EURECA. Time is the mean launch time for all sondes in the circle. Longitude (\\si{\\degree}E), latitude (\\si{\\degree}N) and diameter (\\si{\\kilo\\meter}) are of a least-squares fitted circle to all sondes. Dropsondes show total number of sondes launched in the circle. The sondes used for regression may vary as some sondes might be faulty. The sondes regressed at every altitude level is available as a variable in Level-4.'\n",
    "\n",
    "print(circles_table.reset_index().to_latex(caption=caption,label='tab:circle_sondes',column_format='cccccc',index=False,longtable=True,float_format=\"%.2f\"))\n"
   ]
  },
  {
   "cell_type": "code",
   "execution_count": 6,
   "metadata": {},
   "outputs": [
    {
     "output_type": "stream",
     "name": "stdout",
     "text": [
      "\\begin{table}\n\\centering\n\\caption{Total dropsondes launched, circles flown during the flight, as well as takeoff and landing times (in UTC) for the flight are provided with corresponding flight IDs. The first part of the flight ID indicate the aircraft, and the latter part gives the flight date in the format MMDD}\n\\label{tab:flight_sondes}\n\\begin{tabular}{ccccc}\n\\toprule\n Flight ID &  Dropsondes launched &        Takeoff time &        Landing time &  Circles flown \\\\\n\\midrule\n HALO-0119 &                   15 & 2020-01-19 09:34:25 & 2020-01-19 18:48:03 &              1 \\\\\n HALO-0122 &                   73 & 2020-01-22 14:57:35 & 2020-01-23 00:10:30 &              6 \\\\\n HALO-0124 &                   77 & 2020-01-24 09:29:30 & 2020-01-24 18:41:13 &              6 \\\\\n HALO-0126 &                   75 & 2020-01-26 12:05:30 & 2020-01-26 21:20:49 &              6 \\\\\n HALO-0128 &                   74 & 2020-01-28 14:58:34 & 2020-01-28 23:55:17 &              6 \\\\\n HALO-0130 &                    4 & 2020-01-30 11:19:34 & 2020-01-30 15:08:20 &              0 \\\\\n HALO-0131 &                   74 & 2020-01-31 15:08:35 & 2020-01-31 23:56:53 &              6 \\\\\n HALO-0202 &                   89 & 2020-02-02 11:28:02 & 2020-02-02 20:13:24 &              6 \\\\\n HALO-0205 &                   76 & 2020-02-05 09:15:51 & 2020-02-05 18:21:22 &              6 \\\\\n HALO-0207 &                   73 & 2020-02-07 12:02:24 & 2020-02-07 21:11:40 &              6 \\\\\n HALO-0209 &                   72 & 2020-02-09 09:14:31 & 2020-02-09 18:03:00 &              6 \\\\\n HALO-0211 &                   62 & 2020-02-11 12:29:05 & 2020-02-11 21:37:29 &              5 \\\\\n HALO-0213 &                   73 & 2020-02-13 07:56:10 & 2020-02-13 17:17:17 &              6 \\\\\n HALO-0215 &                   51 & 2020-02-15 15:07:30 & 2020-02-16 00:12:44 &              6 \\\\\n HALO-0218 &                    7 & 2020-02-18 10:11:05 & 2020-02-18 18:55:31 &              0 \\\\\n   P3-0115 &                    2 &                 NaT &                 NaT &              0 \\\\\n   P3-0117 &                   23 & 2020-01-17 14:00:02 & 2020-01-17 20:50:00 &              1 \\\\\n   P3-0119 &                   28 & 2020-01-19 13:25:25 & 2020-01-19 21:47:51 &              1 \\\\\n   P3-0123 &                   38 & 2020-01-23 13:21:02 & 2020-01-23 21:29:14 &              2 \\\\\n   P3-0124 &                   16 & 2020-01-24 13:21:05 & 2020-01-24 22:14:32 &              3 \\\\\n   P3-0131 &                   25 & 2020-01-31 15:32:27 & 2020-01-31 23:36:04 &              1 \\\\\n   P3-0203 &                   22 & 2020-02-03 13:19:02 & 2020-02-03 19:21:57 &              1 \\\\\n   P3-0204 &                   31 & 2020-02-04 13:19:52 & 2020-02-04 21:54:08 &              1 \\\\\n   P3-0205 &                   29 & 2020-02-05 13:22:23 & 2020-02-05 21:59:43 &              1 \\\\\n   P3-0209 &                   32 & 2020-02-09 01:56:28 & 2020-02-09 10:13:37 &              2 \\\\\n   P3-0210 &                   32 & 2020-02-10 01:48:57 & 2020-02-10 09:54:42 &              2 \\\\\n   P3-0211 &                   44 & 2020-02-11 03:15:07 & 2020-02-11 11:21:50 &              2 \\\\\n\\bottomrule\n\\end{tabular}\n\\end{table}\n\n"
     ]
    }
   ],
   "source": [
    "with open(sondes_yaml_dir+'sondes_for_flightphase.yaml', 'r') as f:\n",
    "    df = pd.io.json.json_normalize(yaml.load(f))\n",
    "\n",
    "df['flight_id'] = [df['sonde_id'][m][:-4] for m in range(len(df['sonde_id']))] \n",
    "\n",
    "sondes_per_flight = pd.DataFrame(df.groupby(['flight_id']).count()['sonde_id'])\n",
    "sondes_per_flight.rename(columns={'sonde_id':'Dropsondes launched'},inplace=True)\n",
    "sondes_per_flight.index.rename('Flight ID',inplace=True)\n",
    "sondes_per_flight['Takeoff time'] = pd.Series(takeoff)\n",
    "sondes_per_flight['Landing time'] = pd.Series(landing)\n",
    "sondes_per_flight['Circles flown'] = pd.Series(circles_in_flight)\n",
    "sondes_per_flight['Circles flown'].fillna(0,inplace=True)\n",
    "\n",
    "# sondes_per_flight['Circles flown'].astype('int64',copy=False)\n",
    "caption = 'Total dropsondes launched, circles flown during the flight, as well as takeoff and landing times (in UTC) for the flight are provided with corresponding flight IDs. The first part of the flight ID indicate the aircraft, and the latter part gives the flight date in the format MMDD'\n",
    "\n",
    "print(sondes_per_flight.reset_index().to_latex(caption=caption,label='tab:flight_sondes',column_format='ccccc',index=False,float_format=\"%d\",escape=False))"
   ]
  },
  {
   "source": [
    "# Level-0 : Count of D-files"
   ],
   "cell_type": "markdown",
   "metadata": {}
  },
  {
   "cell_type": "code",
   "execution_count": 7,
   "metadata": {},
   "outputs": [],
   "source": [
    "lv0_dfiles_halo = sorted(glob.glob(levels_dir[0]+'HALO/**/'+'D2020*_P*'))\n",
    "lv0_dfiles_p3 = sorted(glob.glob(levels_dir[0]+'P3/**/'+'D2020*_P*'))"
   ]
  },
  {
   "cell_type": "code",
   "execution_count": 8,
   "metadata": {},
   "outputs": [
    {
     "output_type": "stream",
     "name": "stdout",
     "text": [
      "322\n896\n"
     ]
    }
   ],
   "source": [
    "print(len(lv0_dfiles_p3))\n",
    "print(len(lv0_dfiles_halo))\n"
   ]
  },
  {
   "cell_type": "code",
   "execution_count": 38,
   "metadata": {},
   "outputs": [],
   "source": [
    "qc_HALO_file = glob.glob(levels_dir[2]+'logs_and_stats/Status_of_sondes_HALO_v0.8*.nc')\n",
    "qc_P3_file = glob.glob(levels_dir[2]+'logs_and_stats/Status_of_sondes_P3_v0.8*.nc')\n",
    "\n",
    "halo_stat = xr.open_dataset(qc_HALO_file[0])\n",
    "p3_stat = xr.open_dataset(qc_P3_file[0])\n",
    "\n",
    "qc = xr.concat([halo_stat,p3_stat],dim='time')"
   ]
  },
  {
   "cell_type": "code",
   "execution_count": 39,
   "metadata": {},
   "outputs": [
    {
     "output_type": "execute_result",
     "data": {
      "text/plain": [
       "<xarray.Dataset>\n",
       "Dimensions:          (time: 1217)\n",
       "Coordinates:\n",
       "  * time             (time) datetime64[ns] 2020-01-19T16:14:10 ... 2020-02-11...\n",
       "Data variables:\n",
       "    s_time           (time) int64 3011 2955 2997 3152 ... 1060 1003 1021 1074\n",
       "    s_t              (time) int64 1383 1385 1387 1474 1456 ... 498 494 499 505\n",
       "    s_rh             (time) int64 1303 1318 1322 1404 1377 ... 502 498 494 508\n",
       "    s_p              (time) int64 1381 1383 1385 1473 1455 ... 498 494 499 506\n",
       "    s_z              (time) int64 274 1354 1347 1401 1390 ... 511 482 501 507\n",
       "    s_u              (time) int64 31 2715 2730 2780 2866 ... 965 926 889 919 916\n",
       "    s_v              (time) int64 31 2715 2730 2780 2866 ... 965 926 889 919 916\n",
       "    s_alt            (time) int64 1381 1383 1385 1473 1455 ... 475 498 494 499 1\n",
       "    ld_FLAG          (time) float64 1.0 1.0 1.0 1.0 1.0 ... 1.0 1.0 1.0 1.0 1.0\n",
       "    t_flag           (time) object 'good' 'good' 'good' ... 'good' 'good' 'good'\n",
       "    rh_flag          (time) object 'good' 'good' 'good' ... 'good' 'good' 'good'\n",
       "    p_flag           (time) object 'good' 'good' 'good' ... 'good' 'good' 'good'\n",
       "    z_flag           (time) object 'ugly' 'good' 'good' ... 'good' 'good' 'good'\n",
       "    u_flag           (time) object 'ugly' 'good' 'good' ... 'good' 'good' 'good'\n",
       "    v_flag           (time) object 'ugly' 'good' 'good' ... 'good' 'good' 'good'\n",
       "    alt_flag         (time) object 'good' 'good' 'good' ... 'good' 'good' 'ugly'\n",
       "    srf_p_flag       (time) float64 1.0 1.0 1.0 1.0 1.0 ... 1.0 1.0 1.0 1.0 1.0\n",
       "    srf_z_flag       (time) float64 1.0 1.0 1.0 1.0 1.0 ... 1.0 1.0 1.0 1.0 1.0\n",
       "    srf_t_flag       (time) float64 1.0 1.0 1.0 1.0 1.0 ... 1.0 1.0 1.0 1.0 1.0\n",
       "    srf_rh_flag      (time) float64 1.0 1.0 1.0 1.0 1.0 ... 1.0 1.0 1.0 1.0 1.0\n",
       "    rms_palt_gpsalt  (time) float64 1.0 1.0 1.0 1.0 1.0 ... 1.0 1.0 1.0 1.0 0.0\n",
       "    ind_FLAG         (time) object 'UGLY' 'GOOD' 'GOOD' ... 'GOOD' 'GOOD' 'UGLY'\n",
       "    srf_FLAG         (time) object 'GOOD' 'GOOD' 'GOOD' ... 'GOOD' 'GOOD' 'UGLY'\n",
       "    FLAG             (time) object 'UGLY' 'GOOD' 'GOOD' ... 'GOOD' 'GOOD' 'UGLY'"
      ],
      "text/html": "<div><svg style=\"position: absolute; width: 0; height: 0; overflow: hidden\">\n<defs>\n<symbol id=\"icon-database\" viewBox=\"0 0 32 32\">\n<path d=\"M16 0c-8.837 0-16 2.239-16 5v4c0 2.761 7.163 5 16 5s16-2.239 16-5v-4c0-2.761-7.163-5-16-5z\"></path>\n<path d=\"M16 17c-8.837 0-16-2.239-16-5v6c0 2.761 7.163 5 16 5s16-2.239 16-5v-6c0 2.761-7.163 5-16 5z\"></path>\n<path d=\"M16 26c-8.837 0-16-2.239-16-5v6c0 2.761 7.163 5 16 5s16-2.239 16-5v-6c0 2.761-7.163 5-16 5z\"></path>\n</symbol>\n<symbol id=\"icon-file-text2\" viewBox=\"0 0 32 32\">\n<path d=\"M28.681 7.159c-0.694-0.947-1.662-2.053-2.724-3.116s-2.169-2.030-3.116-2.724c-1.612-1.182-2.393-1.319-2.841-1.319h-15.5c-1.378 0-2.5 1.121-2.5 2.5v27c0 1.378 1.122 2.5 2.5 2.5h23c1.378 0 2.5-1.122 2.5-2.5v-19.5c0-0.448-0.137-1.23-1.319-2.841zM24.543 5.457c0.959 0.959 1.712 1.825 2.268 2.543h-4.811v-4.811c0.718 0.556 1.584 1.309 2.543 2.268zM28 29.5c0 0.271-0.229 0.5-0.5 0.5h-23c-0.271 0-0.5-0.229-0.5-0.5v-27c0-0.271 0.229-0.5 0.5-0.5 0 0 15.499-0 15.5 0v7c0 0.552 0.448 1 1 1h7v19.5z\"></path>\n<path d=\"M23 26h-14c-0.552 0-1-0.448-1-1s0.448-1 1-1h14c0.552 0 1 0.448 1 1s-0.448 1-1 1z\"></path>\n<path d=\"M23 22h-14c-0.552 0-1-0.448-1-1s0.448-1 1-1h14c0.552 0 1 0.448 1 1s-0.448 1-1 1z\"></path>\n<path d=\"M23 18h-14c-0.552 0-1-0.448-1-1s0.448-1 1-1h14c0.552 0 1 0.448 1 1s-0.448 1-1 1z\"></path>\n</symbol>\n</defs>\n</svg>\n<style>/* CSS stylesheet for displaying xarray objects in jupyterlab.\n *\n */\n\n:root {\n  --xr-font-color0: var(--jp-content-font-color0, rgba(0, 0, 0, 1));\n  --xr-font-color2: var(--jp-content-font-color2, rgba(0, 0, 0, 0.54));\n  --xr-font-color3: var(--jp-content-font-color3, rgba(0, 0, 0, 0.38));\n  --xr-border-color: var(--jp-border-color2, #e0e0e0);\n  --xr-disabled-color: var(--jp-layout-color3, #bdbdbd);\n  --xr-background-color: var(--jp-layout-color0, white);\n  --xr-background-color-row-even: var(--jp-layout-color1, white);\n  --xr-background-color-row-odd: var(--jp-layout-color2, #eeeeee);\n}\n\nhtml[theme=dark],\nbody.vscode-dark {\n  --xr-font-color0: rgba(255, 255, 255, 1);\n  --xr-font-color2: rgba(255, 255, 255, 0.54);\n  --xr-font-color3: rgba(255, 255, 255, 0.38);\n  --xr-border-color: #1F1F1F;\n  --xr-disabled-color: #515151;\n  --xr-background-color: #111111;\n  --xr-background-color-row-even: #111111;\n  --xr-background-color-row-odd: #313131;\n}\n\n.xr-wrap {\n  display: block;\n  min-width: 300px;\n  max-width: 700px;\n}\n\n.xr-text-repr-fallback {\n  /* fallback to plain text repr when CSS is not injected (untrusted notebook) */\n  display: none;\n}\n\n.xr-header {\n  padding-top: 6px;\n  padding-bottom: 6px;\n  margin-bottom: 4px;\n  border-bottom: solid 1px var(--xr-border-color);\n}\n\n.xr-header > div,\n.xr-header > ul {\n  display: inline;\n  margin-top: 0;\n  margin-bottom: 0;\n}\n\n.xr-obj-type,\n.xr-array-name {\n  margin-left: 2px;\n  margin-right: 10px;\n}\n\n.xr-obj-type {\n  color: var(--xr-font-color2);\n}\n\n.xr-sections {\n  padding-left: 0 !important;\n  display: grid;\n  grid-template-columns: 150px auto auto 1fr 20px 20px;\n}\n\n.xr-section-item {\n  display: contents;\n}\n\n.xr-section-item input {\n  display: none;\n}\n\n.xr-section-item input + label {\n  color: var(--xr-disabled-color);\n}\n\n.xr-section-item input:enabled + label {\n  cursor: pointer;\n  color: var(--xr-font-color2);\n}\n\n.xr-section-item input:enabled + label:hover {\n  color: var(--xr-font-color0);\n}\n\n.xr-section-summary {\n  grid-column: 1;\n  color: var(--xr-font-color2);\n  font-weight: 500;\n}\n\n.xr-section-summary > span {\n  display: inline-block;\n  padding-left: 0.5em;\n}\n\n.xr-section-summary-in:disabled + label {\n  color: var(--xr-font-color2);\n}\n\n.xr-section-summary-in + label:before {\n  display: inline-block;\n  content: '►';\n  font-size: 11px;\n  width: 15px;\n  text-align: center;\n}\n\n.xr-section-summary-in:disabled + label:before {\n  color: var(--xr-disabled-color);\n}\n\n.xr-section-summary-in:checked + label:before {\n  content: '▼';\n}\n\n.xr-section-summary-in:checked + label > span {\n  display: none;\n}\n\n.xr-section-summary,\n.xr-section-inline-details {\n  padding-top: 4px;\n  padding-bottom: 4px;\n}\n\n.xr-section-inline-details {\n  grid-column: 2 / -1;\n}\n\n.xr-section-details {\n  display: none;\n  grid-column: 1 / -1;\n  margin-bottom: 5px;\n}\n\n.xr-section-summary-in:checked ~ .xr-section-details {\n  display: contents;\n}\n\n.xr-array-wrap {\n  grid-column: 1 / -1;\n  display: grid;\n  grid-template-columns: 20px auto;\n}\n\n.xr-array-wrap > label {\n  grid-column: 1;\n  vertical-align: top;\n}\n\n.xr-preview {\n  color: var(--xr-font-color3);\n}\n\n.xr-array-preview,\n.xr-array-data {\n  padding: 0 5px !important;\n  grid-column: 2;\n}\n\n.xr-array-data,\n.xr-array-in:checked ~ .xr-array-preview {\n  display: none;\n}\n\n.xr-array-in:checked ~ .xr-array-data,\n.xr-array-preview {\n  display: inline-block;\n}\n\n.xr-dim-list {\n  display: inline-block !important;\n  list-style: none;\n  padding: 0 !important;\n  margin: 0;\n}\n\n.xr-dim-list li {\n  display: inline-block;\n  padding: 0;\n  margin: 0;\n}\n\n.xr-dim-list:before {\n  content: '(';\n}\n\n.xr-dim-list:after {\n  content: ')';\n}\n\n.xr-dim-list li:not(:last-child):after {\n  content: ',';\n  padding-right: 5px;\n}\n\n.xr-has-index {\n  font-weight: bold;\n}\n\n.xr-var-list,\n.xr-var-item {\n  display: contents;\n}\n\n.xr-var-item > div,\n.xr-var-item label,\n.xr-var-item > .xr-var-name span {\n  background-color: var(--xr-background-color-row-even);\n  margin-bottom: 0;\n}\n\n.xr-var-item > .xr-var-name:hover span {\n  padding-right: 5px;\n}\n\n.xr-var-list > li:nth-child(odd) > div,\n.xr-var-list > li:nth-child(odd) > label,\n.xr-var-list > li:nth-child(odd) > .xr-var-name span {\n  background-color: var(--xr-background-color-row-odd);\n}\n\n.xr-var-name {\n  grid-column: 1;\n}\n\n.xr-var-dims {\n  grid-column: 2;\n}\n\n.xr-var-dtype {\n  grid-column: 3;\n  text-align: right;\n  color: var(--xr-font-color2);\n}\n\n.xr-var-preview {\n  grid-column: 4;\n}\n\n.xr-var-name,\n.xr-var-dims,\n.xr-var-dtype,\n.xr-preview,\n.xr-attrs dt {\n  white-space: nowrap;\n  overflow: hidden;\n  text-overflow: ellipsis;\n  padding-right: 10px;\n}\n\n.xr-var-name:hover,\n.xr-var-dims:hover,\n.xr-var-dtype:hover,\n.xr-attrs dt:hover {\n  overflow: visible;\n  width: auto;\n  z-index: 1;\n}\n\n.xr-var-attrs,\n.xr-var-data {\n  display: none;\n  background-color: var(--xr-background-color) !important;\n  padding-bottom: 5px !important;\n}\n\n.xr-var-attrs-in:checked ~ .xr-var-attrs,\n.xr-var-data-in:checked ~ .xr-var-data {\n  display: block;\n}\n\n.xr-var-data > table {\n  float: right;\n}\n\n.xr-var-name span,\n.xr-var-data,\n.xr-attrs {\n  padding-left: 25px !important;\n}\n\n.xr-attrs,\n.xr-var-attrs,\n.xr-var-data {\n  grid-column: 1 / -1;\n}\n\ndl.xr-attrs {\n  padding: 0;\n  margin: 0;\n  display: grid;\n  grid-template-columns: 125px auto;\n}\n\n.xr-attrs dt, dd {\n  padding: 0;\n  margin: 0;\n  float: left;\n  padding-right: 10px;\n  width: auto;\n}\n\n.xr-attrs dt {\n  font-weight: normal;\n  grid-column: 1;\n}\n\n.xr-attrs dt:hover span {\n  display: inline-block;\n  background: var(--xr-background-color);\n  padding-right: 10px;\n}\n\n.xr-attrs dd {\n  grid-column: 2;\n  white-space: pre-wrap;\n  word-break: break-all;\n}\n\n.xr-icon-database,\n.xr-icon-file-text2 {\n  display: inline-block;\n  vertical-align: middle;\n  width: 1em;\n  height: 1.5em !important;\n  stroke-width: 0;\n  stroke: currentColor;\n  fill: currentColor;\n}\n</style><pre class='xr-text-repr-fallback'>&lt;xarray.Dataset&gt;\nDimensions:          (time: 1217)\nCoordinates:\n  * time             (time) datetime64[ns] 2020-01-19T16:14:10 ... 2020-02-11...\nData variables:\n    s_time           (time) int64 3011 2955 2997 3152 ... 1060 1003 1021 1074\n    s_t              (time) int64 1383 1385 1387 1474 1456 ... 498 494 499 505\n    s_rh             (time) int64 1303 1318 1322 1404 1377 ... 502 498 494 508\n    s_p              (time) int64 1381 1383 1385 1473 1455 ... 498 494 499 506\n    s_z              (time) int64 274 1354 1347 1401 1390 ... 511 482 501 507\n    s_u              (time) int64 31 2715 2730 2780 2866 ... 965 926 889 919 916\n    s_v              (time) int64 31 2715 2730 2780 2866 ... 965 926 889 919 916\n    s_alt            (time) int64 1381 1383 1385 1473 1455 ... 475 498 494 499 1\n    ld_FLAG          (time) float64 1.0 1.0 1.0 1.0 1.0 ... 1.0 1.0 1.0 1.0 1.0\n    t_flag           (time) object &#x27;good&#x27; &#x27;good&#x27; &#x27;good&#x27; ... &#x27;good&#x27; &#x27;good&#x27; &#x27;good&#x27;\n    rh_flag          (time) object &#x27;good&#x27; &#x27;good&#x27; &#x27;good&#x27; ... &#x27;good&#x27; &#x27;good&#x27; &#x27;good&#x27;\n    p_flag           (time) object &#x27;good&#x27; &#x27;good&#x27; &#x27;good&#x27; ... &#x27;good&#x27; &#x27;good&#x27; &#x27;good&#x27;\n    z_flag           (time) object &#x27;ugly&#x27; &#x27;good&#x27; &#x27;good&#x27; ... &#x27;good&#x27; &#x27;good&#x27; &#x27;good&#x27;\n    u_flag           (time) object &#x27;ugly&#x27; &#x27;good&#x27; &#x27;good&#x27; ... &#x27;good&#x27; &#x27;good&#x27; &#x27;good&#x27;\n    v_flag           (time) object &#x27;ugly&#x27; &#x27;good&#x27; &#x27;good&#x27; ... &#x27;good&#x27; &#x27;good&#x27; &#x27;good&#x27;\n    alt_flag         (time) object &#x27;good&#x27; &#x27;good&#x27; &#x27;good&#x27; ... &#x27;good&#x27; &#x27;good&#x27; &#x27;ugly&#x27;\n    srf_p_flag       (time) float64 1.0 1.0 1.0 1.0 1.0 ... 1.0 1.0 1.0 1.0 1.0\n    srf_z_flag       (time) float64 1.0 1.0 1.0 1.0 1.0 ... 1.0 1.0 1.0 1.0 1.0\n    srf_t_flag       (time) float64 1.0 1.0 1.0 1.0 1.0 ... 1.0 1.0 1.0 1.0 1.0\n    srf_rh_flag      (time) float64 1.0 1.0 1.0 1.0 1.0 ... 1.0 1.0 1.0 1.0 1.0\n    rms_palt_gpsalt  (time) float64 1.0 1.0 1.0 1.0 1.0 ... 1.0 1.0 1.0 1.0 0.0\n    ind_FLAG         (time) object &#x27;UGLY&#x27; &#x27;GOOD&#x27; &#x27;GOOD&#x27; ... &#x27;GOOD&#x27; &#x27;GOOD&#x27; &#x27;UGLY&#x27;\n    srf_FLAG         (time) object &#x27;GOOD&#x27; &#x27;GOOD&#x27; &#x27;GOOD&#x27; ... &#x27;GOOD&#x27; &#x27;GOOD&#x27; &#x27;UGLY&#x27;\n    FLAG             (time) object &#x27;UGLY&#x27; &#x27;GOOD&#x27; &#x27;GOOD&#x27; ... &#x27;GOOD&#x27; &#x27;GOOD&#x27; &#x27;UGLY&#x27;</pre><div class='xr-wrap' hidden><div class='xr-header'><div class='xr-obj-type'>xarray.Dataset</div></div><ul class='xr-sections'><li class='xr-section-item'><input id='section-6cdcff8d-f08d-4a0b-97b4-aeb8a3278a90' class='xr-section-summary-in' type='checkbox' disabled ><label for='section-6cdcff8d-f08d-4a0b-97b4-aeb8a3278a90' class='xr-section-summary'  title='Expand/collapse section'>Dimensions:</label><div class='xr-section-inline-details'><ul class='xr-dim-list'><li><span class='xr-has-index'>time</span>: 1217</li></ul></div><div class='xr-section-details'></div></li><li class='xr-section-item'><input id='section-18813ea0-6965-43d6-8d18-9ce12a3e011f' class='xr-section-summary-in' type='checkbox'  checked><label for='section-18813ea0-6965-43d6-8d18-9ce12a3e011f' class='xr-section-summary' >Coordinates: <span>(1)</span></label><div class='xr-section-inline-details'></div><div class='xr-section-details'><ul class='xr-var-list'><li class='xr-var-item'><div class='xr-var-name'><span class='xr-has-index'>time</span></div><div class='xr-var-dims'>(time)</div><div class='xr-var-dtype'>datetime64[ns]</div><div class='xr-var-preview xr-preview'>2020-01-19T16:14:10 ... 2020-02-...</div><input id='attrs-d9f5358d-d29b-4b91-b217-9b690c370412' class='xr-var-attrs-in' type='checkbox' disabled><label for='attrs-d9f5358d-d29b-4b91-b217-9b690c370412' title='Show/Hide attributes'><svg class='icon xr-icon-file-text2'><use xlink:href='#icon-file-text2'></use></svg></label><input id='data-e96542a4-a021-4886-9aca-f4e4312e6de6' class='xr-var-data-in' type='checkbox'><label for='data-e96542a4-a021-4886-9aca-f4e4312e6de6' title='Show/Hide data repr'><svg class='icon xr-icon-database'><use xlink:href='#icon-database'></use></svg></label><div class='xr-var-attrs'><dl class='xr-attrs'></dl></div><div class='xr-var-data'><pre>array([&#x27;2020-01-19T16:14:10.000000000&#x27;, &#x27;2020-01-19T16:55:14.000000000&#x27;,\n       &#x27;2020-01-19T17:21:55.000000000&#x27;, ..., &#x27;2020-02-11T09:34:34.000000000&#x27;,\n       &#x27;2020-02-11T09:43:11.000000000&#x27;, &#x27;2020-02-11T09:48:23.000000000&#x27;],\n      dtype=&#x27;datetime64[ns]&#x27;)</pre></div></li></ul></div></li><li class='xr-section-item'><input id='section-60e98a43-c5cb-4047-a520-96d0b7f18273' class='xr-section-summary-in' type='checkbox'  ><label for='section-60e98a43-c5cb-4047-a520-96d0b7f18273' class='xr-section-summary' >Data variables: <span>(24)</span></label><div class='xr-section-inline-details'></div><div class='xr-section-details'><ul class='xr-var-list'><li class='xr-var-item'><div class='xr-var-name'><span>s_time</span></div><div class='xr-var-dims'>(time)</div><div class='xr-var-dtype'>int64</div><div class='xr-var-preview xr-preview'>3011 2955 2997 ... 1003 1021 1074</div><input id='attrs-8b02d2ab-42d8-4c81-819d-904ad9d6e273' class='xr-var-attrs-in' type='checkbox' disabled><label for='attrs-8b02d2ab-42d8-4c81-819d-904ad9d6e273' title='Show/Hide attributes'><svg class='icon xr-icon-file-text2'><use xlink:href='#icon-file-text2'></use></svg></label><input id='data-a262f3f6-a910-4de7-aeb8-814bde4cb035' class='xr-var-data-in' type='checkbox'><label for='data-a262f3f6-a910-4de7-aeb8-814bde4cb035' title='Show/Hide data repr'><svg class='icon xr-icon-database'><use xlink:href='#icon-database'></use></svg></label><div class='xr-var-attrs'><dl class='xr-attrs'></dl></div><div class='xr-var-data'><pre>array([3011, 2955, 2997, ..., 1003, 1021, 1074])</pre></div></li><li class='xr-var-item'><div class='xr-var-name'><span>s_t</span></div><div class='xr-var-dims'>(time)</div><div class='xr-var-dtype'>int64</div><div class='xr-var-preview xr-preview'>1383 1385 1387 1474 ... 494 499 505</div><input id='attrs-1d95985b-805f-481e-8da1-deafac88b102' class='xr-var-attrs-in' type='checkbox' disabled><label for='attrs-1d95985b-805f-481e-8da1-deafac88b102' title='Show/Hide attributes'><svg class='icon xr-icon-file-text2'><use xlink:href='#icon-file-text2'></use></svg></label><input id='data-ddf5509f-a130-4309-91cd-de527b3f7be9' class='xr-var-data-in' type='checkbox'><label for='data-ddf5509f-a130-4309-91cd-de527b3f7be9' title='Show/Hide data repr'><svg class='icon xr-icon-database'><use xlink:href='#icon-database'></use></svg></label><div class='xr-var-attrs'><dl class='xr-attrs'></dl></div><div class='xr-var-data'><pre>array([1383, 1385, 1387, ...,  494,  499,  505])</pre></div></li><li class='xr-var-item'><div class='xr-var-name'><span>s_rh</span></div><div class='xr-var-dims'>(time)</div><div class='xr-var-dtype'>int64</div><div class='xr-var-preview xr-preview'>1303 1318 1322 1404 ... 498 494 508</div><input id='attrs-31af40e6-0e17-4dd0-b6cd-ce0eb9817bf8' class='xr-var-attrs-in' type='checkbox' disabled><label for='attrs-31af40e6-0e17-4dd0-b6cd-ce0eb9817bf8' title='Show/Hide attributes'><svg class='icon xr-icon-file-text2'><use xlink:href='#icon-file-text2'></use></svg></label><input id='data-42830426-a2ab-4320-9f59-d3a6b2ff88cf' class='xr-var-data-in' type='checkbox'><label for='data-42830426-a2ab-4320-9f59-d3a6b2ff88cf' title='Show/Hide data repr'><svg class='icon xr-icon-database'><use xlink:href='#icon-database'></use></svg></label><div class='xr-var-attrs'><dl class='xr-attrs'></dl></div><div class='xr-var-data'><pre>array([1303, 1318, 1322, ...,  498,  494,  508])</pre></div></li><li class='xr-var-item'><div class='xr-var-name'><span>s_p</span></div><div class='xr-var-dims'>(time)</div><div class='xr-var-dtype'>int64</div><div class='xr-var-preview xr-preview'>1381 1383 1385 1473 ... 494 499 506</div><input id='attrs-a3b50ae4-a805-451a-a139-965e7125e8c8' class='xr-var-attrs-in' type='checkbox' disabled><label for='attrs-a3b50ae4-a805-451a-a139-965e7125e8c8' title='Show/Hide attributes'><svg class='icon xr-icon-file-text2'><use xlink:href='#icon-file-text2'></use></svg></label><input id='data-94dc5337-afc8-4a09-b348-757957302f92' class='xr-var-data-in' type='checkbox'><label for='data-94dc5337-afc8-4a09-b348-757957302f92' title='Show/Hide data repr'><svg class='icon xr-icon-database'><use xlink:href='#icon-database'></use></svg></label><div class='xr-var-attrs'><dl class='xr-attrs'></dl></div><div class='xr-var-data'><pre>array([1381, 1383, 1385, ...,  494,  499,  506])</pre></div></li><li class='xr-var-item'><div class='xr-var-name'><span>s_z</span></div><div class='xr-var-dims'>(time)</div><div class='xr-var-dtype'>int64</div><div class='xr-var-preview xr-preview'>274 1354 1347 1401 ... 482 501 507</div><input id='attrs-b851e5da-11fb-4ebf-bede-45e0fe1df03d' class='xr-var-attrs-in' type='checkbox' disabled><label for='attrs-b851e5da-11fb-4ebf-bede-45e0fe1df03d' title='Show/Hide attributes'><svg class='icon xr-icon-file-text2'><use xlink:href='#icon-file-text2'></use></svg></label><input id='data-1df7df3a-0293-459a-9173-bac21bf21c15' class='xr-var-data-in' type='checkbox'><label for='data-1df7df3a-0293-459a-9173-bac21bf21c15' title='Show/Hide data repr'><svg class='icon xr-icon-database'><use xlink:href='#icon-database'></use></svg></label><div class='xr-var-attrs'><dl class='xr-attrs'></dl></div><div class='xr-var-data'><pre>array([ 274, 1354, 1347, ...,  482,  501,  507])</pre></div></li><li class='xr-var-item'><div class='xr-var-name'><span>s_u</span></div><div class='xr-var-dims'>(time)</div><div class='xr-var-dtype'>int64</div><div class='xr-var-preview xr-preview'>31 2715 2730 2780 ... 889 919 916</div><input id='attrs-c23b1cfb-d904-41f3-8191-f75783680145' class='xr-var-attrs-in' type='checkbox' disabled><label for='attrs-c23b1cfb-d904-41f3-8191-f75783680145' title='Show/Hide attributes'><svg class='icon xr-icon-file-text2'><use xlink:href='#icon-file-text2'></use></svg></label><input id='data-759f8977-e4bd-4418-9df8-dfc1bae0d159' class='xr-var-data-in' type='checkbox'><label for='data-759f8977-e4bd-4418-9df8-dfc1bae0d159' title='Show/Hide data repr'><svg class='icon xr-icon-database'><use xlink:href='#icon-database'></use></svg></label><div class='xr-var-attrs'><dl class='xr-attrs'></dl></div><div class='xr-var-data'><pre>array([  31, 2715, 2730, ...,  889,  919,  916])</pre></div></li><li class='xr-var-item'><div class='xr-var-name'><span>s_v</span></div><div class='xr-var-dims'>(time)</div><div class='xr-var-dtype'>int64</div><div class='xr-var-preview xr-preview'>31 2715 2730 2780 ... 889 919 916</div><input id='attrs-4bbbafe7-3587-49ed-8e4a-6a966e706f2b' class='xr-var-attrs-in' type='checkbox' disabled><label for='attrs-4bbbafe7-3587-49ed-8e4a-6a966e706f2b' title='Show/Hide attributes'><svg class='icon xr-icon-file-text2'><use xlink:href='#icon-file-text2'></use></svg></label><input id='data-19d6a1d1-6baf-485e-b8f6-eb54a005c371' class='xr-var-data-in' type='checkbox'><label for='data-19d6a1d1-6baf-485e-b8f6-eb54a005c371' title='Show/Hide data repr'><svg class='icon xr-icon-database'><use xlink:href='#icon-database'></use></svg></label><div class='xr-var-attrs'><dl class='xr-attrs'></dl></div><div class='xr-var-data'><pre>array([  31, 2715, 2730, ...,  889,  919,  916])</pre></div></li><li class='xr-var-item'><div class='xr-var-name'><span>s_alt</span></div><div class='xr-var-dims'>(time)</div><div class='xr-var-dtype'>int64</div><div class='xr-var-preview xr-preview'>1381 1383 1385 1473 ... 494 499 1</div><input id='attrs-c70e562a-8b1b-4792-a9e5-3b2215312bbf' class='xr-var-attrs-in' type='checkbox' disabled><label for='attrs-c70e562a-8b1b-4792-a9e5-3b2215312bbf' title='Show/Hide attributes'><svg class='icon xr-icon-file-text2'><use xlink:href='#icon-file-text2'></use></svg></label><input id='data-2665745c-491b-4063-85bc-b6833a8e0113' class='xr-var-data-in' type='checkbox'><label for='data-2665745c-491b-4063-85bc-b6833a8e0113' title='Show/Hide data repr'><svg class='icon xr-icon-database'><use xlink:href='#icon-database'></use></svg></label><div class='xr-var-attrs'><dl class='xr-attrs'></dl></div><div class='xr-var-data'><pre>array([1381, 1383, 1385, ...,  494,  499,    1])</pre></div></li><li class='xr-var-item'><div class='xr-var-name'><span>ld_FLAG</span></div><div class='xr-var-dims'>(time)</div><div class='xr-var-dtype'>float64</div><div class='xr-var-preview xr-preview'>1.0 1.0 1.0 1.0 ... 1.0 1.0 1.0 1.0</div><input id='attrs-075bc4da-7316-4f9f-a2fb-348e9b1a7d2a' class='xr-var-attrs-in' type='checkbox' disabled><label for='attrs-075bc4da-7316-4f9f-a2fb-348e9b1a7d2a' title='Show/Hide attributes'><svg class='icon xr-icon-file-text2'><use xlink:href='#icon-file-text2'></use></svg></label><input id='data-67a0ebf0-c390-4f05-b364-97dede7bc2ef' class='xr-var-data-in' type='checkbox'><label for='data-67a0ebf0-c390-4f05-b364-97dede7bc2ef' title='Show/Hide data repr'><svg class='icon xr-icon-database'><use xlink:href='#icon-database'></use></svg></label><div class='xr-var-attrs'><dl class='xr-attrs'></dl></div><div class='xr-var-data'><pre>array([1., 1., 1., ..., 1., 1., 1.])</pre></div></li><li class='xr-var-item'><div class='xr-var-name'><span>t_flag</span></div><div class='xr-var-dims'>(time)</div><div class='xr-var-dtype'>object</div><div class='xr-var-preview xr-preview'>&#x27;good&#x27; &#x27;good&#x27; ... &#x27;good&#x27; &#x27;good&#x27;</div><input id='attrs-143cdcb1-c57b-42ee-9d71-6b305dabf775' class='xr-var-attrs-in' type='checkbox' disabled><label for='attrs-143cdcb1-c57b-42ee-9d71-6b305dabf775' title='Show/Hide attributes'><svg class='icon xr-icon-file-text2'><use xlink:href='#icon-file-text2'></use></svg></label><input id='data-ac20867a-6214-48b9-8574-bcd06b13d16e' class='xr-var-data-in' type='checkbox'><label for='data-ac20867a-6214-48b9-8574-bcd06b13d16e' title='Show/Hide data repr'><svg class='icon xr-icon-database'><use xlink:href='#icon-database'></use></svg></label><div class='xr-var-attrs'><dl class='xr-attrs'></dl></div><div class='xr-var-data'><pre>array([&#x27;good&#x27;, &#x27;good&#x27;, &#x27;good&#x27;, ..., &#x27;good&#x27;, &#x27;good&#x27;, &#x27;good&#x27;], dtype=object)</pre></div></li><li class='xr-var-item'><div class='xr-var-name'><span>rh_flag</span></div><div class='xr-var-dims'>(time)</div><div class='xr-var-dtype'>object</div><div class='xr-var-preview xr-preview'>&#x27;good&#x27; &#x27;good&#x27; ... &#x27;good&#x27; &#x27;good&#x27;</div><input id='attrs-cad323dd-9bcc-46d0-8a4a-4ca66d6f8ecb' class='xr-var-attrs-in' type='checkbox' disabled><label for='attrs-cad323dd-9bcc-46d0-8a4a-4ca66d6f8ecb' title='Show/Hide attributes'><svg class='icon xr-icon-file-text2'><use xlink:href='#icon-file-text2'></use></svg></label><input id='data-6dd346f4-25c5-4427-8578-0638b3c2a86e' class='xr-var-data-in' type='checkbox'><label for='data-6dd346f4-25c5-4427-8578-0638b3c2a86e' title='Show/Hide data repr'><svg class='icon xr-icon-database'><use xlink:href='#icon-database'></use></svg></label><div class='xr-var-attrs'><dl class='xr-attrs'></dl></div><div class='xr-var-data'><pre>array([&#x27;good&#x27;, &#x27;good&#x27;, &#x27;good&#x27;, ..., &#x27;good&#x27;, &#x27;good&#x27;, &#x27;good&#x27;], dtype=object)</pre></div></li><li class='xr-var-item'><div class='xr-var-name'><span>p_flag</span></div><div class='xr-var-dims'>(time)</div><div class='xr-var-dtype'>object</div><div class='xr-var-preview xr-preview'>&#x27;good&#x27; &#x27;good&#x27; ... &#x27;good&#x27; &#x27;good&#x27;</div><input id='attrs-14439c55-940d-4e0f-94be-7f862cd16cde' class='xr-var-attrs-in' type='checkbox' disabled><label for='attrs-14439c55-940d-4e0f-94be-7f862cd16cde' title='Show/Hide attributes'><svg class='icon xr-icon-file-text2'><use xlink:href='#icon-file-text2'></use></svg></label><input id='data-1091f176-b946-403e-9876-579a9809f24c' class='xr-var-data-in' type='checkbox'><label for='data-1091f176-b946-403e-9876-579a9809f24c' title='Show/Hide data repr'><svg class='icon xr-icon-database'><use xlink:href='#icon-database'></use></svg></label><div class='xr-var-attrs'><dl class='xr-attrs'></dl></div><div class='xr-var-data'><pre>array([&#x27;good&#x27;, &#x27;good&#x27;, &#x27;good&#x27;, ..., &#x27;good&#x27;, &#x27;good&#x27;, &#x27;good&#x27;], dtype=object)</pre></div></li><li class='xr-var-item'><div class='xr-var-name'><span>z_flag</span></div><div class='xr-var-dims'>(time)</div><div class='xr-var-dtype'>object</div><div class='xr-var-preview xr-preview'>&#x27;ugly&#x27; &#x27;good&#x27; ... &#x27;good&#x27; &#x27;good&#x27;</div><input id='attrs-09b21608-c34b-4e6b-95c3-2884693ab9d2' class='xr-var-attrs-in' type='checkbox' disabled><label for='attrs-09b21608-c34b-4e6b-95c3-2884693ab9d2' title='Show/Hide attributes'><svg class='icon xr-icon-file-text2'><use xlink:href='#icon-file-text2'></use></svg></label><input id='data-28a373c3-d33c-4799-be02-69356a04f11e' class='xr-var-data-in' type='checkbox'><label for='data-28a373c3-d33c-4799-be02-69356a04f11e' title='Show/Hide data repr'><svg class='icon xr-icon-database'><use xlink:href='#icon-database'></use></svg></label><div class='xr-var-attrs'><dl class='xr-attrs'></dl></div><div class='xr-var-data'><pre>array([&#x27;ugly&#x27;, &#x27;good&#x27;, &#x27;good&#x27;, ..., &#x27;good&#x27;, &#x27;good&#x27;, &#x27;good&#x27;], dtype=object)</pre></div></li><li class='xr-var-item'><div class='xr-var-name'><span>u_flag</span></div><div class='xr-var-dims'>(time)</div><div class='xr-var-dtype'>object</div><div class='xr-var-preview xr-preview'>&#x27;ugly&#x27; &#x27;good&#x27; ... &#x27;good&#x27; &#x27;good&#x27;</div><input id='attrs-ea8afae0-3fe9-40c0-9697-1af887205f13' class='xr-var-attrs-in' type='checkbox' disabled><label for='attrs-ea8afae0-3fe9-40c0-9697-1af887205f13' title='Show/Hide attributes'><svg class='icon xr-icon-file-text2'><use xlink:href='#icon-file-text2'></use></svg></label><input id='data-49b6c6e0-030c-4a24-b901-6fc3bb9565ab' class='xr-var-data-in' type='checkbox'><label for='data-49b6c6e0-030c-4a24-b901-6fc3bb9565ab' title='Show/Hide data repr'><svg class='icon xr-icon-database'><use xlink:href='#icon-database'></use></svg></label><div class='xr-var-attrs'><dl class='xr-attrs'></dl></div><div class='xr-var-data'><pre>array([&#x27;ugly&#x27;, &#x27;good&#x27;, &#x27;good&#x27;, ..., &#x27;good&#x27;, &#x27;good&#x27;, &#x27;good&#x27;], dtype=object)</pre></div></li><li class='xr-var-item'><div class='xr-var-name'><span>v_flag</span></div><div class='xr-var-dims'>(time)</div><div class='xr-var-dtype'>object</div><div class='xr-var-preview xr-preview'>&#x27;ugly&#x27; &#x27;good&#x27; ... &#x27;good&#x27; &#x27;good&#x27;</div><input id='attrs-284b2cbc-6a65-4628-8c1e-c7971a074200' class='xr-var-attrs-in' type='checkbox' disabled><label for='attrs-284b2cbc-6a65-4628-8c1e-c7971a074200' title='Show/Hide attributes'><svg class='icon xr-icon-file-text2'><use xlink:href='#icon-file-text2'></use></svg></label><input id='data-68cb08f1-b820-481a-b525-2e9cefb0ffdd' class='xr-var-data-in' type='checkbox'><label for='data-68cb08f1-b820-481a-b525-2e9cefb0ffdd' title='Show/Hide data repr'><svg class='icon xr-icon-database'><use xlink:href='#icon-database'></use></svg></label><div class='xr-var-attrs'><dl class='xr-attrs'></dl></div><div class='xr-var-data'><pre>array([&#x27;ugly&#x27;, &#x27;good&#x27;, &#x27;good&#x27;, ..., &#x27;good&#x27;, &#x27;good&#x27;, &#x27;good&#x27;], dtype=object)</pre></div></li><li class='xr-var-item'><div class='xr-var-name'><span>alt_flag</span></div><div class='xr-var-dims'>(time)</div><div class='xr-var-dtype'>object</div><div class='xr-var-preview xr-preview'>&#x27;good&#x27; &#x27;good&#x27; ... &#x27;good&#x27; &#x27;ugly&#x27;</div><input id='attrs-74116674-4778-4681-94bf-5886ac492809' class='xr-var-attrs-in' type='checkbox' disabled><label for='attrs-74116674-4778-4681-94bf-5886ac492809' title='Show/Hide attributes'><svg class='icon xr-icon-file-text2'><use xlink:href='#icon-file-text2'></use></svg></label><input id='data-551aa6b3-0ffc-43a2-88af-f8e3f1685bfc' class='xr-var-data-in' type='checkbox'><label for='data-551aa6b3-0ffc-43a2-88af-f8e3f1685bfc' title='Show/Hide data repr'><svg class='icon xr-icon-database'><use xlink:href='#icon-database'></use></svg></label><div class='xr-var-attrs'><dl class='xr-attrs'></dl></div><div class='xr-var-data'><pre>array([&#x27;good&#x27;, &#x27;good&#x27;, &#x27;good&#x27;, ..., &#x27;good&#x27;, &#x27;good&#x27;, &#x27;ugly&#x27;], dtype=object)</pre></div></li><li class='xr-var-item'><div class='xr-var-name'><span>srf_p_flag</span></div><div class='xr-var-dims'>(time)</div><div class='xr-var-dtype'>float64</div><div class='xr-var-preview xr-preview'>1.0 1.0 1.0 1.0 ... 1.0 1.0 1.0 1.0</div><input id='attrs-c4bc1242-8b8d-4269-8a9d-d37a9f6b104b' class='xr-var-attrs-in' type='checkbox' disabled><label for='attrs-c4bc1242-8b8d-4269-8a9d-d37a9f6b104b' title='Show/Hide attributes'><svg class='icon xr-icon-file-text2'><use xlink:href='#icon-file-text2'></use></svg></label><input id='data-12027973-4d28-4de4-ac46-90132fa8ec6c' class='xr-var-data-in' type='checkbox'><label for='data-12027973-4d28-4de4-ac46-90132fa8ec6c' title='Show/Hide data repr'><svg class='icon xr-icon-database'><use xlink:href='#icon-database'></use></svg></label><div class='xr-var-attrs'><dl class='xr-attrs'></dl></div><div class='xr-var-data'><pre>array([1., 1., 1., ..., 1., 1., 1.])</pre></div></li><li class='xr-var-item'><div class='xr-var-name'><span>srf_z_flag</span></div><div class='xr-var-dims'>(time)</div><div class='xr-var-dtype'>float64</div><div class='xr-var-preview xr-preview'>1.0 1.0 1.0 1.0 ... 1.0 1.0 1.0 1.0</div><input id='attrs-b913eec8-c4c2-44fa-814a-63a6e5815b89' class='xr-var-attrs-in' type='checkbox' disabled><label for='attrs-b913eec8-c4c2-44fa-814a-63a6e5815b89' title='Show/Hide attributes'><svg class='icon xr-icon-file-text2'><use xlink:href='#icon-file-text2'></use></svg></label><input id='data-8ccb4cda-a439-4da6-97c6-d3760aa7893d' class='xr-var-data-in' type='checkbox'><label for='data-8ccb4cda-a439-4da6-97c6-d3760aa7893d' title='Show/Hide data repr'><svg class='icon xr-icon-database'><use xlink:href='#icon-database'></use></svg></label><div class='xr-var-attrs'><dl class='xr-attrs'></dl></div><div class='xr-var-data'><pre>array([1., 1., 1., ..., 1., 1., 1.])</pre></div></li><li class='xr-var-item'><div class='xr-var-name'><span>srf_t_flag</span></div><div class='xr-var-dims'>(time)</div><div class='xr-var-dtype'>float64</div><div class='xr-var-preview xr-preview'>1.0 1.0 1.0 1.0 ... 1.0 1.0 1.0 1.0</div><input id='attrs-a96b5861-fdb6-4cc5-8dbf-28b3b22e1690' class='xr-var-attrs-in' type='checkbox' disabled><label for='attrs-a96b5861-fdb6-4cc5-8dbf-28b3b22e1690' title='Show/Hide attributes'><svg class='icon xr-icon-file-text2'><use xlink:href='#icon-file-text2'></use></svg></label><input id='data-98f6324d-2588-4984-bf99-81a3f0cd6bc1' class='xr-var-data-in' type='checkbox'><label for='data-98f6324d-2588-4984-bf99-81a3f0cd6bc1' title='Show/Hide data repr'><svg class='icon xr-icon-database'><use xlink:href='#icon-database'></use></svg></label><div class='xr-var-attrs'><dl class='xr-attrs'></dl></div><div class='xr-var-data'><pre>array([1., 1., 1., ..., 1., 1., 1.])</pre></div></li><li class='xr-var-item'><div class='xr-var-name'><span>srf_rh_flag</span></div><div class='xr-var-dims'>(time)</div><div class='xr-var-dtype'>float64</div><div class='xr-var-preview xr-preview'>1.0 1.0 1.0 1.0 ... 1.0 1.0 1.0 1.0</div><input id='attrs-e6ef57fd-e057-4d1c-8a70-c2bd39be3910' class='xr-var-attrs-in' type='checkbox' disabled><label for='attrs-e6ef57fd-e057-4d1c-8a70-c2bd39be3910' title='Show/Hide attributes'><svg class='icon xr-icon-file-text2'><use xlink:href='#icon-file-text2'></use></svg></label><input id='data-c7f6ef4a-66de-4971-94de-5ef6c97f17ea' class='xr-var-data-in' type='checkbox'><label for='data-c7f6ef4a-66de-4971-94de-5ef6c97f17ea' title='Show/Hide data repr'><svg class='icon xr-icon-database'><use xlink:href='#icon-database'></use></svg></label><div class='xr-var-attrs'><dl class='xr-attrs'></dl></div><div class='xr-var-data'><pre>array([1., 1., 1., ..., 1., 1., 1.])</pre></div></li><li class='xr-var-item'><div class='xr-var-name'><span>rms_palt_gpsalt</span></div><div class='xr-var-dims'>(time)</div><div class='xr-var-dtype'>float64</div><div class='xr-var-preview xr-preview'>1.0 1.0 1.0 1.0 ... 1.0 1.0 1.0 0.0</div><input id='attrs-f67dd09c-967d-4bb4-a4d7-c1c2042b9aae' class='xr-var-attrs-in' type='checkbox' disabled><label for='attrs-f67dd09c-967d-4bb4-a4d7-c1c2042b9aae' title='Show/Hide attributes'><svg class='icon xr-icon-file-text2'><use xlink:href='#icon-file-text2'></use></svg></label><input id='data-848b1ee2-ffe8-4519-9f77-8c087eaf6196' class='xr-var-data-in' type='checkbox'><label for='data-848b1ee2-ffe8-4519-9f77-8c087eaf6196' title='Show/Hide data repr'><svg class='icon xr-icon-database'><use xlink:href='#icon-database'></use></svg></label><div class='xr-var-attrs'><dl class='xr-attrs'></dl></div><div class='xr-var-data'><pre>array([1., 1., 1., ..., 1., 1., 0.])</pre></div></li><li class='xr-var-item'><div class='xr-var-name'><span>ind_FLAG</span></div><div class='xr-var-dims'>(time)</div><div class='xr-var-dtype'>object</div><div class='xr-var-preview xr-preview'>&#x27;UGLY&#x27; &#x27;GOOD&#x27; ... &#x27;GOOD&#x27; &#x27;UGLY&#x27;</div><input id='attrs-b849d835-8dff-4dbb-b55e-1a52c0afcb8e' class='xr-var-attrs-in' type='checkbox' disabled><label for='attrs-b849d835-8dff-4dbb-b55e-1a52c0afcb8e' title='Show/Hide attributes'><svg class='icon xr-icon-file-text2'><use xlink:href='#icon-file-text2'></use></svg></label><input id='data-af7a026c-804b-419b-b602-cb35cb3f027e' class='xr-var-data-in' type='checkbox'><label for='data-af7a026c-804b-419b-b602-cb35cb3f027e' title='Show/Hide data repr'><svg class='icon xr-icon-database'><use xlink:href='#icon-database'></use></svg></label><div class='xr-var-attrs'><dl class='xr-attrs'></dl></div><div class='xr-var-data'><pre>array([&#x27;UGLY&#x27;, &#x27;GOOD&#x27;, &#x27;GOOD&#x27;, ..., &#x27;GOOD&#x27;, &#x27;GOOD&#x27;, &#x27;UGLY&#x27;], dtype=object)</pre></div></li><li class='xr-var-item'><div class='xr-var-name'><span>srf_FLAG</span></div><div class='xr-var-dims'>(time)</div><div class='xr-var-dtype'>object</div><div class='xr-var-preview xr-preview'>&#x27;GOOD&#x27; &#x27;GOOD&#x27; ... &#x27;GOOD&#x27; &#x27;UGLY&#x27;</div><input id='attrs-3791892a-db81-4870-9433-5b0b40043e67' class='xr-var-attrs-in' type='checkbox' disabled><label for='attrs-3791892a-db81-4870-9433-5b0b40043e67' title='Show/Hide attributes'><svg class='icon xr-icon-file-text2'><use xlink:href='#icon-file-text2'></use></svg></label><input id='data-ef4f8361-4e9e-46f0-861d-2762aa1a62e9' class='xr-var-data-in' type='checkbox'><label for='data-ef4f8361-4e9e-46f0-861d-2762aa1a62e9' title='Show/Hide data repr'><svg class='icon xr-icon-database'><use xlink:href='#icon-database'></use></svg></label><div class='xr-var-attrs'><dl class='xr-attrs'></dl></div><div class='xr-var-data'><pre>array([&#x27;GOOD&#x27;, &#x27;GOOD&#x27;, &#x27;GOOD&#x27;, ..., &#x27;GOOD&#x27;, &#x27;GOOD&#x27;, &#x27;UGLY&#x27;], dtype=object)</pre></div></li><li class='xr-var-item'><div class='xr-var-name'><span>FLAG</span></div><div class='xr-var-dims'>(time)</div><div class='xr-var-dtype'>object</div><div class='xr-var-preview xr-preview'>&#x27;UGLY&#x27; &#x27;GOOD&#x27; ... &#x27;GOOD&#x27; &#x27;UGLY&#x27;</div><input id='attrs-a008e656-03fa-4ca7-b3b9-19775702fd24' class='xr-var-attrs-in' type='checkbox' disabled><label for='attrs-a008e656-03fa-4ca7-b3b9-19775702fd24' title='Show/Hide attributes'><svg class='icon xr-icon-file-text2'><use xlink:href='#icon-file-text2'></use></svg></label><input id='data-336809f3-cd4e-41b0-955d-12d22f98be81' class='xr-var-data-in' type='checkbox'><label for='data-336809f3-cd4e-41b0-955d-12d22f98be81' title='Show/Hide data repr'><svg class='icon xr-icon-database'><use xlink:href='#icon-database'></use></svg></label><div class='xr-var-attrs'><dl class='xr-attrs'></dl></div><div class='xr-var-data'><pre>array([&#x27;UGLY&#x27;, &#x27;GOOD&#x27;, &#x27;GOOD&#x27;, ..., &#x27;GOOD&#x27;, &#x27;GOOD&#x27;, &#x27;UGLY&#x27;], dtype=object)</pre></div></li></ul></div></li><li class='xr-section-item'><input id='section-c68806a4-4832-45d0-a4f0-afa251f767fc' class='xr-section-summary-in' type='checkbox' disabled ><label for='section-c68806a4-4832-45d0-a4f0-afa251f767fc' class='xr-section-summary'  title='Expand/collapse section'>Attributes: <span>(0)</span></label><div class='xr-section-inline-details'></div><div class='xr-section-details'><dl class='xr-attrs'></dl></div></li></ul></div></div>"
     },
     "metadata": {},
     "execution_count": 39
    }
   ],
   "source": [
    "qc"
   ]
  },
  {
   "cell_type": "code",
   "execution_count": 46,
   "metadata": {},
   "outputs": [
    {
     "output_type": "execute_result",
     "data": {
      "text/plain": [
       "<xarray.DataArray 'time' (time: 44)>\n",
       "array(['2020-01-22T18:05:25.000000000', '2020-01-22T20:49:52.000000000',\n",
       "       '2020-01-22T20:57:59.000000000', '2020-01-22T21:56:53.000000000',\n",
       "       '2020-01-24T09:52:42.000000000', '2020-01-24T10:06:24.000000000',\n",
       "       '2020-01-24T16:22:13.000000000', '2020-01-24T16:50:56.000000000',\n",
       "       '2020-01-26T13:57:29.000000000', '2020-01-26T18:45:31.000000000',\n",
       "       '2020-01-28T17:47:54.000000000', '2020-01-31T15:21:53.000000000',\n",
       "       '2020-01-31T17:13:36.000000000', '2020-01-31T18:38:48.000000000',\n",
       "       '2020-01-31T18:47:54.000000000', '2020-02-02T13:57:35.000000000',\n",
       "       '2020-02-02T14:03:40.000000000', '2020-02-02T16:03:59.000000000',\n",
       "       '2020-02-02T17:02:07.000000000', '2020-02-02T18:56:02.000000000',\n",
       "       '2020-02-05T11:08:48.000000000', '2020-02-05T11:27:26.000000000',\n",
       "       '2020-02-05T11:37:16.000000000', '2020-02-05T15:10:47.000000000',\n",
       "       '2020-02-05T15:55:34.000000000', '2020-02-05T16:09:44.000000000',\n",
       "       '2020-02-05T16:29:21.000000000', '2020-02-07T13:48:18.000000000',\n",
       "       '2020-02-07T14:52:20.000000000', '2020-02-07T15:11:16.000000000',\n",
       "       '2020-02-07T17:31:01.000000000', '2020-02-07T19:16:29.000000000',\n",
       "       '2020-02-07T19:47:59.000000000', '2020-02-09T10:02:41.000000000',\n",
       "       '2020-02-09T10:59:49.000000000', '2020-02-09T11:11:41.000000000',\n",
       "       '2020-02-09T13:44:40.000000000', '2020-02-11T17:20:20.000000000',\n",
       "       '2020-02-13T09:16:22.000000000', '2020-02-18T12:42:33.000000000',\n",
       "       '2020-01-31T18:18:14.000000000', '2020-02-03T14:24:57.000000000',\n",
       "       '2020-02-04T15:48:15.000000000', '2020-02-11T07:19:45.000000000'],\n",
       "      dtype='datetime64[ns]')\n",
       "Coordinates:\n",
       "  * time     (time) datetime64[ns] 2020-01-22T18:05:25 ... 2020-02-11T07:19:45"
      ],
      "text/html": "<div><svg style=\"position: absolute; width: 0; height: 0; overflow: hidden\">\n<defs>\n<symbol id=\"icon-database\" viewBox=\"0 0 32 32\">\n<path d=\"M16 0c-8.837 0-16 2.239-16 5v4c0 2.761 7.163 5 16 5s16-2.239 16-5v-4c0-2.761-7.163-5-16-5z\"></path>\n<path d=\"M16 17c-8.837 0-16-2.239-16-5v6c0 2.761 7.163 5 16 5s16-2.239 16-5v-6c0 2.761-7.163 5-16 5z\"></path>\n<path d=\"M16 26c-8.837 0-16-2.239-16-5v6c0 2.761 7.163 5 16 5s16-2.239 16-5v-6c0 2.761-7.163 5-16 5z\"></path>\n</symbol>\n<symbol id=\"icon-file-text2\" viewBox=\"0 0 32 32\">\n<path d=\"M28.681 7.159c-0.694-0.947-1.662-2.053-2.724-3.116s-2.169-2.030-3.116-2.724c-1.612-1.182-2.393-1.319-2.841-1.319h-15.5c-1.378 0-2.5 1.121-2.5 2.5v27c0 1.378 1.122 2.5 2.5 2.5h23c1.378 0 2.5-1.122 2.5-2.5v-19.5c0-0.448-0.137-1.23-1.319-2.841zM24.543 5.457c0.959 0.959 1.712 1.825 2.268 2.543h-4.811v-4.811c0.718 0.556 1.584 1.309 2.543 2.268zM28 29.5c0 0.271-0.229 0.5-0.5 0.5h-23c-0.271 0-0.5-0.229-0.5-0.5v-27c0-0.271 0.229-0.5 0.5-0.5 0 0 15.499-0 15.5 0v7c0 0.552 0.448 1 1 1h7v19.5z\"></path>\n<path d=\"M23 26h-14c-0.552 0-1-0.448-1-1s0.448-1 1-1h14c0.552 0 1 0.448 1 1s-0.448 1-1 1z\"></path>\n<path d=\"M23 22h-14c-0.552 0-1-0.448-1-1s0.448-1 1-1h14c0.552 0 1 0.448 1 1s-0.448 1-1 1z\"></path>\n<path d=\"M23 18h-14c-0.552 0-1-0.448-1-1s0.448-1 1-1h14c0.552 0 1 0.448 1 1s-0.448 1-1 1z\"></path>\n</symbol>\n</defs>\n</svg>\n<style>/* CSS stylesheet for displaying xarray objects in jupyterlab.\n *\n */\n\n:root {\n  --xr-font-color0: var(--jp-content-font-color0, rgba(0, 0, 0, 1));\n  --xr-font-color2: var(--jp-content-font-color2, rgba(0, 0, 0, 0.54));\n  --xr-font-color3: var(--jp-content-font-color3, rgba(0, 0, 0, 0.38));\n  --xr-border-color: var(--jp-border-color2, #e0e0e0);\n  --xr-disabled-color: var(--jp-layout-color3, #bdbdbd);\n  --xr-background-color: var(--jp-layout-color0, white);\n  --xr-background-color-row-even: var(--jp-layout-color1, white);\n  --xr-background-color-row-odd: var(--jp-layout-color2, #eeeeee);\n}\n\nhtml[theme=dark],\nbody.vscode-dark {\n  --xr-font-color0: rgba(255, 255, 255, 1);\n  --xr-font-color2: rgba(255, 255, 255, 0.54);\n  --xr-font-color3: rgba(255, 255, 255, 0.38);\n  --xr-border-color: #1F1F1F;\n  --xr-disabled-color: #515151;\n  --xr-background-color: #111111;\n  --xr-background-color-row-even: #111111;\n  --xr-background-color-row-odd: #313131;\n}\n\n.xr-wrap {\n  display: block;\n  min-width: 300px;\n  max-width: 700px;\n}\n\n.xr-text-repr-fallback {\n  /* fallback to plain text repr when CSS is not injected (untrusted notebook) */\n  display: none;\n}\n\n.xr-header {\n  padding-top: 6px;\n  padding-bottom: 6px;\n  margin-bottom: 4px;\n  border-bottom: solid 1px var(--xr-border-color);\n}\n\n.xr-header > div,\n.xr-header > ul {\n  display: inline;\n  margin-top: 0;\n  margin-bottom: 0;\n}\n\n.xr-obj-type,\n.xr-array-name {\n  margin-left: 2px;\n  margin-right: 10px;\n}\n\n.xr-obj-type {\n  color: var(--xr-font-color2);\n}\n\n.xr-sections {\n  padding-left: 0 !important;\n  display: grid;\n  grid-template-columns: 150px auto auto 1fr 20px 20px;\n}\n\n.xr-section-item {\n  display: contents;\n}\n\n.xr-section-item input {\n  display: none;\n}\n\n.xr-section-item input + label {\n  color: var(--xr-disabled-color);\n}\n\n.xr-section-item input:enabled + label {\n  cursor: pointer;\n  color: var(--xr-font-color2);\n}\n\n.xr-section-item input:enabled + label:hover {\n  color: var(--xr-font-color0);\n}\n\n.xr-section-summary {\n  grid-column: 1;\n  color: var(--xr-font-color2);\n  font-weight: 500;\n}\n\n.xr-section-summary > span {\n  display: inline-block;\n  padding-left: 0.5em;\n}\n\n.xr-section-summary-in:disabled + label {\n  color: var(--xr-font-color2);\n}\n\n.xr-section-summary-in + label:before {\n  display: inline-block;\n  content: '►';\n  font-size: 11px;\n  width: 15px;\n  text-align: center;\n}\n\n.xr-section-summary-in:disabled + label:before {\n  color: var(--xr-disabled-color);\n}\n\n.xr-section-summary-in:checked + label:before {\n  content: '▼';\n}\n\n.xr-section-summary-in:checked + label > span {\n  display: none;\n}\n\n.xr-section-summary,\n.xr-section-inline-details {\n  padding-top: 4px;\n  padding-bottom: 4px;\n}\n\n.xr-section-inline-details {\n  grid-column: 2 / -1;\n}\n\n.xr-section-details {\n  display: none;\n  grid-column: 1 / -1;\n  margin-bottom: 5px;\n}\n\n.xr-section-summary-in:checked ~ .xr-section-details {\n  display: contents;\n}\n\n.xr-array-wrap {\n  grid-column: 1 / -1;\n  display: grid;\n  grid-template-columns: 20px auto;\n}\n\n.xr-array-wrap > label {\n  grid-column: 1;\n  vertical-align: top;\n}\n\n.xr-preview {\n  color: var(--xr-font-color3);\n}\n\n.xr-array-preview,\n.xr-array-data {\n  padding: 0 5px !important;\n  grid-column: 2;\n}\n\n.xr-array-data,\n.xr-array-in:checked ~ .xr-array-preview {\n  display: none;\n}\n\n.xr-array-in:checked ~ .xr-array-data,\n.xr-array-preview {\n  display: inline-block;\n}\n\n.xr-dim-list {\n  display: inline-block !important;\n  list-style: none;\n  padding: 0 !important;\n  margin: 0;\n}\n\n.xr-dim-list li {\n  display: inline-block;\n  padding: 0;\n  margin: 0;\n}\n\n.xr-dim-list:before {\n  content: '(';\n}\n\n.xr-dim-list:after {\n  content: ')';\n}\n\n.xr-dim-list li:not(:last-child):after {\n  content: ',';\n  padding-right: 5px;\n}\n\n.xr-has-index {\n  font-weight: bold;\n}\n\n.xr-var-list,\n.xr-var-item {\n  display: contents;\n}\n\n.xr-var-item > div,\n.xr-var-item label,\n.xr-var-item > .xr-var-name span {\n  background-color: var(--xr-background-color-row-even);\n  margin-bottom: 0;\n}\n\n.xr-var-item > .xr-var-name:hover span {\n  padding-right: 5px;\n}\n\n.xr-var-list > li:nth-child(odd) > div,\n.xr-var-list > li:nth-child(odd) > label,\n.xr-var-list > li:nth-child(odd) > .xr-var-name span {\n  background-color: var(--xr-background-color-row-odd);\n}\n\n.xr-var-name {\n  grid-column: 1;\n}\n\n.xr-var-dims {\n  grid-column: 2;\n}\n\n.xr-var-dtype {\n  grid-column: 3;\n  text-align: right;\n  color: var(--xr-font-color2);\n}\n\n.xr-var-preview {\n  grid-column: 4;\n}\n\n.xr-var-name,\n.xr-var-dims,\n.xr-var-dtype,\n.xr-preview,\n.xr-attrs dt {\n  white-space: nowrap;\n  overflow: hidden;\n  text-overflow: ellipsis;\n  padding-right: 10px;\n}\n\n.xr-var-name:hover,\n.xr-var-dims:hover,\n.xr-var-dtype:hover,\n.xr-attrs dt:hover {\n  overflow: visible;\n  width: auto;\n  z-index: 1;\n}\n\n.xr-var-attrs,\n.xr-var-data {\n  display: none;\n  background-color: var(--xr-background-color) !important;\n  padding-bottom: 5px !important;\n}\n\n.xr-var-attrs-in:checked ~ .xr-var-attrs,\n.xr-var-data-in:checked ~ .xr-var-data {\n  display: block;\n}\n\n.xr-var-data > table {\n  float: right;\n}\n\n.xr-var-name span,\n.xr-var-data,\n.xr-attrs {\n  padding-left: 25px !important;\n}\n\n.xr-attrs,\n.xr-var-attrs,\n.xr-var-data {\n  grid-column: 1 / -1;\n}\n\ndl.xr-attrs {\n  padding: 0;\n  margin: 0;\n  display: grid;\n  grid-template-columns: 125px auto;\n}\n\n.xr-attrs dt, dd {\n  padding: 0;\n  margin: 0;\n  float: left;\n  padding-right: 10px;\n  width: auto;\n}\n\n.xr-attrs dt {\n  font-weight: normal;\n  grid-column: 1;\n}\n\n.xr-attrs dt:hover span {\n  display: inline-block;\n  background: var(--xr-background-color);\n  padding-right: 10px;\n}\n\n.xr-attrs dd {\n  grid-column: 2;\n  white-space: pre-wrap;\n  word-break: break-all;\n}\n\n.xr-icon-database,\n.xr-icon-file-text2 {\n  display: inline-block;\n  vertical-align: middle;\n  width: 1em;\n  height: 1.5em !important;\n  stroke-width: 0;\n  stroke: currentColor;\n  fill: currentColor;\n}\n</style><pre class='xr-text-repr-fallback'>&lt;xarray.DataArray &#x27;time&#x27; (time: 44)&gt;\narray([&#x27;2020-01-22T18:05:25.000000000&#x27;, &#x27;2020-01-22T20:49:52.000000000&#x27;,\n       &#x27;2020-01-22T20:57:59.000000000&#x27;, &#x27;2020-01-22T21:56:53.000000000&#x27;,\n       &#x27;2020-01-24T09:52:42.000000000&#x27;, &#x27;2020-01-24T10:06:24.000000000&#x27;,\n       &#x27;2020-01-24T16:22:13.000000000&#x27;, &#x27;2020-01-24T16:50:56.000000000&#x27;,\n       &#x27;2020-01-26T13:57:29.000000000&#x27;, &#x27;2020-01-26T18:45:31.000000000&#x27;,\n       &#x27;2020-01-28T17:47:54.000000000&#x27;, &#x27;2020-01-31T15:21:53.000000000&#x27;,\n       &#x27;2020-01-31T17:13:36.000000000&#x27;, &#x27;2020-01-31T18:38:48.000000000&#x27;,\n       &#x27;2020-01-31T18:47:54.000000000&#x27;, &#x27;2020-02-02T13:57:35.000000000&#x27;,\n       &#x27;2020-02-02T14:03:40.000000000&#x27;, &#x27;2020-02-02T16:03:59.000000000&#x27;,\n       &#x27;2020-02-02T17:02:07.000000000&#x27;, &#x27;2020-02-02T18:56:02.000000000&#x27;,\n       &#x27;2020-02-05T11:08:48.000000000&#x27;, &#x27;2020-02-05T11:27:26.000000000&#x27;,\n       &#x27;2020-02-05T11:37:16.000000000&#x27;, &#x27;2020-02-05T15:10:47.000000000&#x27;,\n       &#x27;2020-02-05T15:55:34.000000000&#x27;, &#x27;2020-02-05T16:09:44.000000000&#x27;,\n       &#x27;2020-02-05T16:29:21.000000000&#x27;, &#x27;2020-02-07T13:48:18.000000000&#x27;,\n       &#x27;2020-02-07T14:52:20.000000000&#x27;, &#x27;2020-02-07T15:11:16.000000000&#x27;,\n       &#x27;2020-02-07T17:31:01.000000000&#x27;, &#x27;2020-02-07T19:16:29.000000000&#x27;,\n       &#x27;2020-02-07T19:47:59.000000000&#x27;, &#x27;2020-02-09T10:02:41.000000000&#x27;,\n       &#x27;2020-02-09T10:59:49.000000000&#x27;, &#x27;2020-02-09T11:11:41.000000000&#x27;,\n       &#x27;2020-02-09T13:44:40.000000000&#x27;, &#x27;2020-02-11T17:20:20.000000000&#x27;,\n       &#x27;2020-02-13T09:16:22.000000000&#x27;, &#x27;2020-02-18T12:42:33.000000000&#x27;,\n       &#x27;2020-01-31T18:18:14.000000000&#x27;, &#x27;2020-02-03T14:24:57.000000000&#x27;,\n       &#x27;2020-02-04T15:48:15.000000000&#x27;, &#x27;2020-02-11T07:19:45.000000000&#x27;],\n      dtype=&#x27;datetime64[ns]&#x27;)\nCoordinates:\n  * time     (time) datetime64[ns] 2020-01-22T18:05:25 ... 2020-02-11T07:19:45</pre><div class='xr-wrap' hidden><div class='xr-header'><div class='xr-obj-type'>xarray.DataArray</div><div class='xr-array-name'>'time'</div><ul class='xr-dim-list'><li><span class='xr-has-index'>time</span>: 44</li></ul></div><ul class='xr-sections'><li class='xr-section-item'><div class='xr-array-wrap'><input id='section-bb7dd0f2-0fa6-4b7d-87c3-4fc1c7852d5b' class='xr-array-in' type='checkbox' checked><label for='section-bb7dd0f2-0fa6-4b7d-87c3-4fc1c7852d5b' title='Show/hide data repr'><svg class='icon xr-icon-database'><use xlink:href='#icon-database'></use></svg></label><div class='xr-array-preview xr-preview'><span>2020-01-22T18:05:25 2020-01-22T20:49:52 ... 2020-02-11T07:19:45</span></div><div class='xr-array-data'><pre>array([&#x27;2020-01-22T18:05:25.000000000&#x27;, &#x27;2020-01-22T20:49:52.000000000&#x27;,\n       &#x27;2020-01-22T20:57:59.000000000&#x27;, &#x27;2020-01-22T21:56:53.000000000&#x27;,\n       &#x27;2020-01-24T09:52:42.000000000&#x27;, &#x27;2020-01-24T10:06:24.000000000&#x27;,\n       &#x27;2020-01-24T16:22:13.000000000&#x27;, &#x27;2020-01-24T16:50:56.000000000&#x27;,\n       &#x27;2020-01-26T13:57:29.000000000&#x27;, &#x27;2020-01-26T18:45:31.000000000&#x27;,\n       &#x27;2020-01-28T17:47:54.000000000&#x27;, &#x27;2020-01-31T15:21:53.000000000&#x27;,\n       &#x27;2020-01-31T17:13:36.000000000&#x27;, &#x27;2020-01-31T18:38:48.000000000&#x27;,\n       &#x27;2020-01-31T18:47:54.000000000&#x27;, &#x27;2020-02-02T13:57:35.000000000&#x27;,\n       &#x27;2020-02-02T14:03:40.000000000&#x27;, &#x27;2020-02-02T16:03:59.000000000&#x27;,\n       &#x27;2020-02-02T17:02:07.000000000&#x27;, &#x27;2020-02-02T18:56:02.000000000&#x27;,\n       &#x27;2020-02-05T11:08:48.000000000&#x27;, &#x27;2020-02-05T11:27:26.000000000&#x27;,\n       &#x27;2020-02-05T11:37:16.000000000&#x27;, &#x27;2020-02-05T15:10:47.000000000&#x27;,\n       &#x27;2020-02-05T15:55:34.000000000&#x27;, &#x27;2020-02-05T16:09:44.000000000&#x27;,\n       &#x27;2020-02-05T16:29:21.000000000&#x27;, &#x27;2020-02-07T13:48:18.000000000&#x27;,\n       &#x27;2020-02-07T14:52:20.000000000&#x27;, &#x27;2020-02-07T15:11:16.000000000&#x27;,\n       &#x27;2020-02-07T17:31:01.000000000&#x27;, &#x27;2020-02-07T19:16:29.000000000&#x27;,\n       &#x27;2020-02-07T19:47:59.000000000&#x27;, &#x27;2020-02-09T10:02:41.000000000&#x27;,\n       &#x27;2020-02-09T10:59:49.000000000&#x27;, &#x27;2020-02-09T11:11:41.000000000&#x27;,\n       &#x27;2020-02-09T13:44:40.000000000&#x27;, &#x27;2020-02-11T17:20:20.000000000&#x27;,\n       &#x27;2020-02-13T09:16:22.000000000&#x27;, &#x27;2020-02-18T12:42:33.000000000&#x27;,\n       &#x27;2020-01-31T18:18:14.000000000&#x27;, &#x27;2020-02-03T14:24:57.000000000&#x27;,\n       &#x27;2020-02-04T15:48:15.000000000&#x27;, &#x27;2020-02-11T07:19:45.000000000&#x27;],\n      dtype=&#x27;datetime64[ns]&#x27;)</pre></div></div></li><li class='xr-section-item'><input id='section-1d687adc-ecff-4ec3-83e9-5b0b04e16782' class='xr-section-summary-in' type='checkbox'  checked><label for='section-1d687adc-ecff-4ec3-83e9-5b0b04e16782' class='xr-section-summary' >Coordinates: <span>(1)</span></label><div class='xr-section-inline-details'></div><div class='xr-section-details'><ul class='xr-var-list'><li class='xr-var-item'><div class='xr-var-name'><span class='xr-has-index'>time</span></div><div class='xr-var-dims'>(time)</div><div class='xr-var-dtype'>datetime64[ns]</div><div class='xr-var-preview xr-preview'>2020-01-22T18:05:25 ... 2020-02-...</div><input id='attrs-7d79f1be-c1b3-4c2f-b9c6-66f3848a381a' class='xr-var-attrs-in' type='checkbox' disabled><label for='attrs-7d79f1be-c1b3-4c2f-b9c6-66f3848a381a' title='Show/Hide attributes'><svg class='icon xr-icon-file-text2'><use xlink:href='#icon-file-text2'></use></svg></label><input id='data-9be4f5d4-283f-44a0-9f46-cf2f7754d11c' class='xr-var-data-in' type='checkbox'><label for='data-9be4f5d4-283f-44a0-9f46-cf2f7754d11c' title='Show/Hide data repr'><svg class='icon xr-icon-database'><use xlink:href='#icon-database'></use></svg></label><div class='xr-var-attrs'><dl class='xr-attrs'></dl></div><div class='xr-var-data'><pre>array([&#x27;2020-01-22T18:05:25.000000000&#x27;, &#x27;2020-01-22T20:49:52.000000000&#x27;,\n       &#x27;2020-01-22T20:57:59.000000000&#x27;, &#x27;2020-01-22T21:56:53.000000000&#x27;,\n       &#x27;2020-01-24T09:52:42.000000000&#x27;, &#x27;2020-01-24T10:06:24.000000000&#x27;,\n       &#x27;2020-01-24T16:22:13.000000000&#x27;, &#x27;2020-01-24T16:50:56.000000000&#x27;,\n       &#x27;2020-01-26T13:57:29.000000000&#x27;, &#x27;2020-01-26T18:45:31.000000000&#x27;,\n       &#x27;2020-01-28T17:47:54.000000000&#x27;, &#x27;2020-01-31T15:21:53.000000000&#x27;,\n       &#x27;2020-01-31T17:13:36.000000000&#x27;, &#x27;2020-01-31T18:38:48.000000000&#x27;,\n       &#x27;2020-01-31T18:47:54.000000000&#x27;, &#x27;2020-02-02T13:57:35.000000000&#x27;,\n       &#x27;2020-02-02T14:03:40.000000000&#x27;, &#x27;2020-02-02T16:03:59.000000000&#x27;,\n       &#x27;2020-02-02T17:02:07.000000000&#x27;, &#x27;2020-02-02T18:56:02.000000000&#x27;,\n       &#x27;2020-02-05T11:08:48.000000000&#x27;, &#x27;2020-02-05T11:27:26.000000000&#x27;,\n       &#x27;2020-02-05T11:37:16.000000000&#x27;, &#x27;2020-02-05T15:10:47.000000000&#x27;,\n       &#x27;2020-02-05T15:55:34.000000000&#x27;, &#x27;2020-02-05T16:09:44.000000000&#x27;,\n       &#x27;2020-02-05T16:29:21.000000000&#x27;, &#x27;2020-02-07T13:48:18.000000000&#x27;,\n       &#x27;2020-02-07T14:52:20.000000000&#x27;, &#x27;2020-02-07T15:11:16.000000000&#x27;,\n       &#x27;2020-02-07T17:31:01.000000000&#x27;, &#x27;2020-02-07T19:16:29.000000000&#x27;,\n       &#x27;2020-02-07T19:47:59.000000000&#x27;, &#x27;2020-02-09T10:02:41.000000000&#x27;,\n       &#x27;2020-02-09T10:59:49.000000000&#x27;, &#x27;2020-02-09T11:11:41.000000000&#x27;,\n       &#x27;2020-02-09T13:44:40.000000000&#x27;, &#x27;2020-02-11T17:20:20.000000000&#x27;,\n       &#x27;2020-02-13T09:16:22.000000000&#x27;, &#x27;2020-02-18T12:42:33.000000000&#x27;,\n       &#x27;2020-01-31T18:18:14.000000000&#x27;, &#x27;2020-02-03T14:24:57.000000000&#x27;,\n       &#x27;2020-02-04T15:48:15.000000000&#x27;, &#x27;2020-02-11T07:19:45.000000000&#x27;],\n      dtype=&#x27;datetime64[ns]&#x27;)</pre></div></li></ul></div></li><li class='xr-section-item'><input id='section-2383e8ea-6f55-45dc-9e48-01dd91262978' class='xr-section-summary-in' type='checkbox' disabled ><label for='section-2383e8ea-6f55-45dc-9e48-01dd91262978' class='xr-section-summary'  title='Expand/collapse section'>Attributes: <span>(0)</span></label><div class='xr-section-inline-details'></div><div class='xr-section-details'><dl class='xr-attrs'></dl></div></li></ul></div></div>"
     },
     "metadata": {},
     "execution_count": 46
    }
   ],
   "source": [
    "qc.time.where((qc.ind_FLAG=='UGLY') & (qc.ld_FLAG == 0),drop=True)"
   ]
  },
  {
   "cell_type": "code",
   "execution_count": null,
   "metadata": {},
   "outputs": [],
   "source": []
  }
 ]
}